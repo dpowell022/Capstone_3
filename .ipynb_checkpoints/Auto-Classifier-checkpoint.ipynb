{
 "cells": [
  {
   "cell_type": "markdown",
   "id": "ef27509e",
   "metadata": {},
   "source": [
    "## Helpdesk Issue Classification"
   ]
  },
  {
   "cell_type": "code",
   "execution_count": 1,
   "id": "93277338",
   "metadata": {},
   "outputs": [],
   "source": [
    "import pandas as pd\n",
    "import seaborn as sns\n",
    "import matplotlib.pyplot as plt\n",
    "import numpy as np"
   ]
  },
  {
   "cell_type": "markdown",
   "id": "b76e6632",
   "metadata": {},
   "source": [
    "#### READ IN LOCAL DATA DUMP "
   ]
  },
  {
   "cell_type": "code",
   "execution_count": 2,
   "id": "b9585ac9",
   "metadata": {},
   "outputs": [],
   "source": [
    "data_raw = pd.read_excel(\"incident_data.xlsx\")"
   ]
  },
  {
   "cell_type": "markdown",
   "id": "f4bf89fc",
   "metadata": {},
   "source": [
    "#### INITIAL EXAMINATION OF THE DATA, SHAPE AND SAMPLE ROWS"
   ]
  },
  {
   "cell_type": "code",
   "execution_count": 3,
   "id": "553a1288",
   "metadata": {
    "scrolled": true
   },
   "outputs": [
    {
     "name": "stdout",
     "output_type": "stream",
     "text": [
      "Raw data shape: (4802, 31) \n",
      "\n"
     ]
    },
    {
     "data": {
      "text/html": [
       "<div>\n",
       "<style scoped>\n",
       "    .dataframe tbody tr th:only-of-type {\n",
       "        vertical-align: middle;\n",
       "    }\n",
       "\n",
       "    .dataframe tbody tr th {\n",
       "        vertical-align: top;\n",
       "    }\n",
       "\n",
       "    .dataframe thead th {\n",
       "        text-align: right;\n",
       "    }\n",
       "</style>\n",
       "<table border=\"1\" class=\"dataframe\">\n",
       "  <thead>\n",
       "    <tr style=\"text-align: right;\">\n",
       "      <th></th>\n",
       "      <th>Incident Identifier(NEOS)</th>\n",
       "      <th>Created Date</th>\n",
       "      <th>Solution End Date Time TZ (Inc)</th>\n",
       "      <th>Duration Hours</th>\n",
       "      <th>NEOS1\\n</th>\n",
       "      <th>Team Name (Inc)</th>\n",
       "      <th>Master Customer Name (Inc)</th>\n",
       "      <th>Master Customer Number (Inc)</th>\n",
       "      <th>Customer Name</th>\n",
       "      <th>Site Name (Inc)</th>\n",
       "      <th>...</th>\n",
       "      <th>Product Cat Tier 3</th>\n",
       "      <th>Product Cat Tier 4</th>\n",
       "      <th>Resolution Product Cat Tier 1</th>\n",
       "      <th>Resolution Product Cat Tier 2</th>\n",
       "      <th>Resolution Product Cat Tier 3</th>\n",
       "      <th>Resolution Product Cat Tier 4</th>\n",
       "      <th>FCR</th>\n",
       "      <th>RR</th>\n",
       "      <th>Closed by</th>\n",
       "      <th>Incident Status Description (Inc)</th>\n",
       "    </tr>\n",
       "  </thead>\n",
       "  <tbody>\n",
       "    <tr>\n",
       "      <th>0</th>\n",
       "      <td>INC000018813521</td>\n",
       "      <td>2022-05-16 01:27:37</td>\n",
       "      <td>2022-05-16 01:46:02</td>\n",
       "      <td>0.306944</td>\n",
       "      <td>NEOS</td>\n",
       "      <td>HSR/Enterprise Aloha Popeyes Incident Management</td>\n",
       "      <td>ELITE CAJUN FOODS LLC</td>\n",
       "      <td>10198326</td>\n",
       "      <td>Popeyes Louisiana Kitchen (Brand)</td>\n",
       "      <td>POPEYES #12486 9747099</td>\n",
       "      <td>...</td>\n",
       "      <td>HW Failure</td>\n",
       "      <td>NaN</td>\n",
       "      <td>z_PinPad / CC Machine</td>\n",
       "      <td>Won't Read</td>\n",
       "      <td>HW Failure</td>\n",
       "      <td>NaN</td>\n",
       "      <td>1</td>\n",
       "      <td>0</td>\n",
       "      <td>ir250108</td>\n",
       "      <td>Fixed</td>\n",
       "    </tr>\n",
       "    <tr>\n",
       "      <th>1</th>\n",
       "      <td>INC000018814008</td>\n",
       "      <td>2022-05-16 02:12:31</td>\n",
       "      <td>2022-05-20 13:24:17</td>\n",
       "      <td>107.196111</td>\n",
       "      <td>NEOS</td>\n",
       "      <td>HSR/Enterprise Aloha Popeyes Escalated Management</td>\n",
       "      <td>ELA FOODS, INC</td>\n",
       "      <td>10134521</td>\n",
       "      <td>Popeyes Louisiana Kitchen (Brand)</td>\n",
       "      <td>POPEYES #7375 9691011</td>\n",
       "      <td>...</td>\n",
       "      <td>Items crossed out</td>\n",
       "      <td>NaN</td>\n",
       "      <td>z_Aloha Takeout</td>\n",
       "      <td>Online ordering</td>\n",
       "      <td>Items crossed out</td>\n",
       "      <td>NaN</td>\n",
       "      <td>0</td>\n",
       "      <td>0</td>\n",
       "      <td>tc250273</td>\n",
       "      <td>Fixed</td>\n",
       "    </tr>\n",
       "    <tr>\n",
       "      <th>2</th>\n",
       "      <td>INC000018814015</td>\n",
       "      <td>2022-05-16 02:14:57</td>\n",
       "      <td>2022-05-20 15:41:04</td>\n",
       "      <td>109.435278</td>\n",
       "      <td>NEOS</td>\n",
       "      <td>HSR/Enterprise Aloha Popeyes Escalated Management</td>\n",
       "      <td>SUNSHINE FOODS INC</td>\n",
       "      <td>10190529</td>\n",
       "      <td>Popeyes Louisiana Kitchen (Brand)</td>\n",
       "      <td>POPEYES #11362 9730270</td>\n",
       "      <td>...</td>\n",
       "      <td>Items crossed out</td>\n",
       "      <td>NaN</td>\n",
       "      <td>z_Aloha Takeout</td>\n",
       "      <td>Online ordering</td>\n",
       "      <td>Items crossed out</td>\n",
       "      <td>NaN</td>\n",
       "      <td>0</td>\n",
       "      <td>0</td>\n",
       "      <td>tc250273</td>\n",
       "      <td>Fixed</td>\n",
       "    </tr>\n",
       "    <tr>\n",
       "      <th>3</th>\n",
       "      <td>INC000018814050</td>\n",
       "      <td>2022-05-16 02:35:38</td>\n",
       "      <td>2022-05-16 02:36:24</td>\n",
       "      <td>0.012778</td>\n",
       "      <td>NEOS</td>\n",
       "      <td>HSR/Enterprise Aloha Popeyes Incident Management</td>\n",
       "      <td>TOP GOLF USA INC.</td>\n",
       "      <td>9970469</td>\n",
       "      <td>Top Golf USa INC.</td>\n",
       "      <td>TOP GOLF - FORT WORTH 10278846</td>\n",
       "      <td>...</td>\n",
       "      <td>Configuration</td>\n",
       "      <td>NaN</td>\n",
       "      <td>z_Electronic Draft Capture</td>\n",
       "      <td>Back Of House</td>\n",
       "      <td>Configuration</td>\n",
       "      <td>NaN</td>\n",
       "      <td>1</td>\n",
       "      <td>0</td>\n",
       "      <td>vo185020</td>\n",
       "      <td>Fixed</td>\n",
       "    </tr>\n",
       "    <tr>\n",
       "      <th>4</th>\n",
       "      <td>INC000018815586</td>\n",
       "      <td>2022-05-16 04:51:19</td>\n",
       "      <td>2022-05-16 04:52:30</td>\n",
       "      <td>0.019722</td>\n",
       "      <td>NEOS</td>\n",
       "      <td>HSR/Enterprise Aloha Critical Incident Managem...</td>\n",
       "      <td>Krystal Restaurants LLC</td>\n",
       "      <td>7392911</td>\n",
       "      <td>Krystal Company</td>\n",
       "      <td>KRYSTAL COL001 7468107</td>\n",
       "      <td>...</td>\n",
       "      <td>Enroll fingerprint</td>\n",
       "      <td>NaN</td>\n",
       "      <td>z_Aloha POS</td>\n",
       "      <td>Front Of House</td>\n",
       "      <td>Enroll fingerprint</td>\n",
       "      <td>NaN</td>\n",
       "      <td>1</td>\n",
       "      <td>0</td>\n",
       "      <td>ai250176</td>\n",
       "      <td>Fixed</td>\n",
       "    </tr>\n",
       "  </tbody>\n",
       "</table>\n",
       "<p>5 rows × 31 columns</p>\n",
       "</div>"
      ],
      "text/plain": [
       "  Incident Identifier(NEOS)         Created Date  \\\n",
       "0           INC000018813521  2022-05-16 01:27:37   \n",
       "1           INC000018814008  2022-05-16 02:12:31   \n",
       "2           INC000018814015  2022-05-16 02:14:57   \n",
       "3           INC000018814050  2022-05-16 02:35:38   \n",
       "4           INC000018815586  2022-05-16 04:51:19   \n",
       "\n",
       "  Solution End Date Time TZ (Inc)  Duration Hours NEOS1\\n  \\\n",
       "0             2022-05-16 01:46:02        0.306944    NEOS   \n",
       "1             2022-05-20 13:24:17      107.196111    NEOS   \n",
       "2             2022-05-20 15:41:04      109.435278    NEOS   \n",
       "3             2022-05-16 02:36:24        0.012778    NEOS   \n",
       "4             2022-05-16 04:52:30        0.019722    NEOS   \n",
       "\n",
       "                                     Team Name (Inc)  \\\n",
       "0   HSR/Enterprise Aloha Popeyes Incident Management   \n",
       "1  HSR/Enterprise Aloha Popeyes Escalated Management   \n",
       "2  HSR/Enterprise Aloha Popeyes Escalated Management   \n",
       "3   HSR/Enterprise Aloha Popeyes Incident Management   \n",
       "4  HSR/Enterprise Aloha Critical Incident Managem...   \n",
       "\n",
       "  Master Customer Name (Inc)  Master Customer Number (Inc)  \\\n",
       "0      ELITE CAJUN FOODS LLC                      10198326   \n",
       "1             ELA FOODS, INC                      10134521   \n",
       "2         SUNSHINE FOODS INC                      10190529   \n",
       "3          TOP GOLF USA INC.                       9970469   \n",
       "4    Krystal Restaurants LLC                       7392911   \n",
       "\n",
       "                       Customer Name                 Site Name (Inc)  ...  \\\n",
       "0  Popeyes Louisiana Kitchen (Brand)          POPEYES #12486 9747099  ...   \n",
       "1  Popeyes Louisiana Kitchen (Brand)           POPEYES #7375 9691011  ...   \n",
       "2  Popeyes Louisiana Kitchen (Brand)          POPEYES #11362 9730270  ...   \n",
       "3                  Top Golf USa INC.  TOP GOLF - FORT WORTH 10278846  ...   \n",
       "4                    Krystal Company          KRYSTAL COL001 7468107  ...   \n",
       "\n",
       "   Product Cat Tier 3  Product Cat Tier 4 Resolution Product Cat Tier 1  \\\n",
       "0          HW Failure                 NaN         z_PinPad / CC Machine   \n",
       "1   Items crossed out                 NaN               z_Aloha Takeout   \n",
       "2   Items crossed out                 NaN               z_Aloha Takeout   \n",
       "3       Configuration                 NaN    z_Electronic Draft Capture   \n",
       "4  Enroll fingerprint                 NaN                   z_Aloha POS   \n",
       "\n",
       "  Resolution Product Cat Tier 2 Resolution Product Cat Tier 3  \\\n",
       "0                    Won't Read                    HW Failure   \n",
       "1               Online ordering             Items crossed out   \n",
       "2               Online ordering             Items crossed out   \n",
       "3                 Back Of House                 Configuration   \n",
       "4                Front Of House            Enroll fingerprint   \n",
       "\n",
       "  Resolution Product Cat Tier 4 FCR RR Closed by  \\\n",
       "0                           NaN   1  0  ir250108   \n",
       "1                           NaN   0  0  tc250273   \n",
       "2                           NaN   0  0  tc250273   \n",
       "3                           NaN   1  0  vo185020   \n",
       "4                           NaN   1  0  ai250176   \n",
       "\n",
       "  Incident Status Description (Inc)  \n",
       "0                             Fixed  \n",
       "1                             Fixed  \n",
       "2                             Fixed  \n",
       "3                             Fixed  \n",
       "4                             Fixed  \n",
       "\n",
       "[5 rows x 31 columns]"
      ]
     },
     "execution_count": 3,
     "metadata": {},
     "output_type": "execute_result"
    }
   ],
   "source": [
    "print(\"Raw data shape:\", data_raw.shape, '\\n')\n",
    "data_raw.head()"
   ]
  },
  {
   "cell_type": "markdown",
   "id": "5e2721a7",
   "metadata": {},
   "source": [
    "#### CHECK DATA FOR DTYPES"
   ]
  },
  {
   "cell_type": "code",
   "execution_count": 4,
   "id": "3d7c467e",
   "metadata": {},
   "outputs": [
    {
     "data": {
      "text/plain": [
       "Incident Identifier(NEOS)             object\n",
       "Created Date                          object\n",
       "Solution End Date Time TZ (Inc)       object\n",
       "Duration Hours                       float64\n",
       "NEOS1\\n                               object\n",
       "Team Name (Inc)                       object\n",
       "Master Customer Name (Inc)            object\n",
       "Master Customer Number (Inc)           int64\n",
       "Customer Name                         object\n",
       "Site Name (Inc)                       object\n",
       "City (Inc)                            object\n",
       "Severity Code (Inc)                    int64\n",
       "Problem Note Text (Inc)               object\n",
       "Action Notes                          object\n",
       "Submitter Name (Inc)                  object\n",
       "Operational Catogerization Tier 1     object\n",
       "Operational Catogerization Tier 2     object\n",
       "Operational Catogerization Tier 3     object\n",
       "NEOS2                                 object\n",
       "Product Cat Tier 1                    object\n",
       "Product Cat Tier 2                    object\n",
       "Product Cat Tier 3                    object\n",
       "Product Cat Tier 4                    object\n",
       "Resolution Product Cat Tier 1         object\n",
       "Resolution Product Cat Tier 2         object\n",
       "Resolution Product Cat Tier 3         object\n",
       "Resolution Product Cat Tier 4         object\n",
       "FCR                                    int64\n",
       "RR                                     int64\n",
       "Closed by                             object\n",
       "Incident Status Description (Inc)     object\n",
       "dtype: object"
      ]
     },
     "execution_count": 4,
     "metadata": {},
     "output_type": "execute_result"
    }
   ],
   "source": [
    "data_raw.dtypes"
   ]
  },
  {
   "cell_type": "markdown",
   "id": "707c6f43",
   "metadata": {},
   "source": [
    "#### We need to correct the data type of several numeric columns that should be Objects instead of Int/Float, or ensure data consistency across Object features"
   ]
  },
  {
   "cell_type": "code",
   "execution_count": 5,
   "id": "59d423bd",
   "metadata": {},
   "outputs": [],
   "source": [
    "data_raw['Severity Code (Inc)'] = data_raw['Severity Code (Inc)'].astype(\"object\")\n",
    "data_raw['FCR'] = data_raw['FCR'].astype(\"object\")\n",
    "data_raw['RR'] = data_raw['RR'].astype(\"object\")\n",
    "\n",
    "data_raw['Product Cat Tier 1'] = data_raw['Product Cat Tier 1'].astype(\"string\")\n",
    "data_raw['Product Cat Tier 2'] = data_raw['Product Cat Tier 2'].astype(\"string\")\n",
    "data_raw['Product Cat Tier 3'] = data_raw['Product Cat Tier 3'].astype(\"string\")\n"
   ]
  },
  {
   "cell_type": "markdown",
   "id": "9c0b7791",
   "metadata": {},
   "source": [
    "#### REMOVE COLUMNS UNNEEDED FOR MODEL\n",
    "#### COLUMNS REMOVED HAVE NO VALUABLE ASSOCIATION WITH THE CATEGORIZATION\n",
    "##### Separate out the Resolution Categories and Prod_cat4, which will be outside the scope of this project\n",
    "###### <i> Res_cat selections are the same as Prod_cat, but are categorized by the agent at the end of the ticket cycle instead of at the onset. We are less concerned with Res_cat </i>"
   ]
  },
  {
   "cell_type": "code",
   "execution_count": 6,
   "id": "2730fe1d",
   "metadata": {},
   "outputs": [],
   "source": [
    "res_cats = data_raw[[\"Product Cat Tier 4\", \"Resolution Product Cat Tier 1\", \"Resolution Product Cat Tier 2\", \n",
    "                     \"Resolution Product Cat Tier 3\", \"Resolution Product Cat Tier 4\"]]\n",
    "                     \n",
    "drop_columns= [\"Incident Identifier(NEOS)\", \"Solution End Date Time TZ (Inc)\", \"NEOS1\\n\", \n",
    "               \"Master Customer Name (Inc)\", \"Master Customer Number (Inc)\", \n",
    "               \"Site Name (Inc)\", 'City (Inc)', \"Submitter Name (Inc)\", \n",
    "               \"Operational Catogerization Tier 1\", \"Operational Catogerization Tier 2\",\n",
    "               \"Operational Catogerization Tier 3\", \"Product Cat Tier 4\", \"Resolution Product Cat Tier 1\", \n",
    "               \"Resolution Product Cat Tier 2\", \"Resolution Product Cat Tier 3\", \n",
    "               \"Resolution Product Cat Tier 4\", \"NEOS2\", \"Closed by\", \n",
    "               \"Incident Status Description (Inc)\"]\n",
    "data_cols= data_raw.drop(drop_columns, axis=1)"
   ]
  },
  {
   "cell_type": "code",
   "execution_count": 7,
   "id": "3c2d8f0a",
   "metadata": {},
   "outputs": [
    {
     "data": {
      "text/html": [
       "<div>\n",
       "<style scoped>\n",
       "    .dataframe tbody tr th:only-of-type {\n",
       "        vertical-align: middle;\n",
       "    }\n",
       "\n",
       "    .dataframe tbody tr th {\n",
       "        vertical-align: top;\n",
       "    }\n",
       "\n",
       "    .dataframe thead th {\n",
       "        text-align: right;\n",
       "    }\n",
       "</style>\n",
       "<table border=\"1\" class=\"dataframe\">\n",
       "  <thead>\n",
       "    <tr style=\"text-align: right;\">\n",
       "      <th></th>\n",
       "      <th>Created Date</th>\n",
       "      <th>Duration Hours</th>\n",
       "      <th>Team Name (Inc)</th>\n",
       "      <th>Customer Name</th>\n",
       "      <th>Severity Code (Inc)</th>\n",
       "      <th>Problem Note Text (Inc)</th>\n",
       "      <th>Action Notes</th>\n",
       "      <th>Product Cat Tier 1</th>\n",
       "      <th>Product Cat Tier 2</th>\n",
       "      <th>Product Cat Tier 3</th>\n",
       "      <th>FCR</th>\n",
       "      <th>RR</th>\n",
       "    </tr>\n",
       "  </thead>\n",
       "  <tbody>\n",
       "    <tr>\n",
       "      <th>0</th>\n",
       "      <td>2022-05-16 01:27:37</td>\n",
       "      <td>0.306944</td>\n",
       "      <td>HSR/Enterprise Aloha Popeyes Incident Management</td>\n",
       "      <td>Popeyes Louisiana Kitchen (Brand)</td>\n",
       "      <td>0</td>\n",
       "      <td>VF All PP's Down  Site Key: #354767</td>\n",
       "      <td>2022-05-16 00:27 - ir250108\\nWorking Log: Fiel...</td>\n",
       "      <td>z_PinPad / CC Machine</td>\n",
       "      <td>Won't Read</td>\n",
       "      <td>HW Failure</td>\n",
       "      <td>1</td>\n",
       "      <td>0</td>\n",
       "    </tr>\n",
       "    <tr>\n",
       "      <th>1</th>\n",
       "      <td>2022-05-16 02:12:31</td>\n",
       "      <td>107.196111</td>\n",
       "      <td>HSR/Enterprise Aloha Popeyes Escalated Management</td>\n",
       "      <td>Popeyes Louisiana Kitchen (Brand)</td>\n",
       "      <td>2</td>\n",
       "      <td>Popeyes (7375) - POS Support Request</td>\n",
       "      <td>2022-05-16 01:12 - cm185130\\nGeneral Informati...</td>\n",
       "      <td>z_Aloha Takeout</td>\n",
       "      <td>Online ordering</td>\n",
       "      <td>Items crossed out</td>\n",
       "      <td>0</td>\n",
       "      <td>0</td>\n",
       "    </tr>\n",
       "    <tr>\n",
       "      <th>2</th>\n",
       "      <td>2022-05-16 02:14:57</td>\n",
       "      <td>109.435278</td>\n",
       "      <td>HSR/Enterprise Aloha Popeyes Escalated Management</td>\n",
       "      <td>Popeyes Louisiana Kitchen (Brand)</td>\n",
       "      <td>2</td>\n",
       "      <td>Point of Sale</td>\n",
       "      <td>2022-05-16 01:14 - cm185130\\nWorking Log: Fiel...</td>\n",
       "      <td>z_Aloha Takeout</td>\n",
       "      <td>Online ordering</td>\n",
       "      <td>Items crossed out</td>\n",
       "      <td>0</td>\n",
       "      <td>0</td>\n",
       "    </tr>\n",
       "    <tr>\n",
       "      <th>3</th>\n",
       "      <td>2022-05-16 02:35:38</td>\n",
       "      <td>0.012778</td>\n",
       "      <td>HSR/Enterprise Aloha Popeyes Incident Management</td>\n",
       "      <td>Top Golf USa INC.</td>\n",
       "      <td>2</td>\n",
       "      <td>EDC not launching on CMC</td>\n",
       "      <td>2022-05-16 01:35 - vo185020\\nWorking Log: Fiel...</td>\n",
       "      <td>z_Electronic Draft Capture</td>\n",
       "      <td>Back Of House</td>\n",
       "      <td>Configuration</td>\n",
       "      <td>1</td>\n",
       "      <td>0</td>\n",
       "    </tr>\n",
       "    <tr>\n",
       "      <th>4</th>\n",
       "      <td>2022-05-16 04:51:19</td>\n",
       "      <td>0.019722</td>\n",
       "      <td>HSR/Enterprise Aloha Critical Incident Managem...</td>\n",
       "      <td>Krystal Company</td>\n",
       "      <td>2</td>\n",
       "      <td>Manager cant log in</td>\n",
       "      <td>2022-05-16 03:51 - ai250176\\nGeneral Informati...</td>\n",
       "      <td>z_Aloha POS</td>\n",
       "      <td>Front Of House</td>\n",
       "      <td>Enroll fingerprint</td>\n",
       "      <td>1</td>\n",
       "      <td>0</td>\n",
       "    </tr>\n",
       "  </tbody>\n",
       "</table>\n",
       "</div>"
      ],
      "text/plain": [
       "          Created Date  Duration Hours  \\\n",
       "0  2022-05-16 01:27:37        0.306944   \n",
       "1  2022-05-16 02:12:31      107.196111   \n",
       "2  2022-05-16 02:14:57      109.435278   \n",
       "3  2022-05-16 02:35:38        0.012778   \n",
       "4  2022-05-16 04:51:19        0.019722   \n",
       "\n",
       "                                     Team Name (Inc)  \\\n",
       "0   HSR/Enterprise Aloha Popeyes Incident Management   \n",
       "1  HSR/Enterprise Aloha Popeyes Escalated Management   \n",
       "2  HSR/Enterprise Aloha Popeyes Escalated Management   \n",
       "3   HSR/Enterprise Aloha Popeyes Incident Management   \n",
       "4  HSR/Enterprise Aloha Critical Incident Managem...   \n",
       "\n",
       "                       Customer Name Severity Code (Inc)  \\\n",
       "0  Popeyes Louisiana Kitchen (Brand)                   0   \n",
       "1  Popeyes Louisiana Kitchen (Brand)                   2   \n",
       "2  Popeyes Louisiana Kitchen (Brand)                   2   \n",
       "3                  Top Golf USa INC.                   2   \n",
       "4                    Krystal Company                   2   \n",
       "\n",
       "                Problem Note Text (Inc)  \\\n",
       "0   VF All PP's Down  Site Key: #354767   \n",
       "1  Popeyes (7375) - POS Support Request   \n",
       "2                         Point of Sale   \n",
       "3              EDC not launching on CMC   \n",
       "4                   Manager cant log in   \n",
       "\n",
       "                                        Action Notes  \\\n",
       "0  2022-05-16 00:27 - ir250108\\nWorking Log: Fiel...   \n",
       "1  2022-05-16 01:12 - cm185130\\nGeneral Informati...   \n",
       "2  2022-05-16 01:14 - cm185130\\nWorking Log: Fiel...   \n",
       "3  2022-05-16 01:35 - vo185020\\nWorking Log: Fiel...   \n",
       "4  2022-05-16 03:51 - ai250176\\nGeneral Informati...   \n",
       "\n",
       "           Product Cat Tier 1 Product Cat Tier 2  Product Cat Tier 3 FCR RR  \n",
       "0       z_PinPad / CC Machine         Won't Read          HW Failure   1  0  \n",
       "1             z_Aloha Takeout    Online ordering   Items crossed out   0  0  \n",
       "2             z_Aloha Takeout    Online ordering   Items crossed out   0  0  \n",
       "3  z_Electronic Draft Capture      Back Of House       Configuration   1  0  \n",
       "4                 z_Aloha POS     Front Of House  Enroll fingerprint   1  0  "
      ]
     },
     "execution_count": 7,
     "metadata": {},
     "output_type": "execute_result"
    }
   ],
   "source": [
    "data_cols.head()"
   ]
  },
  {
   "cell_type": "markdown",
   "id": "05b4e951",
   "metadata": {},
   "source": [
    "#### SIMPLIFY COLUMN NAMES"
   ]
  },
  {
   "cell_type": "code",
   "execution_count": 8,
   "id": "f76bfaeb",
   "metadata": {},
   "outputs": [
    {
     "data": {
      "text/plain": [
       "created           object\n",
       "age_hours        float64\n",
       "team              object\n",
       "cust_name         object\n",
       "sev               object\n",
       "problem_notes     object\n",
       "action_notes      object\n",
       "prod_cat1         string\n",
       "prod_cat2         string\n",
       "prod_cat3         string\n",
       "FCR               object\n",
       "RR                object\n",
       "dtype: object"
      ]
     },
     "execution_count": 8,
     "metadata": {},
     "output_type": "execute_result"
    }
   ],
   "source": [
    "cols_names= [\"created\",\"age_hours\",\"team\",\"cust_name\",\"sev\",\"problem_notes\",\"action_notes\",\n",
    "            \"prod_cat1\",\"prod_cat2\",\"prod_cat3\", \"FCR\",\"RR\"]\n",
    "data_cols.columns = cols_names\n",
    "data_cols.dtypes"
   ]
  },
  {
   "cell_type": "markdown",
   "id": "77743050",
   "metadata": {},
   "source": [
    "#### CHECK FOR MISSING VALUES"
   ]
  },
  {
   "cell_type": "code",
   "execution_count": 9,
   "id": "a16d1d5f",
   "metadata": {},
   "outputs": [
    {
     "data": {
      "text/plain": [
       "<AxesSubplot:>"
      ]
     },
     "execution_count": 9,
     "metadata": {},
     "output_type": "execute_result"
    },
    {
     "data": {
      "image/png": "[encoded data removed]",
      "text/plain": [
       "<Figure size 1728x720 with 3 Axes>"
      ]
     },
     "metadata": {},
     "output_type": "display_data"
    }
   ],
   "source": [
    "import missingno as msno\n",
    "fig = plt.figure()\n",
    "fig.patch.set_facecolor('white')\n",
    "msno.bar(data_cols)"
   ]
  },
  {
   "cell_type": "markdown",
   "id": "dbffdd64",
   "metadata": {},
   "source": [
    "#### Domain knowledge tells us missing hours from 'Age_Hours' is due to helpdesk cases not yet Closed at the time of the data pull. We will impute these using Median and then check again for missing values"
   ]
  },
  {
   "cell_type": "code",
   "execution_count": 10,
   "id": "06b9bbd7",
   "metadata": {},
   "outputs": [
    {
     "data": {
      "text/plain": [
       "0"
      ]
     },
     "execution_count": 10,
     "metadata": {},
     "output_type": "execute_result"
    }
   ],
   "source": [
    "data_cols.age_hours.fillna(data_cols.age_hours.median(), inplace=True)\n",
    "data_cols.age_hours.isna().sum()"
   ]
  },
  {
   "cell_type": "markdown",
   "id": "539a8e9e",
   "metadata": {},
   "source": [
    "#### Now let's check for outliers in Age_Hours"
   ]
  },
  {
   "cell_type": "code",
   "execution_count": 11,
   "id": "e93040be",
   "metadata": {},
   "outputs": [
    {
     "data": {
      "text/plain": [
       "<AxesSubplot:xlabel='age_hours', ylabel='Count'>"
      ]
     },
     "execution_count": 11,
     "metadata": {},
     "output_type": "execute_result"
    },
    {
     "data": {
      "image/png": "[encoded data removed]",
      "text/plain": [
       "<Figure size 432x288 with 1 Axes>"
      ]
     },
     "metadata": {},
     "output_type": "display_data"
    }
   ],
   "source": [
    "fig = plt.figure()\n",
    "fig.patch.set_facecolor('white')\n",
    "sns.histplot(x='age_hours', data=data_cols, bins=50, color='green')"
   ]
  },
  {
   "cell_type": "markdown",
   "id": "c34ce43d",
   "metadata": {},
   "source": [
    "#### From the above, we can see there are some extreme outliers. Let's investigate these"
   ]
  },
  {
   "cell_type": "code",
   "execution_count": 12,
   "id": "3d3d87fb",
   "metadata": {
    "scrolled": false
   },
   "outputs": [
    {
     "name": "stdout",
     "output_type": "stream",
     "text": [
      "Percentage of cases with Age > 300 hrs\n",
      " 0.001 %\n"
     ]
    }
   ],
   "source": [
    "print(\"Percentage of cases with Age > 300 hrs\\n\", \n",
    "      round(len(data_cols[data_cols['age_hours'] > 500]) / len(data_cols), 3), \"%\")"
   ]
  },
  {
   "cell_type": "markdown",
   "id": "87be24bb",
   "metadata": {},
   "source": [
    "#### Domain knowledge tells us these outliers are tickets which would surely have gone to development, out of Support's hands, and so we would not be interested in their age to help us distinguish the category, but leaving their extreme values in place will disrupt use of that feature in categorization learning. \n",
    "#### Replacing these outlier values in age_hours with the Median"
   ]
  },
  {
   "cell_type": "code",
   "execution_count": 13,
   "id": "3f1eab82",
   "metadata": {},
   "outputs": [
    {
     "name": "stderr",
     "output_type": "stream",
     "text": [
      "C:\\Users\\DP185257\\AppData\\Local\\Temp/ipykernel_19784/1304812944.py:3: SettingWithCopyWarning: \n",
      "A value is trying to be set on a copy of a slice from a DataFrame\n",
      "\n",
      "See the caveats in the documentation: https://pandas.pydata.org/pandas-docs/stable/user_guide/indexing.html#returning-a-view-versus-a-copy\n",
      "  data_cols.age_hours[x] = data_cols.age_hours.median()\n"
     ]
    }
   ],
   "source": [
    "for x in range(len(data_cols.age_hours)):\n",
    "    if data_cols.age_hours[x] > 300:\n",
    "        data_cols.age_hours[x] = data_cols.age_hours.median()"
   ]
  },
  {
   "cell_type": "code",
   "execution_count": 14,
   "id": "ffcb0540",
   "metadata": {},
   "outputs": [
    {
     "data": {
      "text/plain": [
       "<AxesSubplot:xlabel='age_hours', ylabel='Count'>"
      ]
     },
     "execution_count": 14,
     "metadata": {},
     "output_type": "execute_result"
    },
    {
     "data": {
      "image/png": "[encoded data removed]",
      "text/plain": [
       "<Figure size 432x288 with 1 Axes>"
      ]
     },
     "metadata": {},
     "output_type": "display_data"
    }
   ],
   "source": [
    "fig = plt.figure()\n",
    "fig.patch.set_facecolor('white')\n",
    "sns.histplot(x='age_hours', data=data_cols, bins=50, color='green')"
   ]
  },
  {
   "cell_type": "markdown",
   "id": "72e7433a",
   "metadata": {},
   "source": [
    "## Data_dropna\n",
    "#### Missing values from our Prod_Cat features cannot be imputed, and are our target variable(s). \n",
    "###### Rows with any remaining missing values will be dropped, except for those with missing values in Prod_cat4, which we expect to not be populated in most cases"
   ]
  },
  {
   "cell_type": "code",
   "execution_count": 33,
   "id": "7150c474",
   "metadata": {},
   "outputs": [],
   "source": [
    "data_dropna= data_cols.dropna(subset=['created', 'age_hours', 'team', 'cust_name', 'sev', 'problem_notes',\n",
    "                               'action_notes', 'prod_cat1', 'prod_cat2', 'prod_cat3', 'FCR', 'RR'])\n",
    "data_dropna.reset_index(drop=True, inplace=True)"
   ]
  },
  {
   "cell_type": "code",
   "execution_count": 34,
   "id": "728d51eb",
   "metadata": {},
   "outputs": [
    {
     "data": {
      "text/html": [
       "<div>\n",
       "<style scoped>\n",
       "    .dataframe tbody tr th:only-of-type {\n",
       "        vertical-align: middle;\n",
       "    }\n",
       "\n",
       "    .dataframe tbody tr th {\n",
       "        vertical-align: top;\n",
       "    }\n",
       "\n",
       "    .dataframe thead th {\n",
       "        text-align: right;\n",
       "    }\n",
       "</style>\n",
       "<table border=\"1\" class=\"dataframe\">\n",
       "  <thead>\n",
       "    <tr style=\"text-align: right;\">\n",
       "      <th></th>\n",
       "      <th>count</th>\n",
       "      <th>mean</th>\n",
       "      <th>std</th>\n",
       "      <th>min</th>\n",
       "      <th>25%</th>\n",
       "      <th>50%</th>\n",
       "      <th>75%</th>\n",
       "      <th>max</th>\n",
       "    </tr>\n",
       "  </thead>\n",
       "  <tbody>\n",
       "    <tr>\n",
       "      <th>age_hours</th>\n",
       "      <td>4718.0</td>\n",
       "      <td>16.868081</td>\n",
       "      <td>40.994644</td>\n",
       "      <td>0.0</td>\n",
       "      <td>0.200972</td>\n",
       "      <td>0.631111</td>\n",
       "      <td>8.352639</td>\n",
       "      <td>289.986944</td>\n",
       "    </tr>\n",
       "  </tbody>\n",
       "</table>\n",
       "</div>"
      ],
      "text/plain": [
       "            count       mean        std  min       25%       50%       75%  \\\n",
       "age_hours  4718.0  16.868081  40.994644  0.0  0.200972  0.631111  8.352639   \n",
       "\n",
       "                  max  \n",
       "age_hours  289.986944  "
      ]
     },
     "execution_count": 34,
     "metadata": {},
     "output_type": "execute_result"
    }
   ],
   "source": [
    "## DESCRIBE CONTINUOUS VARIABLE COLUMNS\n",
    "\n",
    "data_dropna.describe().T"
   ]
  },
  {
   "cell_type": "code",
   "execution_count": 35,
   "id": "c3a99d50",
   "metadata": {},
   "outputs": [
    {
     "data": {
      "text/html": [
       "<div>\n",
       "<style scoped>\n",
       "    .dataframe tbody tr th:only-of-type {\n",
       "        vertical-align: middle;\n",
       "    }\n",
       "\n",
       "    .dataframe tbody tr th {\n",
       "        vertical-align: top;\n",
       "    }\n",
       "\n",
       "    .dataframe thead th {\n",
       "        text-align: right;\n",
       "    }\n",
       "</style>\n",
       "<table border=\"1\" class=\"dataframe\">\n",
       "  <thead>\n",
       "    <tr style=\"text-align: right;\">\n",
       "      <th></th>\n",
       "      <th>count</th>\n",
       "      <th>unique</th>\n",
       "      <th>top</th>\n",
       "      <th>freq</th>\n",
       "    </tr>\n",
       "  </thead>\n",
       "  <tbody>\n",
       "    <tr>\n",
       "      <th>created</th>\n",
       "      <td>4718</td>\n",
       "      <td>4711</td>\n",
       "      <td>2022-05-27 10:02:49</td>\n",
       "      <td>2</td>\n",
       "    </tr>\n",
       "    <tr>\n",
       "      <th>team</th>\n",
       "      <td>4718</td>\n",
       "      <td>13</td>\n",
       "      <td>HSR/Enterprise Aloha Popeyes Incident Management</td>\n",
       "      <td>1731</td>\n",
       "    </tr>\n",
       "    <tr>\n",
       "      <th>cust_name</th>\n",
       "      <td>4718</td>\n",
       "      <td>280</td>\n",
       "      <td>Popeyes Louisiana Kitchen (Brand)</td>\n",
       "      <td>1664</td>\n",
       "    </tr>\n",
       "    <tr>\n",
       "      <th>problem_notes</th>\n",
       "      <td>4718</td>\n",
       "      <td>4236</td>\n",
       "      <td>DT OTC PP not working</td>\n",
       "      <td>26</td>\n",
       "    </tr>\n",
       "    <tr>\n",
       "      <th>action_notes</th>\n",
       "      <td>4718</td>\n",
       "      <td>4665</td>\n",
       "      <td>#OVERFLOW</td>\n",
       "      <td>54</td>\n",
       "    </tr>\n",
       "  </tbody>\n",
       "</table>\n",
       "</div>"
      ],
      "text/plain": [
       "              count unique                                               top  \\\n",
       "created        4718   4711                               2022-05-27 10:02:49   \n",
       "team           4718     13  HSR/Enterprise Aloha Popeyes Incident Management   \n",
       "cust_name      4718    280                 Popeyes Louisiana Kitchen (Brand)   \n",
       "problem_notes  4718   4236                             DT OTC PP not working   \n",
       "action_notes   4718   4665                                         #OVERFLOW   \n",
       "\n",
       "               freq  \n",
       "created           2  \n",
       "team           1731  \n",
       "cust_name      1664  \n",
       "problem_notes    26  \n",
       "action_notes     54  "
      ]
     },
     "execution_count": 35,
     "metadata": {},
     "output_type": "execute_result"
    }
   ],
   "source": [
    "## DESCRIBE DISCRETE VARIABLE COLUMNS\n",
    "\n",
    "data_dropna[['created', 'team', 'cust_name',\n",
    "       'problem_notes', 'action_notes']].describe().T"
   ]
  },
  {
   "cell_type": "markdown",
   "id": "ce264822",
   "metadata": {},
   "source": [
    "## DF1 - TEAM Cleanup\n",
    "#### Now that there are no longer any missing values, we can work further clean up of our categorical variables\n",
    "#### START WITH CLEANUP OF \"TEAM\", A KEY FEATURE FOR THIS SEGMENTATION"
   ]
  },
  {
   "cell_type": "code",
   "execution_count": 36,
   "id": "4062bcdf",
   "metadata": {
    "scrolled": true
   },
   "outputs": [
    {
     "data": {
      "text/plain": [
       "HSR/Enterprise Aloha Popeyes Incident Management       1731\n",
       "HSR/Enterprise Aloha Critical Incident Management      1158\n",
       "HSR/Enterprise Aloha Essential Incident Management      558\n",
       "HSR/Enterprise Aloha Hardware                           431\n",
       "HSR/Enterprise Aloha Essential Escalated Management     162\n",
       "HSR/Enterprise Aloha FHS Incident Management            159\n",
       "HSR/Enterprise Aloha Popeyes Verifone                   131\n",
       "HSR/Enterprise Aloha BWW Incident Management            116\n",
       "HSR/Enterprise Aloha Critical Escalated Management      106\n",
       "HSR/Enterprise Aloha Popeyes Escalated Management        61\n",
       "HSR/Enterprise Advanced Technical                        55\n",
       "HSR/Enterprise Aloha FHS Escalated Management            35\n",
       "HSR/Enterprise Aloha BWW Escalated Management            15\n",
       "Name: team, dtype: int64"
      ]
     },
     "execution_count": 36,
     "metadata": {},
     "output_type": "execute_result"
    }
   ],
   "source": [
    "data_dropna.team.value_counts()"
   ]
  },
  {
   "cell_type": "code",
   "execution_count": 37,
   "id": "2a0dd6ea",
   "metadata": {},
   "outputs": [],
   "source": [
    "mapping_dict= {\"HSR/Enterprise Aloha Popeyes Incident Management\": \"popeyes_imt\", \"HSR/Enterprise Aloha Critical Incident Management\": \"critical_imt\",\n",
    "               \"HSR/Enterprise Aloha Wingstop Incident Management\": \"wingstop_imt\", \"HSR/Enterprise Aloha Wingstop Escalated Management\": \"wingstop_emt\",\n",
    "              \"HSR/Enterprise Aloha Essential Incident Management\": \"essential_imt\", \"HSR/Enterprise Aloha Hardware\": \"hwt_emt\", \"HSR/Enterprise Aloha Essential Escalated Management\": \"essential_emt\",\n",
    "              \"HSR/Enterprise Aloha FHS Incident Management\": \"fhs_imt\", \"HSR/Enterprise Aloha Popeyes Verifone\": \"popeyes_imt\",\n",
    "              \"HSR/Enterprise Aloha BWW Incident Management\": \"bww_imt\", \"HSR/Enterprise Aloha Critical Escalated Management\": \"critical_emt\",\n",
    "              \"HSR/Enterprise Aloha Popeyes Escalated Management\": \"popeyes_emt\", \"HSR/Enterprise Advanced Technical\": \"att_emt\",\n",
    "              \"HSR/Enterprise Aloha FHS Escalated Management\": \"fhs_emt\", \"HSR/Enterprise Aloha Essential WIT\": \"essential_emt\",\n",
    "               \"HSR/Enterprise NBO WIT\": \"nbo_emt\", \"HSR/Enterprise Aloha BWW Escalated Management\": \"bww_emt\", \n",
    "               \"HSR/Enterprise Aloha Critical WIT\": \"critical_emt\", \"HSR/Enterprise Aloha BWW WIT\": \"bww_emt\",\n",
    "               \"HSR/Enterprise Aloha FHS WIT\": \"fhs_emt\", \"HSR/Enterprise BSP WIT\": \"bsp_emt\",\n",
    "               \"HSR/Enterprise Aloha Wingstop WIT\": \"wingstop_emt\", \"HSR/Enterprise Aloha Popeyes WIT\": \"popeyes_emt\",\n",
    "              }\n",
    "\n",
    "#hosted_dict= {\"HSR/Enterprise Hosted Pulse Incident Management\": \"pulse_imt\", \"HSR/Enterprise Hosted Insight Polling Incident Management\": \"polling_imt\", \"HSR/Enterprise Hosted CMC Incident Management\": \"cmc_imt\", \"HSR/Enterprise Hosted Customer Voice Escalated Management\": \"voice_emt\", \"HSR/Enterprise Hosted CFC Escalated Management\": \"cfc_emt\",\"HSR/Enterprise Hosted Insight Reports Escalated Management\": \"reports_emt\", \"HSR/Enterprise Hosted Loyalty Escalated Management\": \"loyalty_emt\",\n",
    "#              \"HSR/Enterprise Hosted ASV Incident Management\": \"asv_imt\", \"HSR/Enterprise Hosted Restaurant Guard Escalated Management\": \"guard_emt\",\n",
    "#              \"HSR/Enterprise Hosted CMC Escalated Management\": \"cmc_emt\", \"HSR/Enterprise Hosted WIT\": \"hosted_emt\", \"HSR/Enterprise Hosted Online Ordering Incident Management\": \"olo_imt\",\n",
    "#              \"HSR/Enterprise Hosted BSP Escalated Management\": \"bsp_emt\", \"HSR/Enterprise Hosted Mobile Pay Escalated Management\": \"mobile_emt\",\n",
    "#             \"HSR/Enterprise Hosted Insight Polling Escalated Management\": \"polling_emt\",  \"HSR/Enterprise Hosted Console Escalated Management\": \"console_emt\",\n",
    "#              \"HSR/Enterprise Hosted ASV Escalated Management\": \"asv_emt\", \"HSR/Enterprise Hosted Online Ordering Escalated Management\": \"olo_emt\",\n",
    "#              }"
   ]
  },
  {
   "cell_type": "code",
   "execution_count": 38,
   "id": "76408249",
   "metadata": {},
   "outputs": [
    {
     "name": "stderr",
     "output_type": "stream",
     "text": [
      "C:\\Users\\DP185257\\Anaconda3\\lib\\site-packages\\pandas\\core\\generic.py:6619: SettingWithCopyWarning: \n",
      "A value is trying to be set on a copy of a slice from a DataFrame\n",
      "\n",
      "See the caveats in the documentation: https://pandas.pydata.org/pandas-docs/stable/user_guide/indexing.html#returning-a-view-versus-a-copy\n",
      "  return self._update_inplace(result)\n"
     ]
    }
   ],
   "source": [
    "df1= data_dropna\n",
    "df1.team.replace(to_replace=mapping_dict, inplace=True)"
   ]
  },
  {
   "cell_type": "code",
   "execution_count": 39,
   "id": "44484156",
   "metadata": {},
   "outputs": [
    {
     "data": {
      "image/png": "[encoded data removed]",
      "text/plain": [
       "<Figure size 432x288 with 1 Axes>"
      ]
     },
     "metadata": {},
     "output_type": "display_data"
    }
   ],
   "source": [
    "fig = plt.figure()\n",
    "fig.patch.set_facecolor('white')\n",
    "ax = sns.countplot(x='team', data=df1, palette='Greens_d')\n",
    "plt.xticks(rotation=90)\n",
    "plt.show()"
   ]
  },
  {
   "cell_type": "markdown",
   "id": "88af014a",
   "metadata": {},
   "source": [
    "#### WE CAN SEE FROM THE ABOVE, ONE VALUE DID NOT MAP CORRECTLY. LET'S FIX THIS..."
   ]
  },
  {
   "cell_type": "code",
   "execution_count": 40,
   "id": "c721d284",
   "metadata": {},
   "outputs": [
    {
     "name": "stderr",
     "output_type": "stream",
     "text": [
      "C:\\Users\\DP185257\\Anaconda3\\lib\\site-packages\\pandas\\core\\generic.py:6619: SettingWithCopyWarning: \n",
      "A value is trying to be set on a copy of a slice from a DataFrame\n",
      "\n",
      "See the caveats in the documentation: https://pandas.pydata.org/pandas-docs/stable/user_guide/indexing.html#returning-a-view-versus-a-copy\n",
      "  return self._update_inplace(result)\n"
     ]
    }
   ],
   "source": [
    "df1.team.replace(to_replace=\"HSR/Enterprise Aloha Critical Incident Management \", \n",
    "                            value=\"critical_imt\", inplace=True) "
   ]
  },
  {
   "cell_type": "code",
   "execution_count": 41,
   "id": "6a31ed41",
   "metadata": {},
   "outputs": [
    {
     "name": "stdout",
     "output_type": "stream",
     "text": [
      "['popeyes_imt' 'popeyes_emt' 'critical_imt' 'essential_imt' 'bww_imt'\n",
      " 'hwt_emt' 'fhs_imt' 'essential_emt' 'critical_emt' 'fhs_emt' 'att_emt'\n",
      " 'bww_emt']\n"
     ]
    }
   ],
   "source": [
    "print(df1.team.unique())"
   ]
  },
  {
   "cell_type": "markdown",
   "id": "aa82cec0",
   "metadata": {},
   "source": [
    "#### Teams are generally specialized to a specific product or specialized to a specific customer(s), meaning a specific solution set. We are interested in both pieces for our categorization. \n",
    "#### The IMT / EMT distinction indicates Tier1 or Tier2, which could also be said to indicate the complexity of the issue, or difficulty in solving. This is also interesting for our classification analysis. But we need to separate these two parts; the team name from the Tier distinction"
   ]
  },
  {
   "cell_type": "code",
   "execution_count": 42,
   "id": "9445a5b6",
   "metadata": {},
   "outputs": [
    {
     "name": "stderr",
     "output_type": "stream",
     "text": [
      "C:\\Users\\DP185257\\AppData\\Local\\Temp/ipykernel_19784/2195989224.py:4: SettingWithCopyWarning: \n",
      "A value is trying to be set on a copy of a slice from a DataFrame.\n",
      "Try using .loc[row_indexer,col_indexer] = value instead\n",
      "\n",
      "See the caveats in the documentation: https://pandas.pydata.org/pandas-docs/stable/user_guide/indexing.html#returning-a-view-versus-a-copy\n",
      "  df1[\"imt\"] = 0\n",
      "C:\\Users\\DP185257\\AppData\\Local\\Temp/ipykernel_19784/2195989224.py:7: SettingWithCopyWarning: \n",
      "A value is trying to be set on a copy of a slice from a DataFrame\n",
      "\n",
      "See the caveats in the documentation: https://pandas.pydata.org/pandas-docs/stable/user_guide/indexing.html#returning-a-view-versus-a-copy\n",
      "  df1.imt[x] = 1\n",
      "C:\\Users\\DP185257\\AppData\\Local\\Temp/ipykernel_19784/2195989224.py:9: SettingWithCopyWarning: \n",
      "A value is trying to be set on a copy of a slice from a DataFrame\n",
      "\n",
      "See the caveats in the documentation: https://pandas.pydata.org/pandas-docs/stable/user_guide/indexing.html#returning-a-view-versus-a-copy\n",
      "  df1.imt[x] = 0\n"
     ]
    }
   ],
   "source": [
    "# ITERATE THROUGH THE TEAM SERIES, EVALUATE STR OBJECTS THAT CONTAIN '_IMT' AND POPULATE 'IMT' FEATURE\n",
    "# VALUE OF 1 INDICATES IMT, VALUE OF 0 INDICATES EMT\n",
    "\n",
    "df1[\"imt\"] = 0\n",
    "for x in range(len(df1.team)):\n",
    "    if df1.team[x].find(\"_imt\") > 0:\n",
    "        df1.imt[x] = 1\n",
    "    else:\n",
    "        df1.imt[x] = 0"
   ]
  },
  {
   "cell_type": "code",
   "execution_count": 43,
   "id": "e6713a40",
   "metadata": {},
   "outputs": [
    {
     "data": {
      "image/png": "[encoded data removed]",
      "text/plain": [
       "<Figure size 432x288 with 1 Axes>"
      ]
     },
     "metadata": {},
     "output_type": "display_data"
    }
   ],
   "source": [
    "fig = plt.figure()\n",
    "fig.patch.set_facecolor('white')\n",
    "ax = sns.countplot(x='imt', data=df1, palette='Greens_d')\n",
    "plt.show()"
   ]
  },
  {
   "cell_type": "markdown",
   "id": "1fdf0e2c",
   "metadata": {},
   "source": [
    "#### Now that we've separated out the 'tier level', we can see there is a lot of bias in this category, as over 80% of cases are resolved at the IMT level, and we may later need to use bootstrapping /sampling to inflate that class. \n",
    "###### As well, we can now condense our Team options to exclude this differentiation"
   ]
  },
  {
   "cell_type": "code",
   "execution_count": 44,
   "id": "c92cac49",
   "metadata": {},
   "outputs": [
    {
     "name": "stderr",
     "output_type": "stream",
     "text": [
      "C:\\Users\\DP185257\\Anaconda3\\lib\\site-packages\\pandas\\core\\generic.py:5516: SettingWithCopyWarning: \n",
      "A value is trying to be set on a copy of a slice from a DataFrame.\n",
      "Try using .loc[row_indexer,col_indexer] = value instead\n",
      "\n",
      "See the caveats in the documentation: https://pandas.pydata.org/pandas-docs/stable/user_guide/indexing.html#returning-a-view-versus-a-copy\n",
      "  self[name] = value\n"
     ]
    }
   ],
   "source": [
    "temp_list= []\n",
    "for x in df1.team:\n",
    "    temp_list.append(x.split(\"_\")[0])\n",
    "df1.team = temp_list"
   ]
  },
  {
   "cell_type": "code",
   "execution_count": 45,
   "id": "363e5989",
   "metadata": {
    "scrolled": false
   },
   "outputs": [
    {
     "data": {
      "image/png": "[encoded data removed]",
      "text/plain": [
       "<Figure size 432x288 with 1 Axes>"
      ]
     },
     "metadata": {},
     "output_type": "display_data"
    }
   ],
   "source": [
    "# NOW WE CAN PRINT OUR COUNT CHART AGAIN TO SHOW THE CONSOLIDATION\n",
    "\n",
    "fig = plt.figure()\n",
    "fig.patch.set_facecolor('white')\n",
    "ax = sns.countplot(x='team', data=df1, palette='Greens_d')\n",
    "plt.xticks(rotation=90)\n",
    "plt.show()"
   ]
  },
  {
   "cell_type": "markdown",
   "id": "ee0e4bbd",
   "metadata": {},
   "source": [
    "## DF2: One-hot\n",
    "#### In order to use the 'Team' categorical feature in our machine learning, let's first get_dummies()"
   ]
  },
  {
   "cell_type": "code",
   "execution_count": 46,
   "id": "8e119cf0",
   "metadata": {},
   "outputs": [],
   "source": [
    "def encode_and_bind(original_dataframe, feature_to_encode):\n",
    "    dummies = pd.get_dummies(original_dataframe[[feature_to_encode]])\n",
    "    res = pd.concat([original_dataframe, dummies], axis=1)\n",
    "    res = res.drop([feature_to_encode], axis=1)\n",
    "    return(res) "
   ]
  },
  {
   "cell_type": "code",
   "execution_count": 47,
   "id": "8b8e9306",
   "metadata": {},
   "outputs": [
    {
     "data": {
      "text/html": [
       "<div>\n",
       "<style scoped>\n",
       "    .dataframe tbody tr th:only-of-type {\n",
       "        vertical-align: middle;\n",
       "    }\n",
       "\n",
       "    .dataframe tbody tr th {\n",
       "        vertical-align: top;\n",
       "    }\n",
       "\n",
       "    .dataframe thead th {\n",
       "        text-align: right;\n",
       "    }\n",
       "</style>\n",
       "<table border=\"1\" class=\"dataframe\">\n",
       "  <thead>\n",
       "    <tr style=\"text-align: right;\">\n",
       "      <th></th>\n",
       "      <th>created</th>\n",
       "      <th>age_hours</th>\n",
       "      <th>cust_name</th>\n",
       "      <th>sev</th>\n",
       "      <th>problem_notes</th>\n",
       "      <th>action_notes</th>\n",
       "      <th>prod_cat1</th>\n",
       "      <th>prod_cat2</th>\n",
       "      <th>prod_cat3</th>\n",
       "      <th>FCR</th>\n",
       "      <th>RR</th>\n",
       "      <th>imt</th>\n",
       "      <th>team_att</th>\n",
       "      <th>team_bww</th>\n",
       "      <th>team_critical</th>\n",
       "      <th>team_essential</th>\n",
       "      <th>team_fhs</th>\n",
       "      <th>team_hwt</th>\n",
       "      <th>team_popeyes</th>\n",
       "    </tr>\n",
       "  </thead>\n",
       "  <tbody>\n",
       "    <tr>\n",
       "      <th>0</th>\n",
       "      <td>2022-05-16 01:27:37</td>\n",
       "      <td>0.306944</td>\n",
       "      <td>Popeyes Louisiana Kitchen (Brand)</td>\n",
       "      <td>0</td>\n",
       "      <td>VF All PP's Down  Site Key: #354767</td>\n",
       "      <td>2022-05-16 00:27 - ir250108\\nWorking Log: Fiel...</td>\n",
       "      <td>z_PinPad / CC Machine</td>\n",
       "      <td>Won't Read</td>\n",
       "      <td>HW Failure</td>\n",
       "      <td>1</td>\n",
       "      <td>0</td>\n",
       "      <td>1</td>\n",
       "      <td>0</td>\n",
       "      <td>0</td>\n",
       "      <td>0</td>\n",
       "      <td>0</td>\n",
       "      <td>0</td>\n",
       "      <td>0</td>\n",
       "      <td>1</td>\n",
       "    </tr>\n",
       "    <tr>\n",
       "      <th>1</th>\n",
       "      <td>2022-05-16 02:12:31</td>\n",
       "      <td>107.196111</td>\n",
       "      <td>Popeyes Louisiana Kitchen (Brand)</td>\n",
       "      <td>2</td>\n",
       "      <td>Popeyes (7375) - POS Support Request</td>\n",
       "      <td>2022-05-16 01:12 - cm185130\\nGeneral Informati...</td>\n",
       "      <td>z_Aloha Takeout</td>\n",
       "      <td>Online ordering</td>\n",
       "      <td>Items crossed out</td>\n",
       "      <td>0</td>\n",
       "      <td>0</td>\n",
       "      <td>0</td>\n",
       "      <td>0</td>\n",
       "      <td>0</td>\n",
       "      <td>0</td>\n",
       "      <td>0</td>\n",
       "      <td>0</td>\n",
       "      <td>0</td>\n",
       "      <td>1</td>\n",
       "    </tr>\n",
       "    <tr>\n",
       "      <th>2</th>\n",
       "      <td>2022-05-16 02:14:57</td>\n",
       "      <td>109.435278</td>\n",
       "      <td>Popeyes Louisiana Kitchen (Brand)</td>\n",
       "      <td>2</td>\n",
       "      <td>Point of Sale</td>\n",
       "      <td>2022-05-16 01:14 - cm185130\\nWorking Log: Fiel...</td>\n",
       "      <td>z_Aloha Takeout</td>\n",
       "      <td>Online ordering</td>\n",
       "      <td>Items crossed out</td>\n",
       "      <td>0</td>\n",
       "      <td>0</td>\n",
       "      <td>0</td>\n",
       "      <td>0</td>\n",
       "      <td>0</td>\n",
       "      <td>0</td>\n",
       "      <td>0</td>\n",
       "      <td>0</td>\n",
       "      <td>0</td>\n",
       "      <td>1</td>\n",
       "    </tr>\n",
       "    <tr>\n",
       "      <th>3</th>\n",
       "      <td>2022-05-16 02:35:38</td>\n",
       "      <td>0.012778</td>\n",
       "      <td>Top Golf USa INC.</td>\n",
       "      <td>2</td>\n",
       "      <td>EDC not launching on CMC</td>\n",
       "      <td>2022-05-16 01:35 - vo185020\\nWorking Log: Fiel...</td>\n",
       "      <td>z_Electronic Draft Capture</td>\n",
       "      <td>Back Of House</td>\n",
       "      <td>Configuration</td>\n",
       "      <td>1</td>\n",
       "      <td>0</td>\n",
       "      <td>1</td>\n",
       "      <td>0</td>\n",
       "      <td>0</td>\n",
       "      <td>0</td>\n",
       "      <td>0</td>\n",
       "      <td>0</td>\n",
       "      <td>0</td>\n",
       "      <td>1</td>\n",
       "    </tr>\n",
       "    <tr>\n",
       "      <th>4</th>\n",
       "      <td>2022-05-16 04:51:19</td>\n",
       "      <td>0.019722</td>\n",
       "      <td>Krystal Company</td>\n",
       "      <td>2</td>\n",
       "      <td>Manager cant log in</td>\n",
       "      <td>2022-05-16 03:51 - ai250176\\nGeneral Informati...</td>\n",
       "      <td>z_Aloha POS</td>\n",
       "      <td>Front Of House</td>\n",
       "      <td>Enroll fingerprint</td>\n",
       "      <td>1</td>\n",
       "      <td>0</td>\n",
       "      <td>1</td>\n",
       "      <td>0</td>\n",
       "      <td>0</td>\n",
       "      <td>1</td>\n",
       "      <td>0</td>\n",
       "      <td>0</td>\n",
       "      <td>0</td>\n",
       "      <td>0</td>\n",
       "    </tr>\n",
       "  </tbody>\n",
       "</table>\n",
       "</div>"
      ],
      "text/plain": [
       "               created   age_hours                          cust_name sev  \\\n",
       "0  2022-05-16 01:27:37    0.306944  Popeyes Louisiana Kitchen (Brand)   0   \n",
       "1  2022-05-16 02:12:31  107.196111  Popeyes Louisiana Kitchen (Brand)   2   \n",
       "2  2022-05-16 02:14:57  109.435278  Popeyes Louisiana Kitchen (Brand)   2   \n",
       "3  2022-05-16 02:35:38    0.012778                  Top Golf USa INC.   2   \n",
       "4  2022-05-16 04:51:19    0.019722                    Krystal Company   2   \n",
       "\n",
       "                          problem_notes  \\\n",
       "0   VF All PP's Down  Site Key: #354767   \n",
       "1  Popeyes (7375) - POS Support Request   \n",
       "2                         Point of Sale   \n",
       "3              EDC not launching on CMC   \n",
       "4                   Manager cant log in   \n",
       "\n",
       "                                        action_notes  \\\n",
       "0  2022-05-16 00:27 - ir250108\\nWorking Log: Fiel...   \n",
       "1  2022-05-16 01:12 - cm185130\\nGeneral Informati...   \n",
       "2  2022-05-16 01:14 - cm185130\\nWorking Log: Fiel...   \n",
       "3  2022-05-16 01:35 - vo185020\\nWorking Log: Fiel...   \n",
       "4  2022-05-16 03:51 - ai250176\\nGeneral Informati...   \n",
       "\n",
       "                    prod_cat1        prod_cat2           prod_cat3 FCR RR  \\\n",
       "0       z_PinPad / CC Machine       Won't Read          HW Failure   1  0   \n",
       "1             z_Aloha Takeout  Online ordering   Items crossed out   0  0   \n",
       "2             z_Aloha Takeout  Online ordering   Items crossed out   0  0   \n",
       "3  z_Electronic Draft Capture    Back Of House       Configuration   1  0   \n",
       "4                 z_Aloha POS   Front Of House  Enroll fingerprint   1  0   \n",
       "\n",
       "   imt  team_att  team_bww  team_critical  team_essential  team_fhs  team_hwt  \\\n",
       "0    1         0         0              0               0         0         0   \n",
       "1    0         0         0              0               0         0         0   \n",
       "2    0         0         0              0               0         0         0   \n",
       "3    1         0         0              0               0         0         0   \n",
       "4    1         0         0              1               0         0         0   \n",
       "\n",
       "   team_popeyes  \n",
       "0             1  \n",
       "1             1  \n",
       "2             1  \n",
       "3             1  \n",
       "4             0  "
      ]
     },
     "execution_count": 47,
     "metadata": {},
     "output_type": "execute_result"
    }
   ],
   "source": [
    "df2= encode_and_bind(df1, 'team')\n",
    "df2.head()"
   ]
  },
  {
   "cell_type": "markdown",
   "id": "5846ef55",
   "metadata": {},
   "source": [
    "***\n",
    "##### <font c=green> One-hot encoding for Cust_Name will be Out of Scope for this project for now </font>\n",
    "***"
   ]
  },
  {
   "cell_type": "markdown",
   "id": "29be7b94",
   "metadata": {},
   "source": [
    "### Concatenate Prod_Cat features\n",
    "###### We want 1 target variable, not 3, so we will concat these and split them post-prediction"
   ]
  },
  {
   "cell_type": "code",
   "execution_count": 49,
   "id": "cd80f05a",
   "metadata": {
    "scrolled": true
   },
   "outputs": [
    {
     "data": {
      "text/plain": [
       "z_PinPad / CC Machine,Display,Incorrect Screen              283\n",
       "z_PinPad / CC Machine,Won't Read,HW Failure                 279\n",
       "Software,Application,Aloha                                  156\n",
       "Hardware,Front of House (FOH),POS Terminal                  122\n",
       "z_Terminal,Slow / Lagging,Slow/Lagging                      110\n",
       "                                                           ... \n",
       "z_Aloha POS,Aloha Integration,Aloha Integration               1\n",
       "z_Remote Application Loader,Terminal Down,Partial Reload      1\n",
       "z_Orderpoint,Display,Orderpoint Error on Display              1\n",
       "z_Electronic Draft Capture,New Install,Outstanding Issue      1\n",
       "Software,Software,Retail RealPOS                              1\n",
       "Name: prod_cat, Length: 297, dtype: Int64"
      ]
     },
     "execution_count": 49,
     "metadata": {},
     "output_type": "execute_result"
    }
   ],
   "source": [
    "df2[\"prod_cat\"] = df2.prod_cat1\n",
    "for i in range(len(df2.prod_cat)):\n",
    "    df2.prod_cat[i] = df2.prod_cat1[i] + \",\" + df2.prod_cat2[i] + \",\" + df2.prod_cat3[i]\n",
    "\n",
    "df2.prod_cat.value_counts()"
   ]
  },
  {
   "cell_type": "markdown",
   "id": "5dffdce9",
   "metadata": {},
   "source": [
    "###### For the scope of this project, we will drop rows with values of Prod_Cat that appear only once in value_counts()"
   ]
  },
  {
   "cell_type": "code",
   "execution_count": 56,
   "id": "d971efcc",
   "metadata": {},
   "outputs": [],
   "source": [
    "ind_list= list(df2.prod_cat.value_counts()[df2.prod_cat.value_counts() == 1].index)\n",
    "df3= df2.loc[~df2['prod_cat'].isin(ind_list)]"
   ]
  },
  {
   "cell_type": "code",
   "execution_count": 57,
   "id": "ebe0d436",
   "metadata": {},
   "outputs": [
    {
     "name": "stderr",
     "output_type": "stream",
     "text": [
      "C:\\Users\\DP185257\\Anaconda3\\lib\\site-packages\\pandas\\core\\frame.py:4906: SettingWithCopyWarning: \n",
      "A value is trying to be set on a copy of a slice from a DataFrame\n",
      "\n",
      "See the caveats in the documentation: https://pandas.pydata.org/pandas-docs/stable/user_guide/indexing.html#returning-a-view-versus-a-copy\n",
      "  return super().drop(\n"
     ]
    },
    {
     "data": {
      "text/plain": [
       "(4656, 17)"
      ]
     },
     "execution_count": 57,
     "metadata": {},
     "output_type": "execute_result"
    }
   ],
   "source": [
    "df3.drop([\"prod_cat1\", \"prod_cat2\", \"prod_cat3\"], axis=1, inplace=True)\n",
    "df3.shape"
   ]
  },
  {
   "cell_type": "markdown",
   "id": "d098e24d",
   "metadata": {},
   "source": [
    "# Text Pre-Processing\n",
    "#### Let's now do some text pre-processing on our most important fields, the Problem Notes and the Action Notes, starting with getting a sense of what our Problem Notes series contains"
   ]
  },
  {
   "cell_type": "markdown",
   "id": "0f34c68b",
   "metadata": {},
   "source": [
    "#### Problem Notes : Single-line description of the issue"
   ]
  },
  {
   "cell_type": "code",
   "execution_count": null,
   "id": "0c860f2d",
   "metadata": {
    "scrolled": true
   },
   "outputs": [],
   "source": [
    "for x in range(5):\n",
    "    print(x, df3.problem_notes[x], '\\n')"
   ]
  },
  {
   "cell_type": "code",
   "execution_count": null,
   "id": "092f37ed",
   "metadata": {},
   "outputs": [],
   "source": [
    "df3['problem_notes'] = df3['problem_notes'].astype(\"string\")"
   ]
  },
  {
   "cell_type": "code",
   "execution_count": null,
   "id": "304980a9",
   "metadata": {},
   "outputs": [],
   "source": [
    "print('NA Cells in Problem Notes: ', df3.problem_notes.isna().sum())\n",
    "df3.problem_notes= df3.problem_notes.fillna(\"\")\n",
    "print('NA Cells in Problem Notes after fillna(): ', df3.problem_notes.isna().sum())"
   ]
  },
  {
   "cell_type": "code",
   "execution_count": null,
   "id": "8de1f606",
   "metadata": {},
   "outputs": [],
   "source": [
    "## START AN EMPTY LIST AND USE IT TO CREATE A NEW FEATURE CONTAINING \n",
    "        ## THE LEN() OF EACH VALUE OF PROBLEM_NOTES\n",
    "\n",
    "len_list = []\n",
    "for x in df3.problem_notes:\n",
    "    len_list.append(len(x))\n",
    "\n",
    "df3[\"len_prob_notes\"] = len_list"
   ]
  },
  {
   "cell_type": "code",
   "execution_count": null,
   "id": "75256f46",
   "metadata": {},
   "outputs": [],
   "source": [
    "fig = plt.figure()\n",
    "fig.patch.set_facecolor('white')\n",
    "df3[\"len_prob_notes\"].hist(bins=50, color='green')"
   ]
  },
  {
   "cell_type": "markdown",
   "id": "b27f760b",
   "metadata": {},
   "source": [
    "#### We have a vast majority of Problem_Notes which are <100 characters. It is predominately the first line of the Problem_notes which is the most descriptive of the issue, and is what we are going to focus on \n",
    "#### We will split the first line of each text into a separate column, rewriting the len() of this consolidated problem notes into the len_prob_notes field"
   ]
  },
  {
   "cell_type": "code",
   "execution_count": null,
   "id": "92c174d2",
   "metadata": {},
   "outputs": [],
   "source": [
    "df3[\"abbr_prob_notes\"] = df3['problem_notes']\n",
    "for i in range(len(df3.abbr_prob_notes)):\n",
    "    df3.abbr_prob_notes[i] = df3.problem_notes[i].split('\\n')[0]\n",
    "\n",
    "#[print(len(x)) for x in df1.abbr_prob_notes]"
   ]
  },
  {
   "cell_type": "code",
   "execution_count": null,
   "id": "6c7972ad",
   "metadata": {},
   "outputs": [],
   "source": [
    "len_list = []\n",
    "for x in df3.abbr_prob_notes:\n",
    "    len_list.append(len(x))\n",
    "\n",
    "df3[\"len_prob_notes\"] = len_list\n",
    "\n",
    "fig, ax = plt.subplots()\n",
    "fig.patch.set_facecolor('white')\n",
    "ax.set_xlabel('Number of characters')\n",
    "ax.set_ylabel('Count in Bin')\n",
    "ax.set_title('Len() of Problem Notes')\n",
    "df3[\"len_prob_notes\"].hist(bins=50, color='green')"
   ]
  },
  {
   "cell_type": "markdown",
   "id": "dbd89bb3",
   "metadata": {},
   "source": [
    "#### Action Notes: User entry field containing case notes from each agent who worked on the case over its lifecycle, extensive length and content.\n",
    "#### Repeat steps for Problem Notes: Cast values to String, fill any NA, create a feature of Len() of Action Notes"
   ]
  },
  {
   "cell_type": "code",
   "execution_count": null,
   "id": "af6e7ae0",
   "metadata": {},
   "outputs": [],
   "source": [
    "df3['action_notes'] = df3['action_notes'].astype(\"string\")\n",
    "\n",
    "print('NA Cells in Action Notes: ', df3.action_notes.isna().sum())\n",
    "df3.action_notes= df3.action_notes.fillna(\"\")\n",
    "print('NA Cells in Action Notes after fillna(): ', df3.action_notes.isna().sum())"
   ]
  },
  {
   "cell_type": "code",
   "execution_count": null,
   "id": "00a6a0df",
   "metadata": {},
   "outputs": [],
   "source": [
    "## START AN EMPTY LIST AND USE IT TO CREATE A NEW FEATURE CONTAINING \n",
    "        ## THE LEN() OF EACH VALUE OF PROBLEM_NOTES\n",
    "\n",
    "len_list = []\n",
    "for x in df3.action_notes:\n",
    "    len_list.append(len(x))\n",
    "\n",
    "df3[\"len_act_notes\"] = len_list"
   ]
  },
  {
   "cell_type": "code",
   "execution_count": null,
   "id": "288200e7",
   "metadata": {},
   "outputs": [],
   "source": [
    "fig, ax = plt.subplots()\n",
    "fig.patch.set_facecolor('white')\n",
    "ax.set_xlabel('Number of characters')\n",
    "ax.set_ylabel('Count in Bin')\n",
    "ax.set_title('Len() of Action Notes')\n",
    "df3[\"len_act_notes\"].hist(bins=100, color='green')"
   ]
  },
  {
   "cell_type": "markdown",
   "id": "b4c6ac5e",
   "metadata": {},
   "source": [
    "#### It's not quite a Normal distribution, and we see the vast majority of total Action Notes length falls between ~1500 - 4000. Unlike Problem Notes, we cannot trim this down to some smaller amount. The total contents of Action Notes are equally valid in considering for word vectorization"
   ]
  },
  {
   "cell_type": "code",
   "execution_count": null,
   "id": "53099aab",
   "metadata": {},
   "outputs": [],
   "source": [
    "df1['clean_prob_notes'] = df2['problem_notes'].str.replace('[^a-zA-Z \\n]', '')\n",
    "df1['clean_prob_notes'] = df1['clean_prob_notes'].str.replace('\\n', ' ')\n",
    "df1['clean_prob_notes'] = df1['clean_prob_notes'].str.lower()\n",
    "#df1.drop(columns=['problem_notes'], inplace=True)\n",
    "\n",
    "df1['clean_act_notes'] = df2['action_notes'].str.replace('[^a-zA-Z \\n]', '')\n",
    "df1['clean_act_notes'] = df1['clean_act_notes'].str.replace('\\n', ' ')\n",
    "df1['clean_act_notes'] = df1['clean_act_notes'].str.lower()\n",
    "#df1.drop(columns=['action_notes'], inplace=True)"
   ]
  },
  {
   "cell_type": "code",
   "execution_count": null,
   "id": "bed9981f",
   "metadata": {},
   "outputs": [],
   "source": [
    "print(df1.clean_prob_notes.head(), '\\n')\n",
    "print(df1.clean_act_notes.head())"
   ]
  },
  {
   "cell_type": "markdown",
   "id": "773c37c9",
   "metadata": {},
   "source": [
    "## Text vectorization"
   ]
  },
  {
   "cell_type": "code",
   "execution_count": null,
   "id": "bb5976cb",
   "metadata": {},
   "outputs": [],
   "source": [
    "'''from sklearn.feature_extraction.text import TfidfVectorizer\n",
    "\n",
    "# Instantiate TfidfVectorizer\n",
    "tv = TfidfVectorizer(stop_words='english',\n",
    "                    min_df=10)\n",
    "\n",
    "# Fit the vectorizer and transform the data\n",
    "tv_transformed = tv.fit_transform(df_sm['clean_text'])\n",
    "\n",
    "# Create a DataFrame with these features\n",
    "tv_df = pd.DataFrame(tv_transformed.toarray(), \n",
    "                     columns=tv.get_feature_names()).add_prefix('TFIDF_')\n",
    "print(tv_df.head())'''"
   ]
  }
 ],
 "metadata": {
  "kernelspec": {
   "display_name": "Python 3 (ipykernel)",
   "language": "python",
   "name": "python3"
  },
  "language_info": {
   "codemirror_mode": {
    "name": "ipython",
    "version": 3
   },
   "file_extension": ".py",
   "mimetype": "text/x-python",
   "name": "python",
   "nbconvert_exporter": "python",
   "pygments_lexer": "ipython3",
   "version": "3.9.7"
  }
 },
 "nbformat": 4,
 "nbformat_minor": 5
}

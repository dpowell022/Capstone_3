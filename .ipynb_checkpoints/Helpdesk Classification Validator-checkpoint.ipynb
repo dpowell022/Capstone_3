{
 "cells": [
  {
   "cell_type": "markdown",
   "id": "ef27509e",
   "metadata": {},
   "source": [
    "## Helpdesk Issue Classification"
   ]
  },
  {
   "cell_type": "code",
   "execution_count": 1,
   "id": "93277338",
   "metadata": {},
   "outputs": [],
   "source": [
    "import pandas as pd\n",
    "import seaborn as sns\n",
    "import matplotlib.pyplot as plt\n",
    "import numpy as np"
   ]
  },
  {
   "cell_type": "code",
   "execution_count": 2,
   "id": "6c16dea0",
   "metadata": {},
   "outputs": [],
   "source": [
    "#READ IN LOCAL DATA\n",
    "data_raw = pd.read_excel(\"wingstop.xlsx\")"
   ]
  },
  {
   "cell_type": "code",
   "execution_count": 3,
   "id": "871a3a8a",
   "metadata": {},
   "outputs": [
    {
     "name": "stdout",
     "output_type": "stream",
     "text": [
      "Raw data shape: (9051, 31) \n",
      "\n",
      "Index(['Incident Identifier(NEOS)', 'Created Date',\n",
      "       'Solution End Date Time TZ (Inc)', 'Duration Hours', 'NEOS1',\n",
      "       'Team Name (Inc)', 'Master Customer Name (Inc)',\n",
      "       'Master Customer Number (Inc)', 'Customer Name', 'Site Name (Inc)',\n",
      "       'City (Inc)', 'Severity Code (Inc)', 'Problem Note Text (Inc)',\n",
      "       'Action Notes', 'Submitter Name (Inc)',\n",
      "       'Operational Catogerization Tier 1',\n",
      "       'Operational Catogerization Tier 2',\n",
      "       'Operational Catogerization Tier 3', 'NEOS2', 'Product Cat Tier 1',\n",
      "       'Product Cat Tier 2', 'Product Cat Tier 3', 'Product Cat Tier 4',\n",
      "       'Resolution Product Cat Tier 1', 'Resolution Product Cat Tier 2',\n",
      "       'Resolution Product Cat Tier 3', 'Resolution Product Cat Tier 4', 'FCR',\n",
      "       'RR', 'Closed by', 'Incident Status Description (Inc)'],\n",
      "      dtype='object')\n"
     ]
    }
   ],
   "source": [
    "print(\"Raw data shape:\", data_raw.shape, '\\n')\n",
    "print(data_raw.columns)"
   ]
  },
  {
   "cell_type": "code",
   "execution_count": 4,
   "id": "54158f5d",
   "metadata": {
    "scrolled": true
   },
   "outputs": [
    {
     "name": "stdout",
     "output_type": "stream",
     "text": [
      "Incident Identifier(NEOS)             object\n",
      "Created Date                          object\n",
      "Solution End Date Time TZ (Inc)       object\n",
      "Duration Hours                        object\n",
      "NEOS1                                 object\n",
      "Team Name (Inc)                       object\n",
      "Master Customer Name (Inc)            object\n",
      "Master Customer Number (Inc)         float64\n",
      "Customer Name                         object\n",
      "Site Name (Inc)                       object\n",
      "City (Inc)                            object\n",
      "Severity Code (Inc)                  float64\n",
      "Problem Note Text (Inc)               object\n",
      "Action Notes                          object\n",
      "Submitter Name (Inc)                  object\n",
      "Operational Catogerization Tier 1     object\n",
      "Operational Catogerization Tier 2     object\n",
      "Operational Catogerization Tier 3     object\n",
      "NEOS2                                 object\n",
      "Product Cat Tier 1                    object\n",
      "Product Cat Tier 2                    object\n",
      "Product Cat Tier 3                    object\n",
      "Product Cat Tier 4                    object\n",
      "Resolution Product Cat Tier 1         object\n",
      "Resolution Product Cat Tier 2         object\n",
      "Resolution Product Cat Tier 3         object\n",
      "Resolution Product Cat Tier 4         object\n",
      "FCR                                  float64\n",
      "RR                                   float64\n",
      "Closed by                             object\n",
      "Incident Status Description (Inc)     object\n",
      "dtype: object\n"
     ]
    }
   ],
   "source": [
    "print(data_raw.dtypes)"
   ]
  },
  {
   "cell_type": "code",
   "execution_count": 5,
   "id": "2c52dafe",
   "metadata": {
    "scrolled": true
   },
   "outputs": [],
   "source": [
    "# FUNCTION TO EXAMINE THE NUMERIC SERIES PROVIDED AND REPLACE VALUES NOT MATCHING THE SPECIFIED\n",
    "    # DTYPE WITH THE SERIES MEDIAN\n",
    "    \n",
    "def correct_dtype(df, series, dtype):\n",
    "    df.loc[df[series].map(type) != dtype, series] \\\n",
    "        = df.loc[df[series].map(type) == dtype, series].median()"
   ]
  },
  {
   "cell_type": "code",
   "execution_count": 6,
   "id": "b067bfb8",
   "metadata": {},
   "outputs": [],
   "source": [
    "correct_dtype(data_raw, \"Duration Hours\", float)"
   ]
  },
  {
   "cell_type": "code",
   "execution_count": 7,
   "id": "f3aea546",
   "metadata": {
    "scrolled": true
   },
   "outputs": [],
   "source": [
    "# CORRECT DTYPES OF COLUMNS BASED ON DOMAIN KNOWLEDGE\n",
    "\n",
    "data_raw['Severity Code (Inc)'] = data_raw['Severity Code (Inc)'].astype(\"object\")\n",
    "data_raw['FCR'] = data_raw['FCR'].astype(\"object\")\n",
    "data_raw['RR'] = data_raw['RR'].astype(\"object\")\n",
    "\n",
    "data_raw['Product Cat Tier 1'] = data_raw['Product Cat Tier 1'].astype(\"string\")\n",
    "data_raw['Product Cat Tier 2'] = data_raw['Product Cat Tier 2'].astype(\"string\")\n",
    "data_raw['Product Cat Tier 3'] = data_raw['Product Cat Tier 3'].astype(\"string\")"
   ]
  },
  {
   "cell_type": "code",
   "execution_count": 8,
   "id": "dda032eb",
   "metadata": {},
   "outputs": [
    {
     "name": "stdout",
     "output_type": "stream",
     "text": [
      "Index(['Duration Hours', 'Team Name (Inc)', 'Severity Code (Inc)',\n",
      "       'Problem Note Text (Inc)', 'Action Notes', 'Product Cat Tier 1',\n",
      "       'Product Cat Tier 2', 'Product Cat Tier 3', 'FCR', 'RR'],\n",
      "      dtype='object')\n"
     ]
    }
   ],
   "source": [
    "# DROP COLUMNS OUTSIDE THE SCOPE OF THIS CLASSIFICATION MODEL\n",
    "\n",
    "drop_columns= [\"Incident Identifier(NEOS)\", \"Solution End Date Time TZ (Inc)\", \"NEOS1\", \n",
    "               \"Created Date\", \"Master Customer Name (Inc)\", \"Master Customer Number (Inc)\", \n",
    "               \"Customer Name\", \"Site Name (Inc)\", 'City (Inc)', \"Submitter Name (Inc)\", \n",
    "               \"Operational Catogerization Tier 1\", \"Operational Catogerization Tier 2\",\n",
    "               \"Operational Catogerization Tier 3\", \"Product Cat Tier 4\", \"Resolution Product Cat Tier 1\", \n",
    "               \"Resolution Product Cat Tier 2\", \"Resolution Product Cat Tier 3\", \n",
    "               \"Resolution Product Cat Tier 4\", \"NEOS2\", \"Closed by\", \n",
    "               \"Incident Status Description (Inc)\"]\n",
    "df1 = data_raw.drop(drop_columns, axis=1)\n",
    "print(df1.columns)"
   ]
  },
  {
   "cell_type": "code",
   "execution_count": 9,
   "id": "5eb2611f",
   "metadata": {},
   "outputs": [
    {
     "data": {
      "text/plain": [
       "age_hours        object\n",
       "team             object\n",
       "sev              object\n",
       "problem_notes    object\n",
       "action_notes     object\n",
       "prod_cat1        string\n",
       "prod_cat2        string\n",
       "prod_cat3        string\n",
       "FCR              object\n",
       "RR               object\n",
       "dtype: object"
      ]
     },
     "execution_count": 9,
     "metadata": {},
     "output_type": "execute_result"
    }
   ],
   "source": [
    "# SIMPLIFY COLUMN NAMES\n",
    "\n",
    "cols_names= [\"age_hours\",\"team\",\"sev\",\"problem_notes\",\"action_notes\",\n",
    "            \"prod_cat1\",\"prod_cat2\",\"prod_cat3\", \"FCR\",\"RR\"]\n",
    "df1.columns = cols_names\n",
    "df1.dtypes"
   ]
  },
  {
   "cell_type": "code",
   "execution_count": 10,
   "id": "bb216dda",
   "metadata": {},
   "outputs": [
    {
     "data": {
      "text/plain": [
       "<AxesSubplot:title={'center':'Missing Values'}, xlabel='Columns', ylabel='Percentage / Count'>"
      ]
     },
     "execution_count": 10,
     "metadata": {},
     "output_type": "execute_result"
    },
    {
     "data": {
      "image/png": "[encoded data removed]",
      "text/plain": [
       "<Figure size 1728x720 with 3 Axes>"
      ]
     },
     "metadata": {},
     "output_type": "display_data"
    }
   ],
   "source": [
    "# CHECK FOR MISSING VALUES\n",
    "\n",
    "import missingno as msno\n",
    "fig, ax = plt.subplots()\n",
    "fig.patch.set_facecolor('white')\n",
    "ax.set_xlabel('Columns')\n",
    "ax.set_ylabel('Percentage / Count')\n",
    "ax.set_title('Missing Values')\n",
    "msno.bar(df1, color='green')"
   ]
  },
  {
   "cell_type": "code",
   "execution_count": 11,
   "id": "aad65692",
   "metadata": {},
   "outputs": [
    {
     "data": {
      "text/plain": [
       "0"
      ]
     },
     "execution_count": 11,
     "metadata": {},
     "output_type": "execute_result"
    }
   ],
   "source": [
    "# IMPUTE MISSING VALUES IN AGE_HOURS USING MEDIAN() \n",
    "\n",
    "df1.age_hours.fillna(df1.age_hours.median(), inplace=True)\n",
    "df1.age_hours.isna().sum()"
   ]
  },
  {
   "cell_type": "markdown",
   "id": "305b7146",
   "metadata": {},
   "source": [
    "## DF2"
   ]
  },
  {
   "cell_type": "code",
   "execution_count": 12,
   "id": "604929f7",
   "metadata": {},
   "outputs": [],
   "source": [
    "# VALUES FROM REMAINING CATEGORICAL /TEXT COLUMNS CANNOT BE IMPUTED, DROPPING THESE ROWS\n",
    "\n",
    "df2 = df1.dropna()\n",
    "df2.reset_index(drop=True, inplace=True)"
   ]
  },
  {
   "cell_type": "code",
   "execution_count": 13,
   "id": "9c5563f4",
   "metadata": {},
   "outputs": [
    {
     "data": {
      "text/plain": [
       "<AxesSubplot:title={'center':'Missing Values'}, xlabel='Columns', ylabel='Percentage / Count'>"
      ]
     },
     "execution_count": 13,
     "metadata": {},
     "output_type": "execute_result"
    },
    {
     "data": {
      "image/png": "[encoded data removed]",
      "text/plain": [
       "<Figure size 1728x720 with 3 Axes>"
      ]
     },
     "metadata": {},
     "output_type": "display_data"
    }
   ],
   "source": [
    "# MAKE SURE NO MISSING VALUES REMAIN\n",
    "\n",
    "fig, ax = plt.subplots()\n",
    "fig.patch.set_facecolor('white')\n",
    "ax.set_xlabel('Columns')\n",
    "ax.set_ylabel('Percentage / Count')\n",
    "ax.set_title('Missing Values')\n",
    "msno.bar(df2, color='green')"
   ]
  },
  {
   "cell_type": "code",
   "execution_count": 14,
   "id": "dadb12d4",
   "metadata": {},
   "outputs": [
    {
     "data": {
      "text/plain": [
       "<AxesSubplot:title={'center':'Age Distribution'}, xlabel='Age (Hrs)', ylabel='Count in Bin'>"
      ]
     },
     "execution_count": 14,
     "metadata": {},
     "output_type": "execute_result"
    },
    {
     "data": {
      "image/png": "[encoded data removed]",
      "text/plain": [
       "<Figure size 432x288 with 1 Axes>"
      ]
     },
     "metadata": {},
     "output_type": "display_data"
    }
   ],
   "source": [
    "# CHECK FOR OUTLIERS WITHIN AGE_HOURS\n",
    "\n",
    "fig, ax = plt.subplots()\n",
    "fig.patch.set_facecolor('white')\n",
    "ax.set_xlabel('Age (Hrs)')\n",
    "ax.set_ylabel('Count in Bin')\n",
    "ax.set_title('Age Distribution')\n",
    "sns.histplot(x='age_hours', data=df2, bins=50, color='green')"
   ]
  },
  {
   "cell_type": "code",
   "execution_count": 15,
   "id": "3429d119",
   "metadata": {},
   "outputs": [
    {
     "name": "stdout",
     "output_type": "stream",
     "text": [
      "Percentage of cases with Age > 300 hrs\n",
      " 0.002 %\n"
     ]
    }
   ],
   "source": [
    "# CHECK PERCENTAGE OF CASES OUTSIDE THE TARGET THRESHOLD\n",
    "\n",
    "print(\"Percentage of cases with Age > 300 hrs\\n\", \n",
    "      round(len(df2[df2['age_hours'] > 300]) / len(df2), 3), \"%\")"
   ]
  },
  {
   "cell_type": "code",
   "execution_count": 16,
   "id": "3a54db06",
   "metadata": {},
   "outputs": [
    {
     "name": "stderr",
     "output_type": "stream",
     "text": [
      "C:\\Users\\DP185257\\Anaconda3\\lib\\site-packages\\pandas\\core\\indexing.py:1817: SettingWithCopyWarning: \n",
      "A value is trying to be set on a copy of a slice from a DataFrame.\n",
      "Try using .loc[row_indexer,col_indexer] = value instead\n",
      "\n",
      "See the caveats in the documentation: https://pandas.pydata.org/pandas-docs/stable/user_guide/indexing.html#returning-a-view-versus-a-copy\n",
      "  self._setitem_single_column(loc, value, pi)\n"
     ]
    }
   ],
   "source": [
    "# REPLACE OUTLIER VALUES WITH IMPUTED MEDIAN\n",
    "\n",
    "df2.loc[df2.age_hours > 300, \"age_hours\"] = df2.loc[df2.age_hours < 300, \"age_hours\"].median()"
   ]
  },
  {
   "cell_type": "code",
   "execution_count": 17,
   "id": "45ef1c31",
   "metadata": {
    "scrolled": false
   },
   "outputs": [
    {
     "data": {
      "text/plain": [
       "<AxesSubplot:title={'center':'Age Distribution'}, xlabel='Age (Hrs)', ylabel='Count in Bin'>"
      ]
     },
     "execution_count": 17,
     "metadata": {},
     "output_type": "execute_result"
    },
    {
     "data": {
      "image/png": "[encoded data removed]",
      "text/plain": [
       "<Figure size 432x288 with 1 Axes>"
      ]
     },
     "metadata": {},
     "output_type": "display_data"
    }
   ],
   "source": [
    "# CHECK FOR OUTLIERS WITHIN AGE_HOURS AGAIN\n",
    "\n",
    "fig, ax = plt.subplots()\n",
    "fig.patch.set_facecolor('white')\n",
    "ax.set_xlabel('Age (Hrs)')\n",
    "ax.set_ylabel('Count in Bin')\n",
    "ax.set_title('Age Distribution')\n",
    "sns.histplot(x='age_hours', data=df2, bins=50, color='green')"
   ]
  },
  {
   "cell_type": "code",
   "execution_count": 18,
   "id": "7ebf9d6a",
   "metadata": {},
   "outputs": [
    {
     "data": {
      "image/png": "[encoded data removed]",
      "text/plain": [
       "<Figure size 432x288 with 1 Axes>"
      ]
     },
     "metadata": {},
     "output_type": "display_data"
    }
   ],
   "source": [
    "# CHECK DISTRIBUTION OF TEAM FEATURE\n",
    "\n",
    "fig = plt.figure()\n",
    "fig.patch.set_facecolor('white')\n",
    "ax = sns.countplot(x='team', data=df2, palette='Greens_d')\n",
    "plt.xticks(rotation=90)\n",
    "plt.show()"
   ]
  },
  {
   "cell_type": "code",
   "execution_count": 19,
   "id": "ebdb052d",
   "metadata": {},
   "outputs": [
    {
     "name": "stderr",
     "output_type": "stream",
     "text": [
      "C:\\Users\\DP185257\\Anaconda3\\lib\\site-packages\\pandas\\core\\indexing.py:1667: SettingWithCopyWarning: \n",
      "A value is trying to be set on a copy of a slice from a DataFrame.\n",
      "Try using .loc[row_indexer,col_indexer] = value instead\n",
      "\n",
      "See the caveats in the documentation: https://pandas.pydata.org/pandas-docs/stable/user_guide/indexing.html#returning-a-view-versus-a-copy\n",
      "  self.obj[key] = value\n",
      "C:\\Users\\DP185257\\Anaconda3\\lib\\site-packages\\pandas\\core\\indexing.py:1817: SettingWithCopyWarning: \n",
      "A value is trying to be set on a copy of a slice from a DataFrame.\n",
      "Try using .loc[row_indexer,col_indexer] = value instead\n",
      "\n",
      "See the caveats in the documentation: https://pandas.pydata.org/pandas-docs/stable/user_guide/indexing.html#returning-a-view-versus-a-copy\n",
      "  self._setitem_single_column(loc, value, pi)\n"
     ]
    }
   ],
   "source": [
    "# ITERATE THROUGH THE TEAM SERIES, EVALUATE STR OBJECTS THAT CONTAIN 'L1' AND POPULATE 'L1' FEATURE\n",
    "# VALUE OF 1 INDICATES L1, VALUE OF 0 INDICATES L3\n",
    "\n",
    "df2.loc[:,\"L1\"] = 0\n",
    "for x in range(len(df2.team)):\n",
    "    if df2.team[x].find(\" L1\") > 0:\n",
    "        df2.loc[x, \"L1\"] = 1\n",
    "    else:\n",
    "        df2.loc[x, \"L1\"] = 0"
   ]
  },
  {
   "cell_type": "code",
   "execution_count": 20,
   "id": "1dc46018",
   "metadata": {},
   "outputs": [
    {
     "data": {
      "image/png": "[encoded data removed]",
      "text/plain": [
       "<Figure size 432x288 with 1 Axes>"
      ]
     },
     "metadata": {},
     "output_type": "display_data"
    }
   ],
   "source": [
    "# SHOW CLASS BALANCE OF NEW L1 FEATURE\n",
    "\n",
    "fig = plt.figure()\n",
    "fig.patch.set_facecolor('white')\n",
    "ax = sns.countplot(x='L1', data=df2, palette='Greens_d')\n",
    "plt.show()"
   ]
  },
  {
   "cell_type": "code",
   "execution_count": 21,
   "id": "2b0ce2cb",
   "metadata": {
    "scrolled": true
   },
   "outputs": [
    {
     "name": "stderr",
     "output_type": "stream",
     "text": [
      "C:\\Users\\DP185257\\Anaconda3\\lib\\site-packages\\pandas\\core\\indexing.py:1667: SettingWithCopyWarning: \n",
      "A value is trying to be set on a copy of a slice from a DataFrame.\n",
      "Try using .loc[row_indexer,col_indexer] = value instead\n",
      "\n",
      "See the caveats in the documentation: https://pandas.pydata.org/pandas-docs/stable/user_guide/indexing.html#returning-a-view-versus-a-copy\n",
      "  self.obj[key] = value\n",
      "C:\\Users\\DP185257\\Anaconda3\\lib\\site-packages\\pandas\\core\\indexing.py:1817: SettingWithCopyWarning: \n",
      "A value is trying to be set on a copy of a slice from a DataFrame.\n",
      "Try using .loc[row_indexer,col_indexer] = value instead\n",
      "\n",
      "See the caveats in the documentation: https://pandas.pydata.org/pandas-docs/stable/user_guide/indexing.html#returning-a-view-versus-a-copy\n",
      "  self._setitem_single_column(loc, value, pi)\n"
     ]
    },
    {
     "data": {
      "text/plain": [
       "z_Third Party,Third Party SW Not Working,Third Party SW Not Working    633\n",
       "z_NCR Back Office,Sales,Sales                                          497\n",
       "z_Aloha POS,Front Of House,Missing employee                            450\n",
       "z_NCR Back Office,Labor,Labor                                          415\n",
       "z_Aloha POS,Site/Store Down,Determining File Server                    396\n",
       "                                                                      ... \n",
       "z_Aloha Takeout,Delivery,Missing check                                  11\n",
       "z_Aloha Takeout,ATO End Of Day,Failed To Start                          11\n",
       "z_Server,BSOD,HW Failure                                                11\n",
       "z_Aloha POS,Front Of House,Manager functions                            10\n",
       "z_Aloha Manager / CFC,Items,Configuration                               10\n",
       "Name: prod_cat, Length: 96, dtype: Int64"
      ]
     },
     "execution_count": 21,
     "metadata": {},
     "output_type": "execute_result"
    }
   ],
   "source": [
    "# MERGE TOGETHER THE TEXT COLUMNS FOR PROD_CAT, AS EVERY TICKET WILL HAVE SOME COMBINATION OF \n",
    "    # ALL 3 OF THESE TOGETHER. SO EACH COMBINATION REPRESENTS 1 CLASS IN THE CATEGORICAL FEATURE\n",
    "\n",
    "df2.loc[:,\"prod_cat\"] = df2.loc[:,\"prod_cat1\"]\n",
    "for i in range(len(df2.prod_cat)):\n",
    "    df2.loc[i, \"prod_cat\"] = df2.loc[i, \"prod_cat1\"] + \",\" + df2.loc[i, \"prod_cat2\"] + \",\" + df2.loc[i, \"prod_cat3\"]\n",
    "\n",
    "# REMOVE LABELS NOT OCCURRING AT LEAST 10 TIMES\n",
    "\n",
    "ind_list= list(df2.prod_cat.value_counts()[df2.prod_cat.value_counts() < 10].index)\n",
    "df2= df2.loc[~df2['prod_cat'].isin(ind_list)]\n",
    "df2.prod_cat.value_counts()"
   ]
  },
  {
   "cell_type": "code",
   "execution_count": 22,
   "id": "a2b37f4d",
   "metadata": {
    "scrolled": true
   },
   "outputs": [
    {
     "name": "stdout",
     "output_type": "stream",
     "text": [
      "Before column drop: (8724, 12)\n",
      "After column drop: (8724, 9)\n"
     ]
    }
   ],
   "source": [
    "# DROP INDIVIDUAL PROD_CAT COLUMNS AFTER CONCAT\n",
    "\n",
    "print(\"Before column drop:\",df2.shape)\n",
    "df2.drop([\"prod_cat1\", \"prod_cat2\", \"prod_cat3\"], axis=1, inplace=True)\n",
    "print(\"After column drop:\",df2.shape)"
   ]
  },
  {
   "cell_type": "code",
   "execution_count": 23,
   "id": "f30f3b1d",
   "metadata": {},
   "outputs": [
    {
     "data": {
      "text/html": [
       "<div>\n",
       "<style scoped>\n",
       "    .dataframe tbody tr th:only-of-type {\n",
       "        vertical-align: middle;\n",
       "    }\n",
       "\n",
       "    .dataframe tbody tr th {\n",
       "        vertical-align: top;\n",
       "    }\n",
       "\n",
       "    .dataframe thead th {\n",
       "        text-align: right;\n",
       "    }\n",
       "</style>\n",
       "<table border=\"1\" class=\"dataframe\">\n",
       "  <thead>\n",
       "    <tr style=\"text-align: right;\">\n",
       "      <th></th>\n",
       "      <th>age_hours</th>\n",
       "      <th>team</th>\n",
       "      <th>sev</th>\n",
       "      <th>problem_notes</th>\n",
       "      <th>action_notes</th>\n",
       "      <th>FCR</th>\n",
       "      <th>RR</th>\n",
       "      <th>L1</th>\n",
       "      <th>prod_cat</th>\n",
       "    </tr>\n",
       "  </thead>\n",
       "  <tbody>\n",
       "    <tr>\n",
       "      <th>0</th>\n",
       "      <td>0.046389</td>\n",
       "      <td>HSR/Aloha Wingstop L1</td>\n",
       "      <td>1.0</td>\n",
       "      <td>1. Site Name/Site Number (GEMS):  38   \\n2. Po...</td>\n",
       "      <td>2022-03-31 23:11 - dv250157\\nGeneral Informati...</td>\n",
       "      <td>1.0</td>\n",
       "      <td>0.0</td>\n",
       "      <td>1</td>\n",
       "      <td>z_PinPad / CC Machine,Display,Incorrect Screen</td>\n",
       "    </tr>\n",
       "    <tr>\n",
       "      <th>1</th>\n",
       "      <td>0.065278</td>\n",
       "      <td>HSR/Aloha Wingstop L1</td>\n",
       "      <td>2.0</td>\n",
       "      <td>Employee export</td>\n",
       "      <td>2022-03-31 23:23 - vb250277\\nWorking Log: Fiel...</td>\n",
       "      <td>1.0</td>\n",
       "      <td>0.0</td>\n",
       "      <td>1</td>\n",
       "      <td>z_NCR Back Office,Database,Database</td>\n",
       "    </tr>\n",
       "    <tr>\n",
       "      <th>2</th>\n",
       "      <td>0.821667</td>\n",
       "      <td>HSR/Aloha Wingstop L1</td>\n",
       "      <td>0.0</td>\n",
       "      <td>WNG - Store offline - Internet issue</td>\n",
       "      <td>2022-04-01 00:09 - dv250157\\nWorking Log: Fiel...</td>\n",
       "      <td>1.0</td>\n",
       "      <td>0.0</td>\n",
       "      <td>1</td>\n",
       "      <td>z_Third Party,Internet Service Provider,Intern...</td>\n",
       "    </tr>\n",
       "    <tr>\n",
       "      <th>3</th>\n",
       "      <td>12.002778</td>\n",
       "      <td>HSR/Aloha Wingstop L1</td>\n",
       "      <td>0.0</td>\n",
       "      <td>WNG - All terms down</td>\n",
       "      <td>2022-04-01 00:18 - dv250157\\nWorking Log: Fiel...</td>\n",
       "      <td>0.0</td>\n",
       "      <td>0.0</td>\n",
       "      <td>1</td>\n",
       "      <td>z_Aloha POS,Site/Store Down,Determining File S...</td>\n",
       "    </tr>\n",
       "    <tr>\n",
       "      <th>4</th>\n",
       "      <td>14.766944</td>\n",
       "      <td>HSR/Aloha Wingstop L1</td>\n",
       "      <td>2.0</td>\n",
       "      <td>FOH-Printer rerouting</td>\n",
       "      <td>2022-04-01 01:00 - vv250206\\nWorking Log: Fiel...</td>\n",
       "      <td>0.0</td>\n",
       "      <td>0.0</td>\n",
       "      <td>1</td>\n",
       "      <td>z_Printer,Won't Print,HW Failure</td>\n",
       "    </tr>\n",
       "  </tbody>\n",
       "</table>\n",
       "</div>"
      ],
      "text/plain": [
       "   age_hours                   team  sev  \\\n",
       "0   0.046389  HSR/Aloha Wingstop L1  1.0   \n",
       "1   0.065278  HSR/Aloha Wingstop L1  2.0   \n",
       "2   0.821667  HSR/Aloha Wingstop L1  0.0   \n",
       "3  12.002778  HSR/Aloha Wingstop L1  0.0   \n",
       "4  14.766944  HSR/Aloha Wingstop L1  2.0   \n",
       "\n",
       "                                       problem_notes  \\\n",
       "0  1. Site Name/Site Number (GEMS):  38   \\n2. Po...   \n",
       "1                                   Employee export    \n",
       "2               WNG - Store offline - Internet issue   \n",
       "3                               WNG - All terms down   \n",
       "4                             FOH-Printer rerouting    \n",
       "\n",
       "                                        action_notes  FCR   RR  L1  \\\n",
       "0  2022-03-31 23:11 - dv250157\\nGeneral Informati...  1.0  0.0   1   \n",
       "1  2022-03-31 23:23 - vb250277\\nWorking Log: Fiel...  1.0  0.0   1   \n",
       "2  2022-04-01 00:09 - dv250157\\nWorking Log: Fiel...  1.0  0.0   1   \n",
       "3  2022-04-01 00:18 - dv250157\\nWorking Log: Fiel...  0.0  0.0   1   \n",
       "4  2022-04-01 01:00 - vv250206\\nWorking Log: Fiel...  0.0  0.0   1   \n",
       "\n",
       "                                            prod_cat  \n",
       "0     z_PinPad / CC Machine,Display,Incorrect Screen  \n",
       "1                z_NCR Back Office,Database,Database  \n",
       "2  z_Third Party,Internet Service Provider,Intern...  \n",
       "3  z_Aloha POS,Site/Store Down,Determining File S...  \n",
       "4                   z_Printer,Won't Print,HW Failure  "
      ]
     },
     "execution_count": 23,
     "metadata": {},
     "output_type": "execute_result"
    }
   ],
   "source": [
    "df2.head()"
   ]
  },
  {
   "cell_type": "code",
   "execution_count": 24,
   "id": "1b323018",
   "metadata": {},
   "outputs": [
    {
     "data": {
      "text/plain": [
       "age_hours        float64\n",
       "team              object\n",
       "sev               object\n",
       "problem_notes     object\n",
       "action_notes      object\n",
       "FCR               object\n",
       "RR                object\n",
       "L1                object\n",
       "prod_cat          string\n",
       "dtype: object"
      ]
     },
     "execution_count": 24,
     "metadata": {},
     "output_type": "execute_result"
    }
   ],
   "source": [
    "# CORRECT DATA TYPE AGAIN FOR VARIOUS NUMERIC COLUMNS THAT SHOULD BE CATEGORICAL\n",
    "\n",
    "df2.FCR = [str(int(x)) for x in df2[\"FCR\"]]\n",
    "df2.RR = [str(int(x)) for x in df2[\"RR\"]]\n",
    "df2.L1 = [str(x) for x in df2[\"L1\"]]\n",
    "df2.sev = [str(int(x)) for x in df2[\"sev\"]]\n",
    "df2.dtypes"
   ]
  },
  {
   "cell_type": "code",
   "execution_count": 50,
   "id": "d16c2bca",
   "metadata": {},
   "outputs": [
    {
     "data": {
      "text/plain": [
       "count    8724.000000\n",
       "mean        0.200023\n",
       "std         0.400040\n",
       "min         0.000000\n",
       "25%         0.000000\n",
       "50%         0.000000\n",
       "75%         0.000000\n",
       "max         1.000000\n",
       "Name: correct_cat, dtype: float64"
      ]
     },
     "execution_count": 50,
     "metadata": {},
     "output_type": "execute_result"
    }
   ],
   "source": [
    "# GENERATE TARGET (Y) VARIABLE, AN 80/20 SPLIT OF 1=INACCURATE and 0=ACCURATE, SIMULATING REAL\n",
    "    # CATEGORIZATION ACCURACY. THE TARGET VARIABLE IS THE NEGATIVE CLASS\n",
    "# GENERATED FEATURE VARIABLE IS RANDOMIZED\n",
    "\n",
    "N = int(df2.shape[0] * 0.8)\n",
    "K = int(df2.shape[0] * 0.2 + 1) # K zeros, N-K ones\n",
    "arr = np.array([1] * K + [0] * (N))\n",
    "np.random.shuffle(arr)\n",
    "\n",
    "df2[\"correct_cat\"] = arr\n",
    "#df2.loc[:,\"correct_cat\"] = df2[\"correct_cat\"].astype(object)\n",
    "df2.correct_cat.describe()"
   ]
  },
  {
   "cell_type": "code",
   "execution_count": 51,
   "id": "8c58c39a",
   "metadata": {},
   "outputs": [],
   "source": [
    "# ENGINEER NEW FEATURES FOR LEN() OF USER ENTRY FIELDS\n",
    "\n",
    "df2[\"prob_notes_len\"] = [len(x) for x in df2.problem_notes]\n",
    "df2[\"act_notes_len\"] = [len(x) for x in df2.action_notes]"
   ]
  },
  {
   "cell_type": "code",
   "execution_count": 52,
   "id": "e2eb66fa",
   "metadata": {},
   "outputs": [
    {
     "data": {
      "text/plain": [
       "<AxesSubplot:title={'center':'Len() of Problem Notes'}, xlabel='Number of characters', ylabel='Count'>"
      ]
     },
     "execution_count": 52,
     "metadata": {},
     "output_type": "execute_result"
    },
    {
     "data": {
      "image/png": "[encoded data removed]",
      "text/plain": [
       "<Figure size 432x288 with 1 Axes>"
      ]
     },
     "metadata": {},
     "output_type": "display_data"
    }
   ],
   "source": [
    "# COMPARE LEN OF PROB NOTES AND ACT NOTES, BOTH WILL SURELY NEED TO BE REGULARIZED FOR ML\n",
    "\n",
    "fig, ax = plt.subplots()\n",
    "fig.patch.set_facecolor('white')\n",
    "ax.set_title('Len() of Problem Notes')\n",
    "ax.set_xlabel('Number of characters')\n",
    "sns.histplot(data=df2, x=\"prob_notes_len\", color=\"green\", kde=True)"
   ]
  },
  {
   "cell_type": "code",
   "execution_count": 53,
   "id": "2c5c8d7a",
   "metadata": {},
   "outputs": [
    {
     "data": {
      "text/plain": [
       "<AxesSubplot:title={'center':'Len() of Action Notes'}, xlabel='Number of characters', ylabel='Count'>"
      ]
     },
     "execution_count": 53,
     "metadata": {},
     "output_type": "execute_result"
    },
    {
     "data": {
      "image/png": "[encoded data removed]",
      "text/plain": [
       "<Figure size 432x288 with 1 Axes>"
      ]
     },
     "metadata": {},
     "output_type": "display_data"
    }
   ],
   "source": [
    "fig, ax = plt.subplots()\n",
    "fig.patch.set_facecolor('white')\n",
    "ax.set_xlabel('Number of characters')\n",
    "ax.set_title('Len() of Action Notes')\n",
    "sns.histplot(data=df2, x=\"act_notes_len\", color=\"green\", kde=True)"
   ]
  },
  {
   "cell_type": "code",
   "execution_count": 54,
   "id": "3d43ff9b",
   "metadata": {},
   "outputs": [],
   "source": [
    "### FUNCTION TO TAKE A SERIES OF TEXT AND CLEAN IT, REMOVING SPECIAL CHARACTERS, \n",
    "    ### REPLACING NEW LINES WITH \" \", AND LOWER() ON EVERYTHING\n",
    "\n",
    "def clean_text(series): \n",
    "    new_series = series.str.replace('[^a-zA-Z \\n]', '')\n",
    "    new_series = new_series.str.replace('\\n', ' ')\n",
    "    new_series = new_series.str.lower()\n",
    "    return new_series"
   ]
  },
  {
   "cell_type": "code",
   "execution_count": 55,
   "id": "478fb6a6",
   "metadata": {},
   "outputs": [],
   "source": [
    "df2.reset_index(drop=True, inplace=True)"
   ]
  },
  {
   "cell_type": "markdown",
   "id": "8bc731e9",
   "metadata": {},
   "source": [
    "## DF3"
   ]
  },
  {
   "cell_type": "code",
   "execution_count": 56,
   "id": "d3d2d90f",
   "metadata": {
    "scrolled": true
   },
   "outputs": [
    {
     "name": "stderr",
     "output_type": "stream",
     "text": [
      "C:\\Users\\DP185257\\AppData\\Local\\Temp/ipykernel_15016/1607333787.py:5: FutureWarning: The default value of regex will change from True to False in a future version.\n",
      "  new_series = series.str.replace('[^a-zA-Z \\n]', '')\n"
     ]
    },
    {
     "name": "stdout",
     "output_type": "stream",
     "text": [
      "0     site namesite number gems       point of cont...\n",
      "1    employee export    vb working log field values...\n",
      "2    wng  store offline  internet issue   dv workin...\n",
      "3    wng  all terms down   dv working log field val...\n",
      "4    fohprinter rerouting    vv working log field v...\n",
      "Name: combined_notes, dtype: object\n"
     ]
    }
   ],
   "source": [
    "# COMBINE PROBLEM_NOTES AND ACTION_NOTES SINCE THEY ARE COMPARABLE FIELDS THAT CAN BE VECTORIZED TOGETHER\n",
    "\n",
    "prob_series= clean_text(df2['problem_notes'])\n",
    "act_series= clean_text(df2['action_notes'])\n",
    "\n",
    "df3= df2.drop(['action_notes', 'problem_notes'], axis=1)\n",
    "df3.loc[:,\"combined_notes\"] = [(prob_series[x] + act_series[x]) for x in range(len(df2))]\n",
    "print(df3.combined_notes.head())"
   ]
  },
  {
   "cell_type": "markdown",
   "id": "f622ea48",
   "metadata": {},
   "source": [
    "***\n",
    "##### NOTE: CLEANING NUMBERS FROM NOTES REMOVES REFERENCES LIKE T1 ETC\n",
    "*May reconsider this for future scope*\n",
    "***"
   ]
  },
  {
   "cell_type": "code",
   "execution_count": 57,
   "id": "d4f87f36",
   "metadata": {},
   "outputs": [
    {
     "data": {
      "text/plain": [
       "Index(['age_hours', 'team', 'sev', 'FCR', 'RR', 'L1', 'prod_cat',\n",
       "       'correct_cat', 'prob_notes_len', 'act_notes_len', 'combined_notes'],\n",
       "      dtype='object')"
      ]
     },
     "execution_count": 57,
     "metadata": {},
     "output_type": "execute_result"
    }
   ],
   "source": [
    "df3.columns"
   ]
  },
  {
   "cell_type": "code",
   "execution_count": 58,
   "id": "d7c310b1",
   "metadata": {},
   "outputs": [],
   "source": [
    "# FUNCTION TO APPLY GET_DUMMIES TO A SPECIFIED CATEGORICAL FEATURE, THEN DROP ORIGINAL COLUMN\n",
    "\n",
    "def encode_and_bind(original_dataframe, feature_to_encode):\n",
    "    dummies = pd.get_dummies(original_dataframe[feature_to_encode])\n",
    "    res = pd.concat([original_dataframe, dummies], axis=1)\n",
    "    res = res.drop([feature_to_encode], axis=1)\n",
    "    return(res) "
   ]
  },
  {
   "cell_type": "markdown",
   "id": "ad31d6da",
   "metadata": {},
   "source": [
    "## DF4"
   ]
  },
  {
   "cell_type": "code",
   "execution_count": null,
   "id": "72bc955a",
   "metadata": {},
   "outputs": [],
   "source": []
  },
  {
   "cell_type": "code",
   "execution_count": 59,
   "id": "dd7f117c",
   "metadata": {},
   "outputs": [
    {
     "data": {
      "text/plain": [
       "Index(['age_hours', 'team', 'sev', 'FCR', 'RR', 'L1', 'correct_cat',\n",
       "       'prob_notes_len', 'act_notes_len', 'combined_notes',\n",
       "       ...\n",
       "       'z_Terminal,Power,Randomly Shuts Off',\n",
       "       'z_Terminal,Power,Unable to Start',\n",
       "       'z_Terminal,Reboot Loop,Reboot Loop',\n",
       "       'z_Terminal,Slow / Lagging,Slow/Lagging',\n",
       "       'z_Terminal,Time / Date,Time Incorrect', 'z_Terminal,Windows,Other',\n",
       "       'z_Third Party,Internet Service Provider,Internet Service Provider',\n",
       "       'z_Third Party,Third Party HW Not Working,Third Party HW Not Working',\n",
       "       'z_Third Party,Third Party Integration,Third Party Integration',\n",
       "       'z_Third Party,Third Party SW Not Working,Third Party SW Not Working'],\n",
       "      dtype='object', length=106)"
      ]
     },
     "execution_count": 59,
     "metadata": {},
     "output_type": "execute_result"
    }
   ],
   "source": [
    "df4= encode_and_bind(df3, 'prod_cat')\n",
    "df4.columns"
   ]
  },
  {
   "cell_type": "code",
   "execution_count": 60,
   "id": "a0a9ae5d",
   "metadata": {},
   "outputs": [
    {
     "data": {
      "text/plain": [
       "array(['HSR/Aloha Wingstop L1', 'HSR/Aloha Wingstop L1',\n",
       "       'HSR/Aloha Wingstop L1', ..., 'HSR/Aloha Wingstop L3',\n",
       "       'HSR/Aloha Wingstop L1', 'HSR/Aloha Wingstop L1'], dtype=object)"
      ]
     },
     "execution_count": 60,
     "metadata": {},
     "output_type": "execute_result"
    }
   ],
   "source": [
    "df4.team.values"
   ]
  },
  {
   "cell_type": "markdown",
   "id": "3c1438bc",
   "metadata": {},
   "source": [
    "## DF5"
   ]
  },
  {
   "cell_type": "code",
   "execution_count": 61,
   "id": "690e4619",
   "metadata": {
    "scrolled": true
   },
   "outputs": [
    {
     "data": {
      "text/plain": [
       "Index(['age_hours', 'sev', 'FCR', 'RR', 'L1', 'correct_cat', 'prob_notes_len',\n",
       "       'act_notes_len', 'combined_notes',\n",
       "       'z_Aloha Manager / CFC,Employees,Configuration',\n",
       "       ...\n",
       "       'z_Third Party,Internet Service Provider,Internet Service Provider',\n",
       "       'z_Third Party,Third Party HW Not Working,Third Party HW Not Working',\n",
       "       'z_Third Party,Third Party Integration,Third Party Integration',\n",
       "       'z_Third Party,Third Party SW Not Working,Third Party SW Not Working',\n",
       "       'HSR/Aloha Wingstop Hardware L1', 'HSR/Aloha Wingstop L1',\n",
       "       'HSR/Aloha Wingstop L3', 'HSR/Aloha Wingstop NBO L3',\n",
       "       'HSR/Aloha Wingstop Project L3', 'HSR/Enterprise Aloha Wingstop WIT'],\n",
       "      dtype='object', length=111)"
      ]
     },
     "execution_count": 61,
     "metadata": {},
     "output_type": "execute_result"
    }
   ],
   "source": [
    "df5= encode_and_bind(df4, 'team')\n",
    "df5.columns"
   ]
  },
  {
   "cell_type": "code",
   "execution_count": 62,
   "id": "bb89a245",
   "metadata": {
    "scrolled": true
   },
   "outputs": [],
   "source": [
    "from nltk.corpus import stopwords\n",
    "from sklearn.feature_extraction.text import TfidfVectorizer\n",
    "\n",
    "# Instantiate TfidfVectorizer\n",
    "tv = TfidfVectorizer(stop_words='english',\n",
    "                    min_df=10, ngram_range=(1,3))\n",
    "\n",
    "# Fit the vectorizer and transform the data\n",
    "tv_transformed = tv.fit_transform(df3['combined_notes'])\n",
    "\n",
    "# Create a DataFrame with these features\n",
    "tv_df = pd.DataFrame(tv_transformed.toarray(), \n",
    "                     columns=tv.get_feature_names()).add_prefix('TFIDF_')"
   ]
  },
  {
   "cell_type": "code",
   "execution_count": 63,
   "id": "3bdf40a4",
   "metadata": {},
   "outputs": [
    {
     "data": {
      "text/plain": [
       "(8724, 18319)"
      ]
     },
     "execution_count": 63,
     "metadata": {},
     "output_type": "execute_result"
    }
   ],
   "source": [
    "tv_df.shape"
   ]
  },
  {
   "cell_type": "markdown",
   "id": "ac326719",
   "metadata": {},
   "source": [
    "## DF6"
   ]
  },
  {
   "cell_type": "code",
   "execution_count": 64,
   "id": "0654854b",
   "metadata": {},
   "outputs": [
    {
     "data": {
      "text/html": [
       "<div>\n",
       "<style scoped>\n",
       "    .dataframe tbody tr th:only-of-type {\n",
       "        vertical-align: middle;\n",
       "    }\n",
       "\n",
       "    .dataframe tbody tr th {\n",
       "        vertical-align: top;\n",
       "    }\n",
       "\n",
       "    .dataframe thead th {\n",
       "        text-align: right;\n",
       "    }\n",
       "</style>\n",
       "<table border=\"1\" class=\"dataframe\">\n",
       "  <thead>\n",
       "    <tr style=\"text-align: right;\">\n",
       "      <th></th>\n",
       "      <th>age_hours</th>\n",
       "      <th>sev</th>\n",
       "      <th>FCR</th>\n",
       "      <th>RR</th>\n",
       "      <th>L1</th>\n",
       "      <th>correct_cat</th>\n",
       "      <th>prob_notes_len</th>\n",
       "      <th>act_notes_len</th>\n",
       "      <th>combined_notes</th>\n",
       "      <th>z_Aloha Manager / CFC,Employees,Configuration</th>\n",
       "      <th>...</th>\n",
       "      <th>TFIDF_zn reason</th>\n",
       "      <th>TFIDF_zn reason action</th>\n",
       "      <th>TFIDF_zn reason field</th>\n",
       "      <th>TFIDF_zn status</th>\n",
       "      <th>TFIDF_zn status marked</th>\n",
       "      <th>TFIDF_zn working</th>\n",
       "      <th>TFIDF_zn working log</th>\n",
       "      <th>TFIDF_zn zn</th>\n",
       "      <th>TFIDF_zn zn working</th>\n",
       "      <th>TFIDF_zn zn zn</th>\n",
       "    </tr>\n",
       "  </thead>\n",
       "  <tbody>\n",
       "    <tr>\n",
       "      <th>0</th>\n",
       "      <td>0.046389</td>\n",
       "      <td>1</td>\n",
       "      <td>1</td>\n",
       "      <td>0</td>\n",
       "      <td>1</td>\n",
       "      <td>0</td>\n",
       "      <td>1048</td>\n",
       "      <td>3173</td>\n",
       "      <td>site namesite number gems       point of cont...</td>\n",
       "      <td>0</td>\n",
       "      <td>...</td>\n",
       "      <td>0.0</td>\n",
       "      <td>0.0</td>\n",
       "      <td>0.0</td>\n",
       "      <td>0.0</td>\n",
       "      <td>0.0</td>\n",
       "      <td>0.0</td>\n",
       "      <td>0.0</td>\n",
       "      <td>0.0</td>\n",
       "      <td>0.0</td>\n",
       "      <td>0.0</td>\n",
       "    </tr>\n",
       "    <tr>\n",
       "      <th>1</th>\n",
       "      <td>0.065278</td>\n",
       "      <td>2</td>\n",
       "      <td>1</td>\n",
       "      <td>0</td>\n",
       "      <td>1</td>\n",
       "      <td>0</td>\n",
       "      <td>16</td>\n",
       "      <td>2405</td>\n",
       "      <td>employee export    vb working log field values...</td>\n",
       "      <td>0</td>\n",
       "      <td>...</td>\n",
       "      <td>0.0</td>\n",
       "      <td>0.0</td>\n",
       "      <td>0.0</td>\n",
       "      <td>0.0</td>\n",
       "      <td>0.0</td>\n",
       "      <td>0.0</td>\n",
       "      <td>0.0</td>\n",
       "      <td>0.0</td>\n",
       "      <td>0.0</td>\n",
       "      <td>0.0</td>\n",
       "    </tr>\n",
       "    <tr>\n",
       "      <th>2</th>\n",
       "      <td>0.821667</td>\n",
       "      <td>0</td>\n",
       "      <td>1</td>\n",
       "      <td>0</td>\n",
       "      <td>1</td>\n",
       "      <td>0</td>\n",
       "      <td>36</td>\n",
       "      <td>2279</td>\n",
       "      <td>wng  store offline  internet issue   dv workin...</td>\n",
       "      <td>0</td>\n",
       "      <td>...</td>\n",
       "      <td>0.0</td>\n",
       "      <td>0.0</td>\n",
       "      <td>0.0</td>\n",
       "      <td>0.0</td>\n",
       "      <td>0.0</td>\n",
       "      <td>0.0</td>\n",
       "      <td>0.0</td>\n",
       "      <td>0.0</td>\n",
       "      <td>0.0</td>\n",
       "      <td>0.0</td>\n",
       "    </tr>\n",
       "    <tr>\n",
       "      <th>3</th>\n",
       "      <td>12.002778</td>\n",
       "      <td>0</td>\n",
       "      <td>0</td>\n",
       "      <td>0</td>\n",
       "      <td>1</td>\n",
       "      <td>0</td>\n",
       "      <td>20</td>\n",
       "      <td>4715</td>\n",
       "      <td>wng  all terms down   dv working log field val...</td>\n",
       "      <td>0</td>\n",
       "      <td>...</td>\n",
       "      <td>0.0</td>\n",
       "      <td>0.0</td>\n",
       "      <td>0.0</td>\n",
       "      <td>0.0</td>\n",
       "      <td>0.0</td>\n",
       "      <td>0.0</td>\n",
       "      <td>0.0</td>\n",
       "      <td>0.0</td>\n",
       "      <td>0.0</td>\n",
       "      <td>0.0</td>\n",
       "    </tr>\n",
       "    <tr>\n",
       "      <th>4</th>\n",
       "      <td>14.766944</td>\n",
       "      <td>2</td>\n",
       "      <td>0</td>\n",
       "      <td>0</td>\n",
       "      <td>1</td>\n",
       "      <td>0</td>\n",
       "      <td>22</td>\n",
       "      <td>3009</td>\n",
       "      <td>fohprinter rerouting    vv working log field v...</td>\n",
       "      <td>0</td>\n",
       "      <td>...</td>\n",
       "      <td>0.0</td>\n",
       "      <td>0.0</td>\n",
       "      <td>0.0</td>\n",
       "      <td>0.0</td>\n",
       "      <td>0.0</td>\n",
       "      <td>0.0</td>\n",
       "      <td>0.0</td>\n",
       "      <td>0.0</td>\n",
       "      <td>0.0</td>\n",
       "      <td>0.0</td>\n",
       "    </tr>\n",
       "  </tbody>\n",
       "</table>\n",
       "<p>5 rows × 18430 columns</p>\n",
       "</div>"
      ],
      "text/plain": [
       "   age_hours sev FCR RR L1  correct_cat  prob_notes_len  act_notes_len  \\\n",
       "0   0.046389   1   1  0  1            0            1048           3173   \n",
       "1   0.065278   2   1  0  1            0              16           2405   \n",
       "2   0.821667   0   1  0  1            0              36           2279   \n",
       "3  12.002778   0   0  0  1            0              20           4715   \n",
       "4  14.766944   2   0  0  1            0              22           3009   \n",
       "\n",
       "                                      combined_notes  \\\n",
       "0   site namesite number gems       point of cont...   \n",
       "1  employee export    vb working log field values...   \n",
       "2  wng  store offline  internet issue   dv workin...   \n",
       "3  wng  all terms down   dv working log field val...   \n",
       "4  fohprinter rerouting    vv working log field v...   \n",
       "\n",
       "   z_Aloha Manager / CFC,Employees,Configuration  ...  TFIDF_zn reason  \\\n",
       "0                                              0  ...              0.0   \n",
       "1                                              0  ...              0.0   \n",
       "2                                              0  ...              0.0   \n",
       "3                                              0  ...              0.0   \n",
       "4                                              0  ...              0.0   \n",
       "\n",
       "   TFIDF_zn reason action  TFIDF_zn reason field  TFIDF_zn status  \\\n",
       "0                     0.0                    0.0              0.0   \n",
       "1                     0.0                    0.0              0.0   \n",
       "2                     0.0                    0.0              0.0   \n",
       "3                     0.0                    0.0              0.0   \n",
       "4                     0.0                    0.0              0.0   \n",
       "\n",
       "   TFIDF_zn status marked  TFIDF_zn working  TFIDF_zn working log  \\\n",
       "0                     0.0               0.0                   0.0   \n",
       "1                     0.0               0.0                   0.0   \n",
       "2                     0.0               0.0                   0.0   \n",
       "3                     0.0               0.0                   0.0   \n",
       "4                     0.0               0.0                   0.0   \n",
       "\n",
       "   TFIDF_zn zn  TFIDF_zn zn working  TFIDF_zn zn zn  \n",
       "0          0.0                  0.0             0.0  \n",
       "1          0.0                  0.0             0.0  \n",
       "2          0.0                  0.0             0.0  \n",
       "3          0.0                  0.0             0.0  \n",
       "4          0.0                  0.0             0.0  \n",
       "\n",
       "[5 rows x 18430 columns]"
      ]
     },
     "execution_count": 64,
     "metadata": {},
     "output_type": "execute_result"
    }
   ],
   "source": [
    "df6 = pd.concat([df5, tv_df], axis=1)\n",
    "df6.head()"
   ]
  },
  {
   "cell_type": "code",
   "execution_count": 65,
   "id": "ed1245b2",
   "metadata": {},
   "outputs": [
    {
     "name": "stdout",
     "output_type": "stream",
     "text": [
      "(8724, 18428)\n",
      "(8724,)\n"
     ]
    }
   ],
   "source": [
    "# SPLIT DEPENDENT AND INDEPENDENT VARIABLES INTO X, Y\n",
    "\n",
    "X = df6.drop(['correct_cat', 'combined_notes'], axis=1)\n",
    "y = df6['correct_cat'].values.flatten()\n",
    "print(X.shape)\n",
    "print(y.shape)"
   ]
  },
  {
   "cell_type": "code",
   "execution_count": 66,
   "id": "3c401cb6",
   "metadata": {},
   "outputs": [
    {
     "name": "stdout",
     "output_type": "stream",
     "text": [
      "(6543, 18428) (2181, 18428)\n",
      "(6543,) (2181,)\n"
     ]
    }
   ],
   "source": [
    "from sklearn.model_selection import train_test_split\n",
    "#Split data into Train and Test sets\n",
    "X_train, X_test, y_train, y_test = train_test_split(X, y, test_size=0.25, random_state=123)\n",
    "print(X_train.shape, X_test.shape)\n",
    "print(y_train.shape, y_test.shape)"
   ]
  },
  {
   "cell_type": "code",
   "execution_count": 67,
   "id": "72bd45f2",
   "metadata": {},
   "outputs": [],
   "source": [
    "from sklearn.pipeline import make_pipeline\n",
    "from sklearn.preprocessing import PowerTransformer\n",
    "from sklearn.ensemble import RandomForestClassifier"
   ]
  },
  {
   "cell_type": "markdown",
   "id": "c6ed0274",
   "metadata": {},
   "source": [
    "## MODELING "
   ]
  },
  {
   "cell_type": "code",
   "execution_count": 48,
   "id": "32e9b0f8",
   "metadata": {},
   "outputs": [],
   "source": [
    "# CREATE RANDOM FOREST PIPELINE\n",
    "\n",
    "pipe = make_pipeline(\n",
    "    PowerTransformer(),\n",
    "    RandomForestClassifier(random_state=123)\n",
    ")"
   ]
  },
  {
   "cell_type": "code",
   "execution_count": 68,
   "id": "d34192ad",
   "metadata": {},
   "outputs": [
    {
     "data": {
      "text/plain": [
       "Pipeline(steps=[('powertransformer', PowerTransformer()),\n",
       "                ('randomforestclassifier',\n",
       "                 RandomForestClassifier(random_state=123))])"
      ]
     },
     "execution_count": 68,
     "metadata": {},
     "output_type": "execute_result"
    }
   ],
   "source": [
    "# FIT AND PREDICT PIPELINE\n",
    "\n",
    "pipe.fit(X_train, y_train)\n",
    "\n",
    "y_tr_pred = pipe.predict(X_train)\n",
    "y_te_pred = pipe.predict(X_test)"
   ]
  },
  {
   "cell_type": "code",
   "execution_count": 74,
   "id": "b86317d7",
   "metadata": {},
   "outputs": [
    {
     "name": "stdout",
     "output_type": "stream",
     "text": [
      "Report on Test Set: \n",
      "               precision    recall  f1-score   support\n",
      "\n",
      "           0       0.81      0.98      0.88      1762\n",
      "           1       0.16      0.02      0.03       419\n",
      "\n",
      "    accuracy                           0.79      2181\n",
      "   macro avg       0.49      0.50      0.46      2181\n",
      "weighted avg       0.68      0.79      0.72      2181\n",
      "\n",
      "\n",
      " \n",
      "Report on Test Set: \n",
      "               precision    recall  f1-score   support\n",
      "\n",
      "           0       1.00      1.00      1.00      5217\n",
      "           1       1.00      1.00      1.00      1326\n",
      "\n",
      "    accuracy                           1.00      6543\n",
      "   macro avg       1.00      1.00      1.00      6543\n",
      "weighted avg       1.00      1.00      1.00      6543\n",
      "\n"
     ]
    }
   ],
   "source": [
    "from sklearn.metrics import classification_report\n",
    "\n",
    "print(\"Report on Test Set: \\n\", classification_report(y_test,y_te_pred))\n",
    "print(\"\\n \\nReport on Test Set: \\n\", classification_report(y_train,y_tr_pred))"
   ]
  },
  {
   "cell_type": "markdown",
   "id": "f92a1611",
   "metadata": {},
   "source": [
    "## GRADIENT BOOSTER"
   ]
  },
  {
   "cell_type": "code",
   "execution_count": null,
   "id": "95e95d45",
   "metadata": {},
   "outputs": [],
   "source": [
    "# CREATE GRADIANT_BOOSTER PIPELINE\n",
    "\n",
    "from sklearn.ensemble import GradientBoostingClassifier\n",
    "\n",
    "pipe2 = make_pipeline(\n",
    "    PowerTransformer(),\n",
    "    GradientBoostingClassifier(random_state=123)\n",
    ")"
   ]
  },
  {
   "cell_type": "code",
   "execution_count": 80,
   "id": "5d7af91b",
   "metadata": {
    "scrolled": true
   },
   "outputs": [
    {
     "ename": "KeyboardInterrupt",
     "evalue": "",
     "output_type": "error",
     "traceback": [
      "\u001b[1;31m---------------------------------------------------------------------------\u001b[0m",
      "\u001b[1;31mKeyboardInterrupt\u001b[0m                         Traceback (most recent call last)",
      "\u001b[1;32m~\\AppData\\Local\\Temp/ipykernel_15016/2011768020.py\u001b[0m in \u001b[0;36m<module>\u001b[1;34m\u001b[0m\n\u001b[0;32m      1\u001b[0m \u001b[1;31m# FIT AND PREDICT PIPELINE\u001b[0m\u001b[1;33m\u001b[0m\u001b[1;33m\u001b[0m\u001b[0m\n\u001b[0;32m      2\u001b[0m \u001b[1;33m\u001b[0m\u001b[0m\n\u001b[1;32m----> 3\u001b[1;33m \u001b[0mpipe2\u001b[0m\u001b[1;33m.\u001b[0m\u001b[0mfit\u001b[0m\u001b[1;33m(\u001b[0m\u001b[0mX_train\u001b[0m\u001b[1;33m,\u001b[0m \u001b[0my_train\u001b[0m\u001b[1;33m)\u001b[0m\u001b[1;33m\u001b[0m\u001b[1;33m\u001b[0m\u001b[0m\n\u001b[0m\u001b[0;32m      4\u001b[0m \u001b[1;33m\u001b[0m\u001b[0m\n\u001b[0;32m      5\u001b[0m \u001b[1;31m#y_tr_pred = pipe.predict(X_train)\u001b[0m\u001b[1;33m\u001b[0m\u001b[1;33m\u001b[0m\u001b[0m\n",
      "\u001b[1;32m~\\Anaconda3\\lib\\site-packages\\sklearn\\pipeline.py\u001b[0m in \u001b[0;36mfit\u001b[1;34m(self, X, y, **fit_params)\u001b[0m\n\u001b[0;32m    339\u001b[0m         \"\"\"\n\u001b[0;32m    340\u001b[0m         \u001b[0mfit_params_steps\u001b[0m \u001b[1;33m=\u001b[0m \u001b[0mself\u001b[0m\u001b[1;33m.\u001b[0m\u001b[0m_check_fit_params\u001b[0m\u001b[1;33m(\u001b[0m\u001b[1;33m**\u001b[0m\u001b[0mfit_params\u001b[0m\u001b[1;33m)\u001b[0m\u001b[1;33m\u001b[0m\u001b[1;33m\u001b[0m\u001b[0m\n\u001b[1;32m--> 341\u001b[1;33m         \u001b[0mXt\u001b[0m \u001b[1;33m=\u001b[0m \u001b[0mself\u001b[0m\u001b[1;33m.\u001b[0m\u001b[0m_fit\u001b[0m\u001b[1;33m(\u001b[0m\u001b[0mX\u001b[0m\u001b[1;33m,\u001b[0m \u001b[0my\u001b[0m\u001b[1;33m,\u001b[0m \u001b[1;33m**\u001b[0m\u001b[0mfit_params_steps\u001b[0m\u001b[1;33m)\u001b[0m\u001b[1;33m\u001b[0m\u001b[1;33m\u001b[0m\u001b[0m\n\u001b[0m\u001b[0;32m    342\u001b[0m         with _print_elapsed_time('Pipeline',\n\u001b[0;32m    343\u001b[0m                                  self._log_message(len(self.steps) - 1)):\n",
      "\u001b[1;32m~\\Anaconda3\\lib\\site-packages\\sklearn\\pipeline.py\u001b[0m in \u001b[0;36m_fit\u001b[1;34m(self, X, y, **fit_params_steps)\u001b[0m\n\u001b[0;32m    301\u001b[0m                 \u001b[0mcloned_transformer\u001b[0m \u001b[1;33m=\u001b[0m \u001b[0mclone\u001b[0m\u001b[1;33m(\u001b[0m\u001b[0mtransformer\u001b[0m\u001b[1;33m)\u001b[0m\u001b[1;33m\u001b[0m\u001b[1;33m\u001b[0m\u001b[0m\n\u001b[0;32m    302\u001b[0m             \u001b[1;31m# Fit or load from cache the current transformer\u001b[0m\u001b[1;33m\u001b[0m\u001b[1;33m\u001b[0m\u001b[0m\n\u001b[1;32m--> 303\u001b[1;33m             X, fitted_transformer = fit_transform_one_cached(\n\u001b[0m\u001b[0;32m    304\u001b[0m                 \u001b[0mcloned_transformer\u001b[0m\u001b[1;33m,\u001b[0m \u001b[0mX\u001b[0m\u001b[1;33m,\u001b[0m \u001b[0my\u001b[0m\u001b[1;33m,\u001b[0m \u001b[1;32mNone\u001b[0m\u001b[1;33m,\u001b[0m\u001b[1;33m\u001b[0m\u001b[1;33m\u001b[0m\u001b[0m\n\u001b[0;32m    305\u001b[0m                 \u001b[0mmessage_clsname\u001b[0m\u001b[1;33m=\u001b[0m\u001b[1;34m'Pipeline'\u001b[0m\u001b[1;33m,\u001b[0m\u001b[1;33m\u001b[0m\u001b[1;33m\u001b[0m\u001b[0m\n",
      "\u001b[1;32m~\\Anaconda3\\lib\\site-packages\\joblib\\memory.py\u001b[0m in \u001b[0;36m__call__\u001b[1;34m(self, *args, **kwargs)\u001b[0m\n\u001b[0;32m    347\u001b[0m \u001b[1;33m\u001b[0m\u001b[0m\n\u001b[0;32m    348\u001b[0m     \u001b[1;32mdef\u001b[0m \u001b[0m__call__\u001b[0m\u001b[1;33m(\u001b[0m\u001b[0mself\u001b[0m\u001b[1;33m,\u001b[0m \u001b[1;33m*\u001b[0m\u001b[0margs\u001b[0m\u001b[1;33m,\u001b[0m \u001b[1;33m**\u001b[0m\u001b[0mkwargs\u001b[0m\u001b[1;33m)\u001b[0m\u001b[1;33m:\u001b[0m\u001b[1;33m\u001b[0m\u001b[1;33m\u001b[0m\u001b[0m\n\u001b[1;32m--> 349\u001b[1;33m         \u001b[1;32mreturn\u001b[0m \u001b[0mself\u001b[0m\u001b[1;33m.\u001b[0m\u001b[0mfunc\u001b[0m\u001b[1;33m(\u001b[0m\u001b[1;33m*\u001b[0m\u001b[0margs\u001b[0m\u001b[1;33m,\u001b[0m \u001b[1;33m**\u001b[0m\u001b[0mkwargs\u001b[0m\u001b[1;33m)\u001b[0m\u001b[1;33m\u001b[0m\u001b[1;33m\u001b[0m\u001b[0m\n\u001b[0m\u001b[0;32m    350\u001b[0m \u001b[1;33m\u001b[0m\u001b[0m\n\u001b[0;32m    351\u001b[0m     \u001b[1;32mdef\u001b[0m \u001b[0mcall_and_shelve\u001b[0m\u001b[1;33m(\u001b[0m\u001b[0mself\u001b[0m\u001b[1;33m,\u001b[0m \u001b[1;33m*\u001b[0m\u001b[0margs\u001b[0m\u001b[1;33m,\u001b[0m \u001b[1;33m**\u001b[0m\u001b[0mkwargs\u001b[0m\u001b[1;33m)\u001b[0m\u001b[1;33m:\u001b[0m\u001b[1;33m\u001b[0m\u001b[1;33m\u001b[0m\u001b[0m\n",
      "\u001b[1;32m~\\Anaconda3\\lib\\site-packages\\sklearn\\pipeline.py\u001b[0m in \u001b[0;36m_fit_transform_one\u001b[1;34m(transformer, X, y, weight, message_clsname, message, **fit_params)\u001b[0m\n\u001b[0;32m    752\u001b[0m     \u001b[1;32mwith\u001b[0m \u001b[0m_print_elapsed_time\u001b[0m\u001b[1;33m(\u001b[0m\u001b[0mmessage_clsname\u001b[0m\u001b[1;33m,\u001b[0m \u001b[0mmessage\u001b[0m\u001b[1;33m)\u001b[0m\u001b[1;33m:\u001b[0m\u001b[1;33m\u001b[0m\u001b[1;33m\u001b[0m\u001b[0m\n\u001b[0;32m    753\u001b[0m         \u001b[1;32mif\u001b[0m \u001b[0mhasattr\u001b[0m\u001b[1;33m(\u001b[0m\u001b[0mtransformer\u001b[0m\u001b[1;33m,\u001b[0m \u001b[1;34m'fit_transform'\u001b[0m\u001b[1;33m)\u001b[0m\u001b[1;33m:\u001b[0m\u001b[1;33m\u001b[0m\u001b[1;33m\u001b[0m\u001b[0m\n\u001b[1;32m--> 754\u001b[1;33m             \u001b[0mres\u001b[0m \u001b[1;33m=\u001b[0m \u001b[0mtransformer\u001b[0m\u001b[1;33m.\u001b[0m\u001b[0mfit_transform\u001b[0m\u001b[1;33m(\u001b[0m\u001b[0mX\u001b[0m\u001b[1;33m,\u001b[0m \u001b[0my\u001b[0m\u001b[1;33m,\u001b[0m \u001b[1;33m**\u001b[0m\u001b[0mfit_params\u001b[0m\u001b[1;33m)\u001b[0m\u001b[1;33m\u001b[0m\u001b[1;33m\u001b[0m\u001b[0m\n\u001b[0m\u001b[0;32m    755\u001b[0m         \u001b[1;32melse\u001b[0m\u001b[1;33m:\u001b[0m\u001b[1;33m\u001b[0m\u001b[1;33m\u001b[0m\u001b[0m\n\u001b[0;32m    756\u001b[0m             \u001b[0mres\u001b[0m \u001b[1;33m=\u001b[0m \u001b[0mtransformer\u001b[0m\u001b[1;33m.\u001b[0m\u001b[0mfit\u001b[0m\u001b[1;33m(\u001b[0m\u001b[0mX\u001b[0m\u001b[1;33m,\u001b[0m \u001b[0my\u001b[0m\u001b[1;33m,\u001b[0m \u001b[1;33m**\u001b[0m\u001b[0mfit_params\u001b[0m\u001b[1;33m)\u001b[0m\u001b[1;33m.\u001b[0m\u001b[0mtransform\u001b[0m\u001b[1;33m(\u001b[0m\u001b[0mX\u001b[0m\u001b[1;33m)\u001b[0m\u001b[1;33m\u001b[0m\u001b[1;33m\u001b[0m\u001b[0m\n",
      "\u001b[1;32m~\\Anaconda3\\lib\\site-packages\\sklearn\\preprocessing\\_data.py\u001b[0m in \u001b[0;36mfit_transform\u001b[1;34m(self, X, y)\u001b[0m\n\u001b[0;32m   3048\u001b[0m \u001b[1;33m\u001b[0m\u001b[0m\n\u001b[0;32m   3049\u001b[0m     \u001b[1;32mdef\u001b[0m \u001b[0mfit_transform\u001b[0m\u001b[1;33m(\u001b[0m\u001b[0mself\u001b[0m\u001b[1;33m,\u001b[0m \u001b[0mX\u001b[0m\u001b[1;33m,\u001b[0m \u001b[0my\u001b[0m\u001b[1;33m=\u001b[0m\u001b[1;32mNone\u001b[0m\u001b[1;33m)\u001b[0m\u001b[1;33m:\u001b[0m\u001b[1;33m\u001b[0m\u001b[1;33m\u001b[0m\u001b[0m\n\u001b[1;32m-> 3050\u001b[1;33m         \u001b[1;32mreturn\u001b[0m \u001b[0mself\u001b[0m\u001b[1;33m.\u001b[0m\u001b[0m_fit\u001b[0m\u001b[1;33m(\u001b[0m\u001b[0mX\u001b[0m\u001b[1;33m,\u001b[0m \u001b[0my\u001b[0m\u001b[1;33m,\u001b[0m \u001b[0mforce_transform\u001b[0m\u001b[1;33m=\u001b[0m\u001b[1;32mTrue\u001b[0m\u001b[1;33m)\u001b[0m\u001b[1;33m\u001b[0m\u001b[1;33m\u001b[0m\u001b[0m\n\u001b[0m\u001b[0;32m   3051\u001b[0m \u001b[1;33m\u001b[0m\u001b[0m\n\u001b[0;32m   3052\u001b[0m     \u001b[1;32mdef\u001b[0m \u001b[0m_fit\u001b[0m\u001b[1;33m(\u001b[0m\u001b[0mself\u001b[0m\u001b[1;33m,\u001b[0m \u001b[0mX\u001b[0m\u001b[1;33m,\u001b[0m \u001b[0my\u001b[0m\u001b[1;33m=\u001b[0m\u001b[1;32mNone\u001b[0m\u001b[1;33m,\u001b[0m \u001b[0mforce_transform\u001b[0m\u001b[1;33m=\u001b[0m\u001b[1;32mFalse\u001b[0m\u001b[1;33m)\u001b[0m\u001b[1;33m:\u001b[0m\u001b[1;33m\u001b[0m\u001b[1;33m\u001b[0m\u001b[0m\n",
      "\u001b[1;32m~\\Anaconda3\\lib\\site-packages\\sklearn\\preprocessing\\_data.py\u001b[0m in \u001b[0;36m_fit\u001b[1;34m(self, X, y, force_transform)\u001b[0m\n\u001b[0;32m   3051\u001b[0m \u001b[1;33m\u001b[0m\u001b[0m\n\u001b[0;32m   3052\u001b[0m     \u001b[1;32mdef\u001b[0m \u001b[0m_fit\u001b[0m\u001b[1;33m(\u001b[0m\u001b[0mself\u001b[0m\u001b[1;33m,\u001b[0m \u001b[0mX\u001b[0m\u001b[1;33m,\u001b[0m \u001b[0my\u001b[0m\u001b[1;33m=\u001b[0m\u001b[1;32mNone\u001b[0m\u001b[1;33m,\u001b[0m \u001b[0mforce_transform\u001b[0m\u001b[1;33m=\u001b[0m\u001b[1;32mFalse\u001b[0m\u001b[1;33m)\u001b[0m\u001b[1;33m:\u001b[0m\u001b[1;33m\u001b[0m\u001b[1;33m\u001b[0m\u001b[0m\n\u001b[1;32m-> 3053\u001b[1;33m         X = self._check_input(X, in_fit=True, check_positive=True,\n\u001b[0m\u001b[0;32m   3054\u001b[0m                               check_method=True)\n\u001b[0;32m   3055\u001b[0m \u001b[1;33m\u001b[0m\u001b[0m\n",
      "\u001b[1;32m~\\Anaconda3\\lib\\site-packages\\sklearn\\preprocessing\\_data.py\u001b[0m in \u001b[0;36m_check_input\u001b[1;34m(self, X, in_fit, check_positive, check_shape, check_method)\u001b[0m\n\u001b[0;32m   3268\u001b[0m             \u001b[0mIf\u001b[0m \u001b[1;32mTrue\u001b[0m\u001b[1;33m,\u001b[0m \u001b[0mcheck\u001b[0m \u001b[0mthat\u001b[0m \u001b[0mthe\u001b[0m \u001b[0mtransformation\u001b[0m \u001b[0mmethod\u001b[0m \u001b[1;32mis\u001b[0m \u001b[0mvalid\u001b[0m\u001b[1;33m.\u001b[0m\u001b[1;33m\u001b[0m\u001b[1;33m\u001b[0m\u001b[0m\n\u001b[0;32m   3269\u001b[0m         \"\"\"\n\u001b[1;32m-> 3270\u001b[1;33m         X = self._validate_data(X, ensure_2d=True, dtype=FLOAT_DTYPES,\n\u001b[0m\u001b[0;32m   3271\u001b[0m                                 \u001b[0mcopy\u001b[0m\u001b[1;33m=\u001b[0m\u001b[0mself\u001b[0m\u001b[1;33m.\u001b[0m\u001b[0mcopy\u001b[0m\u001b[1;33m,\u001b[0m \u001b[0mforce_all_finite\u001b[0m\u001b[1;33m=\u001b[0m\u001b[1;34m'allow-nan'\u001b[0m\u001b[1;33m,\u001b[0m\u001b[1;33m\u001b[0m\u001b[1;33m\u001b[0m\u001b[0m\n\u001b[0;32m   3272\u001b[0m                                 reset=in_fit)\n",
      "\u001b[1;32m~\\Anaconda3\\lib\\site-packages\\sklearn\\base.py\u001b[0m in \u001b[0;36m_validate_data\u001b[1;34m(self, X, y, reset, validate_separately, **check_params)\u001b[0m\n\u001b[0;32m    419\u001b[0m             \u001b[0mout\u001b[0m \u001b[1;33m=\u001b[0m \u001b[0mX\u001b[0m\u001b[1;33m\u001b[0m\u001b[1;33m\u001b[0m\u001b[0m\n\u001b[0;32m    420\u001b[0m         \u001b[1;32melif\u001b[0m \u001b[0misinstance\u001b[0m\u001b[1;33m(\u001b[0m\u001b[0my\u001b[0m\u001b[1;33m,\u001b[0m \u001b[0mstr\u001b[0m\u001b[1;33m)\u001b[0m \u001b[1;32mand\u001b[0m \u001b[0my\u001b[0m \u001b[1;33m==\u001b[0m \u001b[1;34m'no_validation'\u001b[0m\u001b[1;33m:\u001b[0m\u001b[1;33m\u001b[0m\u001b[1;33m\u001b[0m\u001b[0m\n\u001b[1;32m--> 421\u001b[1;33m             \u001b[0mX\u001b[0m \u001b[1;33m=\u001b[0m \u001b[0mcheck_array\u001b[0m\u001b[1;33m(\u001b[0m\u001b[0mX\u001b[0m\u001b[1;33m,\u001b[0m \u001b[1;33m**\u001b[0m\u001b[0mcheck_params\u001b[0m\u001b[1;33m)\u001b[0m\u001b[1;33m\u001b[0m\u001b[1;33m\u001b[0m\u001b[0m\n\u001b[0m\u001b[0;32m    422\u001b[0m             \u001b[0mout\u001b[0m \u001b[1;33m=\u001b[0m \u001b[0mX\u001b[0m\u001b[1;33m\u001b[0m\u001b[1;33m\u001b[0m\u001b[0m\n\u001b[0;32m    423\u001b[0m         \u001b[1;32melse\u001b[0m\u001b[1;33m:\u001b[0m\u001b[1;33m\u001b[0m\u001b[1;33m\u001b[0m\u001b[0m\n",
      "\u001b[1;32m~\\Anaconda3\\lib\\site-packages\\sklearn\\utils\\validation.py\u001b[0m in \u001b[0;36minner_f\u001b[1;34m(*args, **kwargs)\u001b[0m\n\u001b[0;32m     61\u001b[0m             \u001b[0mextra_args\u001b[0m \u001b[1;33m=\u001b[0m \u001b[0mlen\u001b[0m\u001b[1;33m(\u001b[0m\u001b[0margs\u001b[0m\u001b[1;33m)\u001b[0m \u001b[1;33m-\u001b[0m \u001b[0mlen\u001b[0m\u001b[1;33m(\u001b[0m\u001b[0mall_args\u001b[0m\u001b[1;33m)\u001b[0m\u001b[1;33m\u001b[0m\u001b[1;33m\u001b[0m\u001b[0m\n\u001b[0;32m     62\u001b[0m             \u001b[1;32mif\u001b[0m \u001b[0mextra_args\u001b[0m \u001b[1;33m<=\u001b[0m \u001b[1;36m0\u001b[0m\u001b[1;33m:\u001b[0m\u001b[1;33m\u001b[0m\u001b[1;33m\u001b[0m\u001b[0m\n\u001b[1;32m---> 63\u001b[1;33m                 \u001b[1;32mreturn\u001b[0m \u001b[0mf\u001b[0m\u001b[1;33m(\u001b[0m\u001b[1;33m*\u001b[0m\u001b[0margs\u001b[0m\u001b[1;33m,\u001b[0m \u001b[1;33m**\u001b[0m\u001b[0mkwargs\u001b[0m\u001b[1;33m)\u001b[0m\u001b[1;33m\u001b[0m\u001b[1;33m\u001b[0m\u001b[0m\n\u001b[0m\u001b[0;32m     64\u001b[0m \u001b[1;33m\u001b[0m\u001b[0m\n\u001b[0;32m     65\u001b[0m             \u001b[1;31m# extra_args > 0\u001b[0m\u001b[1;33m\u001b[0m\u001b[1;33m\u001b[0m\u001b[0m\n",
      "\u001b[1;32m~\\Anaconda3\\lib\\site-packages\\sklearn\\utils\\validation.py\u001b[0m in \u001b[0;36mcheck_array\u001b[1;34m(array, accept_sparse, accept_large_sparse, dtype, order, copy, force_all_finite, ensure_2d, allow_nd, ensure_min_samples, ensure_min_features, estimator)\u001b[0m\n\u001b[0;32m    737\u001b[0m                                 context))\n\u001b[0;32m    738\u001b[0m \u001b[1;33m\u001b[0m\u001b[0m\n\u001b[1;32m--> 739\u001b[1;33m     \u001b[1;32mif\u001b[0m \u001b[0mcopy\u001b[0m \u001b[1;32mand\u001b[0m \u001b[0mnp\u001b[0m\u001b[1;33m.\u001b[0m\u001b[0mmay_share_memory\u001b[0m\u001b[1;33m(\u001b[0m\u001b[0marray\u001b[0m\u001b[1;33m,\u001b[0m \u001b[0marray_orig\u001b[0m\u001b[1;33m)\u001b[0m\u001b[1;33m:\u001b[0m\u001b[1;33m\u001b[0m\u001b[1;33m\u001b[0m\u001b[0m\n\u001b[0m\u001b[0;32m    740\u001b[0m         \u001b[0marray\u001b[0m \u001b[1;33m=\u001b[0m \u001b[0mnp\u001b[0m\u001b[1;33m.\u001b[0m\u001b[0marray\u001b[0m\u001b[1;33m(\u001b[0m\u001b[0marray\u001b[0m\u001b[1;33m,\u001b[0m \u001b[0mdtype\u001b[0m\u001b[1;33m=\u001b[0m\u001b[0mdtype\u001b[0m\u001b[1;33m,\u001b[0m \u001b[0morder\u001b[0m\u001b[1;33m=\u001b[0m\u001b[0morder\u001b[0m\u001b[1;33m)\u001b[0m\u001b[1;33m\u001b[0m\u001b[1;33m\u001b[0m\u001b[0m\n\u001b[0;32m    741\u001b[0m \u001b[1;33m\u001b[0m\u001b[0m\n",
      "\u001b[1;32m<__array_function__ internals>\u001b[0m in \u001b[0;36mmay_share_memory\u001b[1;34m(*args, **kwargs)\u001b[0m\n",
      "\u001b[1;32m~\\Anaconda3\\lib\\site-packages\\pandas\\core\\generic.py\u001b[0m in \u001b[0;36m__array__\u001b[1;34m(self, dtype)\u001b[0m\n\u001b[0;32m   1991\u001b[0m \u001b[1;33m\u001b[0m\u001b[0m\n\u001b[0;32m   1992\u001b[0m     \u001b[1;32mdef\u001b[0m \u001b[0m__array__\u001b[0m\u001b[1;33m(\u001b[0m\u001b[0mself\u001b[0m\u001b[1;33m,\u001b[0m \u001b[0mdtype\u001b[0m\u001b[1;33m:\u001b[0m \u001b[0mNpDtype\u001b[0m \u001b[1;33m|\u001b[0m \u001b[1;32mNone\u001b[0m \u001b[1;33m=\u001b[0m \u001b[1;32mNone\u001b[0m\u001b[1;33m)\u001b[0m \u001b[1;33m->\u001b[0m \u001b[0mnp\u001b[0m\u001b[1;33m.\u001b[0m\u001b[0mndarray\u001b[0m\u001b[1;33m:\u001b[0m\u001b[1;33m\u001b[0m\u001b[1;33m\u001b[0m\u001b[0m\n\u001b[1;32m-> 1993\u001b[1;33m         \u001b[1;32mreturn\u001b[0m \u001b[0mnp\u001b[0m\u001b[1;33m.\u001b[0m\u001b[0masarray\u001b[0m\u001b[1;33m(\u001b[0m\u001b[0mself\u001b[0m\u001b[1;33m.\u001b[0m\u001b[0m_values\u001b[0m\u001b[1;33m,\u001b[0m \u001b[0mdtype\u001b[0m\u001b[1;33m=\u001b[0m\u001b[0mdtype\u001b[0m\u001b[1;33m)\u001b[0m\u001b[1;33m\u001b[0m\u001b[1;33m\u001b[0m\u001b[0m\n\u001b[0m\u001b[0;32m   1994\u001b[0m \u001b[1;33m\u001b[0m\u001b[0m\n\u001b[0;32m   1995\u001b[0m     def __array_wrap__(\n",
      "\u001b[1;32m~\\Anaconda3\\lib\\site-packages\\pandas\\core\\frame.py\u001b[0m in \u001b[0;36m_values\u001b[1;34m(self)\u001b[0m\n\u001b[0;32m    892\u001b[0m         \u001b[0mblocks\u001b[0m \u001b[1;33m=\u001b[0m \u001b[0mmgr\u001b[0m\u001b[1;33m.\u001b[0m\u001b[0mblocks\u001b[0m\u001b[1;33m\u001b[0m\u001b[1;33m\u001b[0m\u001b[0m\n\u001b[0;32m    893\u001b[0m         \u001b[1;32mif\u001b[0m \u001b[0mlen\u001b[0m\u001b[1;33m(\u001b[0m\u001b[0mblocks\u001b[0m\u001b[1;33m)\u001b[0m \u001b[1;33m!=\u001b[0m \u001b[1;36m1\u001b[0m\u001b[1;33m:\u001b[0m\u001b[1;33m\u001b[0m\u001b[1;33m\u001b[0m\u001b[0m\n\u001b[1;32m--> 894\u001b[1;33m             \u001b[1;32mreturn\u001b[0m \u001b[0mself\u001b[0m\u001b[1;33m.\u001b[0m\u001b[0mvalues\u001b[0m\u001b[1;33m\u001b[0m\u001b[1;33m\u001b[0m\u001b[0m\n\u001b[0m\u001b[0;32m    895\u001b[0m \u001b[1;33m\u001b[0m\u001b[0m\n\u001b[0;32m    896\u001b[0m         \u001b[0marr\u001b[0m \u001b[1;33m=\u001b[0m \u001b[0mblocks\u001b[0m\u001b[1;33m[\u001b[0m\u001b[1;36m0\u001b[0m\u001b[1;33m]\u001b[0m\u001b[1;33m.\u001b[0m\u001b[0mvalues\u001b[0m\u001b[1;33m\u001b[0m\u001b[1;33m\u001b[0m\u001b[0m\n",
      "\u001b[1;32m~\\Anaconda3\\lib\\site-packages\\pandas\\core\\frame.py\u001b[0m in \u001b[0;36mvalues\u001b[1;34m(self)\u001b[0m\n\u001b[0;32m  10662\u001b[0m         \"\"\"\n\u001b[0;32m  10663\u001b[0m         \u001b[0mself\u001b[0m\u001b[1;33m.\u001b[0m\u001b[0m_consolidate_inplace\u001b[0m\u001b[1;33m(\u001b[0m\u001b[1;33m)\u001b[0m\u001b[1;33m\u001b[0m\u001b[1;33m\u001b[0m\u001b[0m\n\u001b[1;32m> 10664\u001b[1;33m         \u001b[1;32mreturn\u001b[0m \u001b[0mself\u001b[0m\u001b[1;33m.\u001b[0m\u001b[0m_mgr\u001b[0m\u001b[1;33m.\u001b[0m\u001b[0mas_array\u001b[0m\u001b[1;33m(\u001b[0m\u001b[0mtranspose\u001b[0m\u001b[1;33m=\u001b[0m\u001b[1;32mTrue\u001b[0m\u001b[1;33m)\u001b[0m\u001b[1;33m\u001b[0m\u001b[1;33m\u001b[0m\u001b[0m\n\u001b[0m\u001b[0;32m  10665\u001b[0m \u001b[1;33m\u001b[0m\u001b[0m\n\u001b[0;32m  10666\u001b[0m     \u001b[1;33m@\u001b[0m\u001b[0mdeprecate_nonkeyword_arguments\u001b[0m\u001b[1;33m(\u001b[0m\u001b[0mversion\u001b[0m\u001b[1;33m=\u001b[0m\u001b[1;32mNone\u001b[0m\u001b[1;33m,\u001b[0m \u001b[0mallowed_args\u001b[0m\u001b[1;33m=\u001b[0m\u001b[1;33m[\u001b[0m\u001b[1;34m\"self\"\u001b[0m\u001b[1;33m]\u001b[0m\u001b[1;33m)\u001b[0m\u001b[1;33m\u001b[0m\u001b[1;33m\u001b[0m\u001b[0m\n",
      "\u001b[1;32m~\\Anaconda3\\lib\\site-packages\\pandas\\core\\internals\\managers.py\u001b[0m in \u001b[0;36mas_array\u001b[1;34m(self, transpose, dtype, copy, na_value)\u001b[0m\n\u001b[0;32m   1464\u001b[0m                     \u001b[0marr\u001b[0m \u001b[1;33m=\u001b[0m \u001b[0marr\u001b[0m\u001b[1;33m.\u001b[0m\u001b[0mastype\u001b[0m\u001b[1;33m(\u001b[0m\u001b[0mdtype\u001b[0m\u001b[1;33m,\u001b[0m \u001b[0mcopy\u001b[0m\u001b[1;33m=\u001b[0m\u001b[1;32mFalse\u001b[0m\u001b[1;33m)\u001b[0m  \u001b[1;31m# type: ignore[arg-type]\u001b[0m\u001b[1;33m\u001b[0m\u001b[1;33m\u001b[0m\u001b[0m\n\u001b[0;32m   1465\u001b[0m         \u001b[1;32melse\u001b[0m\u001b[1;33m:\u001b[0m\u001b[1;33m\u001b[0m\u001b[1;33m\u001b[0m\u001b[0m\n\u001b[1;32m-> 1466\u001b[1;33m             \u001b[0marr\u001b[0m \u001b[1;33m=\u001b[0m \u001b[0mself\u001b[0m\u001b[1;33m.\u001b[0m\u001b[0m_interleave\u001b[0m\u001b[1;33m(\u001b[0m\u001b[0mdtype\u001b[0m\u001b[1;33m=\u001b[0m\u001b[0mdtype\u001b[0m\u001b[1;33m,\u001b[0m \u001b[0mna_value\u001b[0m\u001b[1;33m=\u001b[0m\u001b[0mna_value\u001b[0m\u001b[1;33m)\u001b[0m\u001b[1;33m\u001b[0m\u001b[1;33m\u001b[0m\u001b[0m\n\u001b[0m\u001b[0;32m   1467\u001b[0m             \u001b[1;31m# The underlying data was copied within _interleave\u001b[0m\u001b[1;33m\u001b[0m\u001b[1;33m\u001b[0m\u001b[0m\n\u001b[0;32m   1468\u001b[0m             \u001b[0mcopy\u001b[0m \u001b[1;33m=\u001b[0m \u001b[1;32mFalse\u001b[0m\u001b[1;33m\u001b[0m\u001b[1;33m\u001b[0m\u001b[0m\n",
      "\u001b[1;32m~\\Anaconda3\\lib\\site-packages\\pandas\\core\\internals\\managers.py\u001b[0m in \u001b[0;36m_interleave\u001b[1;34m(self, dtype, na_value)\u001b[0m\n\u001b[0;32m   1518\u001b[0m                 \u001b[1;31m# \"Union[ExtensionDtype, str, dtype[Any], Type[object], None]\"; expected\u001b[0m\u001b[1;33m\u001b[0m\u001b[1;33m\u001b[0m\u001b[0m\n\u001b[0;32m   1519\u001b[0m                 \u001b[1;31m# \"Union[dtype[Any], ExtensionDtype, None]\"\u001b[0m\u001b[1;33m\u001b[0m\u001b[1;33m\u001b[0m\u001b[0m\n\u001b[1;32m-> 1520\u001b[1;33m                 \u001b[0marr\u001b[0m \u001b[1;33m=\u001b[0m \u001b[0mblk\u001b[0m\u001b[1;33m.\u001b[0m\u001b[0mget_values\u001b[0m\u001b[1;33m(\u001b[0m\u001b[0mdtype\u001b[0m\u001b[1;33m)\u001b[0m  \u001b[1;31m# type: ignore[arg-type]\u001b[0m\u001b[1;33m\u001b[0m\u001b[1;33m\u001b[0m\u001b[0m\n\u001b[0m\u001b[0;32m   1521\u001b[0m             \u001b[0mresult\u001b[0m\u001b[1;33m[\u001b[0m\u001b[0mrl\u001b[0m\u001b[1;33m.\u001b[0m\u001b[0mindexer\u001b[0m\u001b[1;33m]\u001b[0m \u001b[1;33m=\u001b[0m \u001b[0marr\u001b[0m\u001b[1;33m\u001b[0m\u001b[1;33m\u001b[0m\u001b[0m\n\u001b[0;32m   1522\u001b[0m             \u001b[0mitemmask\u001b[0m\u001b[1;33m[\u001b[0m\u001b[0mrl\u001b[0m\u001b[1;33m.\u001b[0m\u001b[0mindexer\u001b[0m\u001b[1;33m]\u001b[0m \u001b[1;33m=\u001b[0m \u001b[1;36m1\u001b[0m\u001b[1;33m\u001b[0m\u001b[1;33m\u001b[0m\u001b[0m\n",
      "\u001b[1;31mKeyboardInterrupt\u001b[0m: "
     ]
    }
   ],
   "source": [
    "# FIT AND PREDICT PIPELINE\n",
    "\n",
    "pipe2.fit(X_train, y_train)\n",
    "\n",
    "#y_tr_pred = pipe.predict(X_train)\n",
    "y_te_pred = pipe.predict(X_test)"
   ]
  },
  {
   "cell_type": "code",
   "execution_count": 78,
   "id": "9184fa76",
   "metadata": {},
   "outputs": [
    {
     "name": "stdout",
     "output_type": "stream",
     "text": [
      "              precision    recall  f1-score   support\n",
      "\n",
      "           0       0.81      0.98      0.88      1762\n",
      "           1       0.16      0.02      0.03       419\n",
      "\n",
      "    accuracy                           0.79      2181\n",
      "   macro avg       0.49      0.50      0.46      2181\n",
      "weighted avg       0.68      0.79      0.72      2181\n",
      "\n"
     ]
    }
   ],
   "source": [
    "print(classification_report(y_test,y_te_pred))"
   ]
  },
  {
   "cell_type": "markdown",
   "id": "98c8734f",
   "metadata": {},
   "source": [
    "***\n",
    "Both models predict almost entirely the majority class, making these models fairly useless. \n",
    "***"
   ]
  },
  {
   "cell_type": "code",
   "execution_count": 82,
   "id": "47bd6052",
   "metadata": {},
   "outputs": [],
   "source": [
    "# CREATE LOGISTIC_REGRESSION PIPELINE\n",
    "\n",
    "from sklearn.linear_model import LogisticRegression\n",
    "\n",
    "pipe3 = make_pipeline(\n",
    "    PowerTransformer(),\n",
    "    LogisticRegression(random_state=123)\n",
    ")"
   ]
  },
  {
   "cell_type": "code",
   "execution_count": 83,
   "id": "e6efef21",
   "metadata": {},
   "outputs": [
    {
     "name": "stderr",
     "output_type": "stream",
     "text": [
      "C:\\Users\\DP185257\\Anaconda3\\lib\\site-packages\\sklearn\\linear_model\\_logistic.py:763: ConvergenceWarning: lbfgs failed to converge (status=1):\n",
      "STOP: TOTAL NO. of ITERATIONS REACHED LIMIT.\n",
      "\n",
      "Increase the number of iterations (max_iter) or scale the data as shown in:\n",
      "    https://scikit-learn.org/stable/modules/preprocessing.html\n",
      "Please also refer to the documentation for alternative solver options:\n",
      "    https://scikit-learn.org/stable/modules/linear_model.html#logistic-regression\n",
      "  n_iter_i = _check_optimize_result(\n"
     ]
    }
   ],
   "source": [
    "# FIT AND PREDICT PIPELINE\n",
    "\n",
    "pipe3.fit(X_train, y_train)\n",
    "\n",
    "#y_tr_pred = pipe.predict(X_train)\n",
    "y_te_pred = pipe.predict(X_test)"
   ]
  },
  {
   "cell_type": "code",
   "execution_count": null,
   "id": "305f0dc8",
   "metadata": {},
   "outputs": [],
   "source": []
  }
 ],
 "metadata": {
  "kernelspec": {
   "display_name": "Python 3 (ipykernel)",
   "language": "python",
   "name": "python3"
  },
  "language_info": {
   "codemirror_mode": {
    "name": "ipython",
    "version": 3
   },
   "file_extension": ".py",
   "mimetype": "text/x-python",
   "name": "python",
   "nbconvert_exporter": "python",
   "pygments_lexer": "ipython3",
   "version": "3.9.7"
  }
 },
 "nbformat": 4,
 "nbformat_minor": 5
}

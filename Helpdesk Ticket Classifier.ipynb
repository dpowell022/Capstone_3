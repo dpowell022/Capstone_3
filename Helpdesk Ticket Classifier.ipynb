{
 "cells": [
  {
   "cell_type": "markdown",
   "id": "ef27509e",
   "metadata": {},
   "source": [
    "## Helpdesk Issue Classification"
   ]
  },
  {
   "cell_type": "markdown",
   "id": "5883a7d8",
   "metadata": {},
   "source": [
    "### Step 1 - Problem Identification\n",
    "\n",
    "The purpose of this project is to classify the nature of the issue reported by a customer to their technology partner's technical support helpdesk. \n",
    "\n",
    "Agents write up tickets for each issue reported by a customer and document the issue in several ways (X). One key feature is the freeform fields 'Problem Notes' (a brief description of the issue) and 'Action Notes' (an aggregation of agent documentation of steps taken and info gathered)\n",
    "\n",
    "The target variable (y) is a series of 'Product Cat' fields, which we will consolidate into a single unique feature. Using supervised classification, I hope to use ML to find patterns between X and y such that I can predict what the 'Prod_Cat' ought to be. \n",
    "\n",
    "Being able to accurately predict the y variable would present substantial business value, as it is a constant challenge (training issue) getting agents to properly select the correct classification"
   ]
  },
  {
   "cell_type": "code",
   "execution_count": 148,
   "id": "93277338",
   "metadata": {},
   "outputs": [],
   "source": [
    "# BASIC PACKAGES\n",
    "import pandas as pd\n",
    "import numpy as np\n",
    "import missingno as msno\n",
    "\n",
    "# VISUALIZATION PACKAGES\n",
    "import scikitplot as skplt\n",
    "import seaborn as sns\n",
    "import matplotlib.pyplot as plt\n",
    "\n",
    "# PRE-PROCESSING PACKAGES\n",
    "from nltk.corpus import stopwords\n",
    "from sklearn.feature_extraction.text import TfidfVectorizer\n",
    "from sklearn.preprocessing import PowerTransformer\n",
    "\n",
    "# MODELING PACKAGES\n",
    "from sklearn.model_selection import train_test_split\n",
    "from sklearn.pipeline import make_pipeline\n",
    "from sklearn.ensemble import RandomForestClassifier\n",
    "from sklearn.metrics import classification_report\n",
    "from sklearn.ensemble import GradientBoostingClassifier\n",
    "from sklearn.linear_model import LogisticRegression\n",
    "from sklearn import svm\n",
    "from sklearn.calibration import CalibratedClassifierCV\n",
    "\n",
    "from sklearn.experimental import enable_halving_search_cv\n",
    "from sklearn.model_selection import HalvingRandomSearchCV"
   ]
  },
  {
   "cell_type": "code",
   "execution_count": 2,
   "id": "6c16dea0",
   "metadata": {},
   "outputs": [],
   "source": [
    "#READ IN LOCAL DATA AND EXPLORE IT\n",
    "data_raw = pd.read_excel(\"wingstop.xlsx\")"
   ]
  },
  {
   "cell_type": "markdown",
   "id": "07d49ae5",
   "metadata": {},
   "source": [
    "### Steps 2, 3 - Data Wrangling, EDA"
   ]
  },
  {
   "cell_type": "code",
   "execution_count": 5,
   "id": "871a3a8a",
   "metadata": {
    "collapsed": true
   },
   "outputs": [
    {
     "name": "stdout",
     "output_type": "stream",
     "text": [
      "Raw data shape: (9051, 31) \n",
      "\n",
      "Incident Identifier(NEOS)             object\n",
      "Created Date                          object\n",
      "Solution End Date Time TZ (Inc)       object\n",
      "Duration Hours                        object\n",
      "NEOS1                                 object\n",
      "Team Name (Inc)                       object\n",
      "Master Customer Name (Inc)            object\n",
      "Master Customer Number (Inc)         float64\n",
      "Customer Name                         object\n",
      "Site Name (Inc)                       object\n",
      "City (Inc)                            object\n",
      "Severity Code (Inc)                  float64\n",
      "Problem Note Text (Inc)               object\n",
      "Action Notes                          object\n",
      "Submitter Name (Inc)                  object\n",
      "Operational Catogerization Tier 1     object\n",
      "Operational Catogerization Tier 2     object\n",
      "Operational Catogerization Tier 3     object\n",
      "NEOS2                                 object\n",
      "Product Cat Tier 1                    object\n",
      "Product Cat Tier 2                    object\n",
      "Product Cat Tier 3                    object\n",
      "Product Cat Tier 4                    object\n",
      "Resolution Product Cat Tier 1         object\n",
      "Resolution Product Cat Tier 2         object\n",
      "Resolution Product Cat Tier 3         object\n",
      "Resolution Product Cat Tier 4         object\n",
      "FCR                                  float64\n",
      "RR                                   float64\n",
      "Closed by                             object\n",
      "Incident Status Description (Inc)     object\n",
      "dtype: object\n"
     ]
    }
   ],
   "source": [
    "print(\"Raw data shape:\", data_raw.shape, '\\n')\n",
    "print(data_raw.dtypes)"
   ]
  },
  {
   "cell_type": "code",
   "execution_count": 17,
   "id": "f18a4123",
   "metadata": {},
   "outputs": [
    {
     "name": "stdout",
     "output_type": "stream",
     "text": [
      "Index(['Duration Hours', 'Team Name (Inc)', 'Severity Code (Inc)',\n",
      "       'Problem Note Text (Inc)', 'Action Notes', 'Product Cat Tier 1',\n",
      "       'Product Cat Tier 2', 'Product Cat Tier 3', 'FCR', 'RR'],\n",
      "      dtype='object')\n"
     ]
    }
   ],
   "source": [
    "# DROP COLUMNS OUTSIDE THE SCOPE OF THIS CLASSIFICATION MODEL\n",
    "\n",
    "drop_columns= [\"Incident Identifier(NEOS)\", \"Solution End Date Time TZ (Inc)\", \"NEOS1\", \n",
    "               \"Created Date\", \"Master Customer Name (Inc)\", \"Master Customer Number (Inc)\", \n",
    "               \"Customer Name\", \"Site Name (Inc)\", 'City (Inc)', \"Submitter Name (Inc)\", \n",
    "               \"Operational Catogerization Tier 1\", \"Operational Catogerization Tier 2\",\n",
    "               \"Operational Catogerization Tier 3\", \"Product Cat Tier 4\", \"Resolution Product Cat Tier 1\", \n",
    "               \"Resolution Product Cat Tier 2\", \"Resolution Product Cat Tier 3\", \n",
    "               \"Resolution Product Cat Tier 4\", \"NEOS2\", \"Closed by\", \n",
    "               \"Incident Status Description (Inc)\"]\n",
    "df1 = data_raw.drop(drop_columns, axis=1)\n",
    "print(df1.columns)"
   ]
  },
  {
   "cell_type": "code",
   "execution_count": 18,
   "id": "f6c0d3e0",
   "metadata": {},
   "outputs": [
    {
     "data": {
      "text/plain": [
       "age_hours         object\n",
       "team              object\n",
       "sev               object\n",
       "problem_notes     object\n",
       "action_notes      object\n",
       "prod_cat1         object\n",
       "prod_cat2         object\n",
       "prod_cat3         object\n",
       "FCR              float64\n",
       "RR               float64\n",
       "dtype: object"
      ]
     },
     "execution_count": 18,
     "metadata": {},
     "output_type": "execute_result"
    }
   ],
   "source": [
    "# SIMPLIFY COLUMN NAMES\n",
    "\n",
    "cols_names= [\"age_hours\",\"team\",\"sev\",\"problem_notes\",\"action_notes\",\n",
    "            \"prod_cat1\",\"prod_cat2\",\"prod_cat3\", \"FCR\",\"RR\"]\n",
    "df1.columns = cols_names\n",
    "df1.dtypes"
   ]
  },
  {
   "cell_type": "markdown",
   "id": "b7863147",
   "metadata": {},
   "source": [
    "***\n",
    "CORRECT DTYPES\n",
    "***"
   ]
  },
  {
   "cell_type": "code",
   "execution_count": 19,
   "id": "2c52dafe",
   "metadata": {
    "scrolled": true
   },
   "outputs": [],
   "source": [
    "# FUNCTION TO EXAMINE THE NUMERIC SERIES PROVIDED AND REPLACE VALUES NOT MATCHING THE SPECIFIED\n",
    "    # DTYPE WITH THE SERIES MEDIAN\n",
    "    \n",
    "def correct_dtype(df, series, dtype):\n",
    "    df.loc[df[series].map(type) != dtype, series] \\\n",
    "        = df.loc[df[series].map(type) == dtype, series].median()"
   ]
  },
  {
   "cell_type": "code",
   "execution_count": 20,
   "id": "b067bfb8",
   "metadata": {},
   "outputs": [],
   "source": [
    "# CORRECT DTYPE FOR VALUES IN 'DURATION HOURS'\n",
    "\n",
    "correct_dtype(df1, \"age_hours\", float)"
   ]
  },
  {
   "cell_type": "code",
   "execution_count": 21,
   "id": "f3aea546",
   "metadata": {
    "scrolled": true
   },
   "outputs": [],
   "source": [
    "# CORRECT DTYPES OF COLUMNS BASED ON DOMAIN KNOWLEDGE\n",
    "\n",
    "df1['sev'] = df1['sev'].astype(\"object\")\n",
    "#data_raw['FCR'] = data_raw['FCR'].astype(\"object\") // THIS IS ALREADY BINARY\n",
    "#data_raw['RR'] = data_raw['RR'].astype(\"object\") // THIS IS ALREADY BINARY\n",
    "\n",
    "#data_raw['Product Cat Tier 1'] = data_raw['Product Cat Tier 1'].astype(\"string\") // ALREADY OBJECT\n",
    "#data_raw['Product Cat Tier 2'] = data_raw['Product Cat Tier 2'].astype(\"string\") // ALREADY OBJECT\n",
    "#data_raw['Product Cat Tier 3'] = data_raw['Product Cat Tier 3'].astype(\"string\") // ALREADY OBJECT"
   ]
  },
  {
   "cell_type": "markdown",
   "id": "d8a2432d",
   "metadata": {},
   "source": [
    "***\n",
    "HANDLE MISSING VALUES\n",
    "***"
   ]
  },
  {
   "cell_type": "code",
   "execution_count": 12,
   "id": "bb216dda",
   "metadata": {},
   "outputs": [
    {
     "data": {
      "text/plain": [
       "<AxesSubplot:title={'center':'Missing Values'}, xlabel='Columns', ylabel='Percentage / Count'>"
      ]
     },
     "execution_count": 12,
     "metadata": {},
     "output_type": "execute_result"
    },
    {
     "data": {
      "image/png": "[encoded data removed]",
      "text/plain": [
       "<Figure size 1728x720 with 3 Axes>"
      ]
     },
     "metadata": {},
     "output_type": "display_data"
    }
   ],
   "source": [
    "# CHECK FOR MISSING VALUES\n",
    "\n",
    "fig, ax = plt.subplots()\n",
    "fig.patch.set_facecolor('white')\n",
    "ax.set_xlabel('Columns')\n",
    "ax.set_ylabel('Percentage / Count')\n",
    "ax.set_title('Missing Values')\n",
    "msno.bar(df1, color='green')"
   ]
  },
  {
   "cell_type": "code",
   "execution_count": 13,
   "id": "aad65692",
   "metadata": {},
   "outputs": [
    {
     "data": {
      "text/plain": [
       "0"
      ]
     },
     "execution_count": 13,
     "metadata": {},
     "output_type": "execute_result"
    }
   ],
   "source": [
    "# IMPUTE MISSING VALUES IN AGE_HOURS USING MEDIAN() \n",
    "\n",
    "df1.age_hours.fillna(df1.age_hours.median(), inplace=True)\n",
    "df1.age_hours.isna().sum()"
   ]
  },
  {
   "cell_type": "markdown",
   "id": "305b7146",
   "metadata": {},
   "source": [
    "DF2"
   ]
  },
  {
   "cell_type": "code",
   "execution_count": 34,
   "id": "604929f7",
   "metadata": {},
   "outputs": [],
   "source": [
    "# VALUES FROM REMAINING CATEGORICAL /TEXT COLUMNS CANNOT BE IMPUTED, DROPPING THESE ROWS\n",
    "\n",
    "df2 = df1.dropna()\n",
    "df2.reset_index(drop=True, inplace=True)"
   ]
  },
  {
   "cell_type": "code",
   "execution_count": 35,
   "id": "9c5563f4",
   "metadata": {},
   "outputs": [
    {
     "data": {
      "text/plain": [
       "<AxesSubplot:title={'center':'Missing Values'}, xlabel='Columns', ylabel='Percentage / Count'>"
      ]
     },
     "execution_count": 35,
     "metadata": {},
     "output_type": "execute_result"
    },
    {
     "data": {
      "image/png": "[encoded data removed]",
      "text/plain": [
       "<Figure size 1728x720 with 3 Axes>"
      ]
     },
     "metadata": {},
     "output_type": "display_data"
    }
   ],
   "source": [
    "# MAKE SURE NO MISSING VALUES REMAIN\n",
    "\n",
    "fig, ax = plt.subplots()\n",
    "fig.patch.set_facecolor('white')\n",
    "ax.set_xlabel('Columns')\n",
    "ax.set_ylabel('Percentage / Count')\n",
    "ax.set_title('Missing Values')\n",
    "msno.bar(df2, color='green')"
   ]
  },
  {
   "cell_type": "markdown",
   "id": "53f60cce",
   "metadata": {},
   "source": [
    "***\n",
    "HANDLING OUTLIERS\n",
    "***"
   ]
  },
  {
   "cell_type": "code",
   "execution_count": 36,
   "id": "dadb12d4",
   "metadata": {},
   "outputs": [
    {
     "data": {
      "text/plain": [
       "<AxesSubplot:title={'center':'Age Distribution'}, xlabel='Age (Hrs)', ylabel='Count in Bin'>"
      ]
     },
     "execution_count": 36,
     "metadata": {},
     "output_type": "execute_result"
    },
    {
     "data": {
      "image/png": "[encoded data removed]",
      "text/plain": [
       "<Figure size 432x288 with 1 Axes>"
      ]
     },
     "metadata": {},
     "output_type": "display_data"
    }
   ],
   "source": [
    "# CHECK FOR OUTLIERS WITHIN AGE_HOURS\n",
    "\n",
    "fig, ax = plt.subplots()\n",
    "fig.patch.set_facecolor('white')\n",
    "ax.set_xlabel('Age (Hrs)')\n",
    "ax.set_ylabel('Count in Bin')\n",
    "ax.set_title('Age Distribution')\n",
    "sns.histplot(x='age_hours', data=df2, bins=50, color='green')"
   ]
  },
  {
   "cell_type": "code",
   "execution_count": 37,
   "id": "3429d119",
   "metadata": {},
   "outputs": [
    {
     "name": "stdout",
     "output_type": "stream",
     "text": [
      "Percentage of cases with Age > 300 hrs\n",
      " 0.002 %\n"
     ]
    }
   ],
   "source": [
    "# CHECK PERCENTAGE OF CASES OUTSIDE THE TARGET THRESHOLD\n",
    "\n",
    "print(\"Percentage of cases with Age > 300 hrs\\n\", \n",
    "      round(len(df2[df2['age_hours'] > 300]) / len(df2), 3), \"%\")"
   ]
  },
  {
   "cell_type": "code",
   "execution_count": 38,
   "id": "3a54db06",
   "metadata": {
    "collapsed": true
   },
   "outputs": [
    {
     "name": "stderr",
     "output_type": "stream",
     "text": [
      "C:\\Users\\DP185257\\Anaconda3\\lib\\site-packages\\pandas\\core\\indexing.py:1817: SettingWithCopyWarning: \n",
      "A value is trying to be set on a copy of a slice from a DataFrame.\n",
      "Try using .loc[row_indexer,col_indexer] = value instead\n",
      "\n",
      "See the caveats in the documentation: https://pandas.pydata.org/pandas-docs/stable/user_guide/indexing.html#returning-a-view-versus-a-copy\n",
      "  self._setitem_single_column(loc, value, pi)\n"
     ]
    }
   ],
   "source": [
    "# REPLACE OUTLIER VALUES WITH IMPUTED MEDIAN\n",
    "\n",
    "df2.loc[df2.age_hours > 300, \"age_hours\"] = df2.loc[df2.age_hours < 300, \"age_hours\"].median()"
   ]
  },
  {
   "cell_type": "code",
   "execution_count": 39,
   "id": "45ef1c31",
   "metadata": {
    "scrolled": false
   },
   "outputs": [
    {
     "data": {
      "text/plain": [
       "<AxesSubplot:title={'center':'Age Distribution'}, xlabel='Age (Hrs)', ylabel='Count in Bin'>"
      ]
     },
     "execution_count": 39,
     "metadata": {},
     "output_type": "execute_result"
    },
    {
     "data": {
      "image/png": "[encoded data removed]",
      "text/plain": [
       "<Figure size 432x288 with 1 Axes>"
      ]
     },
     "metadata": {},
     "output_type": "display_data"
    }
   ],
   "source": [
    "# CHECK FOR OUTLIERS WITHIN AGE_HOURS AGAIN\n",
    "\n",
    "fig, ax = plt.subplots()\n",
    "fig.patch.set_facecolor('white')\n",
    "ax.set_xlabel('Age (Hrs)')\n",
    "ax.set_ylabel('Count in Bin')\n",
    "ax.set_title('Age Distribution')\n",
    "sns.histplot(x='age_hours', data=df2, bins=50, color='green')"
   ]
  },
  {
   "cell_type": "markdown",
   "id": "c852a60a",
   "metadata": {},
   "source": [
    "***\n",
    "FEATURE ENGINEERING\n",
    "***"
   ]
  },
  {
   "cell_type": "code",
   "execution_count": 40,
   "id": "7ebf9d6a",
   "metadata": {},
   "outputs": [
    {
     "data": {
      "image/png": "[encoded data removed]",
      "text/plain": [
       "<Figure size 432x288 with 1 Axes>"
      ]
     },
     "metadata": {},
     "output_type": "display_data"
    }
   ],
   "source": [
    "# CHECK DISTRIBUTION OF TEAM FEATURE\n",
    "\n",
    "fig = plt.figure()\n",
    "fig.patch.set_facecolor('white')\n",
    "ax = sns.countplot(x='team', data=df2, palette='Greens_d')\n",
    "plt.xticks(rotation=90)\n",
    "plt.show()"
   ]
  },
  {
   "cell_type": "code",
   "execution_count": 41,
   "id": "ebdb052d",
   "metadata": {
    "collapsed": true
   },
   "outputs": [
    {
     "name": "stderr",
     "output_type": "stream",
     "text": [
      "C:\\Users\\DP185257\\Anaconda3\\lib\\site-packages\\pandas\\core\\indexing.py:1667: SettingWithCopyWarning: \n",
      "A value is trying to be set on a copy of a slice from a DataFrame.\n",
      "Try using .loc[row_indexer,col_indexer] = value instead\n",
      "\n",
      "See the caveats in the documentation: https://pandas.pydata.org/pandas-docs/stable/user_guide/indexing.html#returning-a-view-versus-a-copy\n",
      "  self.obj[key] = value\n",
      "C:\\Users\\DP185257\\Anaconda3\\lib\\site-packages\\pandas\\core\\indexing.py:1817: SettingWithCopyWarning: \n",
      "A value is trying to be set on a copy of a slice from a DataFrame.\n",
      "Try using .loc[row_indexer,col_indexer] = value instead\n",
      "\n",
      "See the caveats in the documentation: https://pandas.pydata.org/pandas-docs/stable/user_guide/indexing.html#returning-a-view-versus-a-copy\n",
      "  self._setitem_single_column(loc, value, pi)\n"
     ]
    }
   ],
   "source": [
    "# ITERATE THROUGH THE TEAM SERIES, EVALUATE STR OBJECTS THAT CONTAIN 'L1' AND POPULATE 'L1' FEATURE\n",
    "# VALUE OF 1 INDICATES L1, VALUE OF 0 INDICATES L3\n",
    "\n",
    "df2.loc[:,\"L1\"] = 0\n",
    "for x in range(len(df2.team)):\n",
    "    if df2.team[x].find(\" L1\") > 0:\n",
    "        df2.loc[x, \"L1\"] = 1\n",
    "    else:\n",
    "        df2.loc[x, \"L1\"] = 0"
   ]
  },
  {
   "cell_type": "code",
   "execution_count": 42,
   "id": "1dc46018",
   "metadata": {},
   "outputs": [
    {
     "data": {
      "image/png": "[encoded data removed]",
      "text/plain": [
       "<Figure size 432x288 with 1 Axes>"
      ]
     },
     "metadata": {},
     "output_type": "display_data"
    }
   ],
   "source": [
    "# SHOW CLASS BALANCE OF NEW L1 FEATURE\n",
    "\n",
    "fig = plt.figure()\n",
    "fig.patch.set_facecolor('white')\n",
    "ax = sns.countplot(x='L1', data=df2, palette='Greens_d')\n",
    "plt.show()"
   ]
  },
  {
   "cell_type": "code",
   "execution_count": 43,
   "id": "2b0ce2cb",
   "metadata": {
    "scrolled": true
   },
   "outputs": [
    {
     "name": "stderr",
     "output_type": "stream",
     "text": [
      "C:\\Users\\DP185257\\Anaconda3\\lib\\site-packages\\pandas\\core\\indexing.py:1667: SettingWithCopyWarning: \n",
      "A value is trying to be set on a copy of a slice from a DataFrame.\n",
      "Try using .loc[row_indexer,col_indexer] = value instead\n",
      "\n",
      "See the caveats in the documentation: https://pandas.pydata.org/pandas-docs/stable/user_guide/indexing.html#returning-a-view-versus-a-copy\n",
      "  self.obj[key] = value\n",
      "C:\\Users\\DP185257\\Anaconda3\\lib\\site-packages\\pandas\\core\\indexing.py:1817: SettingWithCopyWarning: \n",
      "A value is trying to be set on a copy of a slice from a DataFrame.\n",
      "Try using .loc[row_indexer,col_indexer] = value instead\n",
      "\n",
      "See the caveats in the documentation: https://pandas.pydata.org/pandas-docs/stable/user_guide/indexing.html#returning-a-view-versus-a-copy\n",
      "  self._setitem_single_column(loc, value, pi)\n"
     ]
    },
    {
     "data": {
      "text/plain": [
       "z_Third Party,Third Party SW Not Working,Third Party SW Not Working    633\n",
       "z_NCR Back Office,Sales,Sales                                          497\n",
       "z_Aloha POS,Front Of House,Missing employee                            450\n",
       "z_NCR Back Office,Labor,Labor                                          415\n",
       "z_Aloha POS,Site/Store Down,Determining File Server                    396\n",
       "                                                                      ... \n",
       "z_Aloha POS,Front Of House,Can't assign drawer                          27\n",
       "z_Terminal,Power,Randomly Shuts Off                                     26\n",
       "z_Terminal,Power,HW Failure                                             26\n",
       "z_Terminal,Time / Date,Time Incorrect                                   25\n",
       "z_Electronic Draft Capture,Back Of House,Refund                         25\n",
       "Name: prod_cat, Length: 64, dtype: int64"
      ]
     },
     "execution_count": 43,
     "metadata": {},
     "output_type": "execute_result"
    }
   ],
   "source": [
    "# MERGE TOGETHER THE TEXT COLUMNS FOR PROD_CAT, AS EVERY TICKET WILL HAVE SOME COMBINATION OF \n",
    "    # ALL 3 OF THESE TOGETHER. SO EACH COMBINATION REPRESENTS 1 CLASS IN THE CATEGORICAL FEATURE\n",
    "\n",
    "df2.reset_index(drop=True, inplace=True\n",
    "               )\n",
    "df2.loc[:,\"prod_cat\"] = df2.loc[:,\"prod_cat1\"]\n",
    "for i in range(len(df2.prod_cat)):\n",
    "    df2.loc[i, \"prod_cat\"] = df2.loc[i, \"prod_cat1\"] + \",\" + df2.loc[i, \"prod_cat2\"] + \",\" + df2.loc[i, \"prod_cat3\"]\n",
    "\n",
    "# REMOVE LABELS NOT OCCURRING AT LEAST 10 TIMES\n",
    "\n",
    "ind_list= list(df2.prod_cat.value_counts()[df2.prod_cat.value_counts() < 25].index)\n",
    "df2= df2.loc[~df2['prod_cat'].isin(ind_list)]\n",
    "\n",
    "# DROP ORIGINAL PROD_CAT * COLUMNS\n",
    "\n",
    "df2.drop([\"prod_cat1\", \"prod_cat2\", \"prod_cat3\"], axis=1, inplace=True)\n",
    "df2.prod_cat.value_counts()"
   ]
  },
  {
   "cell_type": "code",
   "execution_count": 45,
   "id": "36cdcda0",
   "metadata": {},
   "outputs": [
    {
     "data": {
      "text/plain": [
       "age_hours        object\n",
       "team             object\n",
       "sev              object\n",
       "problem_notes    object\n",
       "action_notes     object\n",
       "FCR              object\n",
       "RR               object\n",
       "L1               object\n",
       "prod_cat         object\n",
       "dtype: object"
      ]
     },
     "execution_count": 45,
     "metadata": {},
     "output_type": "execute_result"
    }
   ],
   "source": [
    "# CORRECT DATA TYPE AGAIN FOR VARIOUS NUMERIC COLUMNS THAT SHOULD BE CATEGORICAL\n",
    "\n",
    "df2.FCR = [str(int(x)) for x in df2[\"FCR\"]]\n",
    "df2.RR = [str(int(x)) for x in df2[\"RR\"]]\n",
    "df2.L1 = [str(x) for x in df2[\"L1\"]]\n",
    "df2.sev = [str(int(x)) for x in df2[\"sev\"]]\n",
    "df2.dtypes"
   ]
  },
  {
   "cell_type": "code",
   "execution_count": 46,
   "id": "f30f3b1d",
   "metadata": {},
   "outputs": [
    {
     "data": {
      "text/html": [
       "<div>\n",
       "<style scoped>\n",
       "    .dataframe tbody tr th:only-of-type {\n",
       "        vertical-align: middle;\n",
       "    }\n",
       "\n",
       "    .dataframe tbody tr th {\n",
       "        vertical-align: top;\n",
       "    }\n",
       "\n",
       "    .dataframe thead th {\n",
       "        text-align: right;\n",
       "    }\n",
       "</style>\n",
       "<table border=\"1\" class=\"dataframe\">\n",
       "  <thead>\n",
       "    <tr style=\"text-align: right;\">\n",
       "      <th></th>\n",
       "      <th>age_hours</th>\n",
       "      <th>team</th>\n",
       "      <th>sev</th>\n",
       "      <th>problem_notes</th>\n",
       "      <th>action_notes</th>\n",
       "      <th>FCR</th>\n",
       "      <th>RR</th>\n",
       "      <th>L1</th>\n",
       "      <th>prod_cat</th>\n",
       "    </tr>\n",
       "  </thead>\n",
       "  <tbody>\n",
       "    <tr>\n",
       "      <th>0</th>\n",
       "      <td>0.046389</td>\n",
       "      <td>HSR/Aloha Wingstop L1</td>\n",
       "      <td>1</td>\n",
       "      <td>1. Site Name/Site Number (GEMS):  38   \\n2. Po...</td>\n",
       "      <td>2022-03-31 23:11 - dv250157\\nGeneral Informati...</td>\n",
       "      <td>1</td>\n",
       "      <td>0</td>\n",
       "      <td>1</td>\n",
       "      <td>z_PinPad / CC Machine,Display,Incorrect Screen</td>\n",
       "    </tr>\n",
       "    <tr>\n",
       "      <th>1</th>\n",
       "      <td>0.065278</td>\n",
       "      <td>HSR/Aloha Wingstop L1</td>\n",
       "      <td>2</td>\n",
       "      <td>Employee export</td>\n",
       "      <td>2022-03-31 23:23 - vb250277\\nWorking Log: Fiel...</td>\n",
       "      <td>1</td>\n",
       "      <td>0</td>\n",
       "      <td>1</td>\n",
       "      <td>z_NCR Back Office,Database,Database</td>\n",
       "    </tr>\n",
       "    <tr>\n",
       "      <th>2</th>\n",
       "      <td>0.821667</td>\n",
       "      <td>HSR/Aloha Wingstop L1</td>\n",
       "      <td>0</td>\n",
       "      <td>WNG - Store offline - Internet issue</td>\n",
       "      <td>2022-04-01 00:09 - dv250157\\nWorking Log: Fiel...</td>\n",
       "      <td>1</td>\n",
       "      <td>0</td>\n",
       "      <td>1</td>\n",
       "      <td>z_Third Party,Internet Service Provider,Intern...</td>\n",
       "    </tr>\n",
       "    <tr>\n",
       "      <th>3</th>\n",
       "      <td>12.002778</td>\n",
       "      <td>HSR/Aloha Wingstop L1</td>\n",
       "      <td>0</td>\n",
       "      <td>WNG - All terms down</td>\n",
       "      <td>2022-04-01 00:18 - dv250157\\nWorking Log: Fiel...</td>\n",
       "      <td>0</td>\n",
       "      <td>0</td>\n",
       "      <td>1</td>\n",
       "      <td>z_Aloha POS,Site/Store Down,Determining File S...</td>\n",
       "    </tr>\n",
       "    <tr>\n",
       "      <th>4</th>\n",
       "      <td>14.766944</td>\n",
       "      <td>HSR/Aloha Wingstop L1</td>\n",
       "      <td>2</td>\n",
       "      <td>FOH-Printer rerouting</td>\n",
       "      <td>2022-04-01 01:00 - vv250206\\nWorking Log: Fiel...</td>\n",
       "      <td>0</td>\n",
       "      <td>0</td>\n",
       "      <td>1</td>\n",
       "      <td>z_Printer,Won't Print,HW Failure</td>\n",
       "    </tr>\n",
       "  </tbody>\n",
       "</table>\n",
       "</div>"
      ],
      "text/plain": [
       "   age_hours                   team sev  \\\n",
       "0   0.046389  HSR/Aloha Wingstop L1   1   \n",
       "1   0.065278  HSR/Aloha Wingstop L1   2   \n",
       "2   0.821667  HSR/Aloha Wingstop L1   0   \n",
       "3  12.002778  HSR/Aloha Wingstop L1   0   \n",
       "4  14.766944  HSR/Aloha Wingstop L1   2   \n",
       "\n",
       "                                       problem_notes  \\\n",
       "0  1. Site Name/Site Number (GEMS):  38   \\n2. Po...   \n",
       "1                                   Employee export    \n",
       "2               WNG - Store offline - Internet issue   \n",
       "3                               WNG - All terms down   \n",
       "4                             FOH-Printer rerouting    \n",
       "\n",
       "                                        action_notes FCR RR L1  \\\n",
       "0  2022-03-31 23:11 - dv250157\\nGeneral Informati...   1  0  1   \n",
       "1  2022-03-31 23:23 - vb250277\\nWorking Log: Fiel...   1  0  1   \n",
       "2  2022-04-01 00:09 - dv250157\\nWorking Log: Fiel...   1  0  1   \n",
       "3  2022-04-01 00:18 - dv250157\\nWorking Log: Fiel...   0  0  1   \n",
       "4  2022-04-01 01:00 - vv250206\\nWorking Log: Fiel...   0  0  1   \n",
       "\n",
       "                                            prod_cat  \n",
       "0     z_PinPad / CC Machine,Display,Incorrect Screen  \n",
       "1                z_NCR Back Office,Database,Database  \n",
       "2  z_Third Party,Internet Service Provider,Intern...  \n",
       "3  z_Aloha POS,Site/Store Down,Determining File S...  \n",
       "4                   z_Printer,Won't Print,HW Failure  "
      ]
     },
     "execution_count": 46,
     "metadata": {},
     "output_type": "execute_result"
    }
   ],
   "source": [
    "df2.head()"
   ]
  },
  {
   "cell_type": "code",
   "execution_count": 47,
   "id": "8c58c39a",
   "metadata": {},
   "outputs": [],
   "source": [
    "# ENGINEER NEW FEATURES FOR LEN() OF USER ENTRY FIELDS\n",
    "\n",
    "df2[\"prob_notes_len\"] = [len(x) for x in df2.problem_notes]\n",
    "df2[\"act_notes_len\"] = [len(x) for x in df2.action_notes]"
   ]
  },
  {
   "cell_type": "code",
   "execution_count": 48,
   "id": "e2eb66fa",
   "metadata": {},
   "outputs": [
    {
     "data": {
      "text/plain": [
       "<AxesSubplot:title={'center':'Len() of Problem Notes'}, xlabel='Number of characters', ylabel='Count'>"
      ]
     },
     "execution_count": 48,
     "metadata": {},
     "output_type": "execute_result"
    },
    {
     "data": {
      "image/png": "[encoded data removed]",
      "text/plain": [
       "<Figure size 432x288 with 1 Axes>"
      ]
     },
     "metadata": {},
     "output_type": "display_data"
    }
   ],
   "source": [
    "# COMPARE LEN OF PROB NOTES AND ACT NOTES, BOTH WILL SURELY NEED TO BE REGULARIZED FOR ML\n",
    "\n",
    "fig, ax = plt.subplots()\n",
    "fig.patch.set_facecolor('white')\n",
    "ax.set_title('Len() of Problem Notes')\n",
    "ax.set_xlabel('Number of characters')\n",
    "sns.histplot(data=df2, x=\"prob_notes_len\", color=\"green\", kde=True)"
   ]
  },
  {
   "cell_type": "code",
   "execution_count": 49,
   "id": "2c5c8d7a",
   "metadata": {},
   "outputs": [
    {
     "data": {
      "text/plain": [
       "<AxesSubplot:title={'center':'Len() of Action Notes'}, xlabel='Number of characters', ylabel='Count'>"
      ]
     },
     "execution_count": 49,
     "metadata": {},
     "output_type": "execute_result"
    },
    {
     "data": {
      "image/png": "[encoded data removed]",
      "text/plain": [
       "<Figure size 432x288 with 1 Axes>"
      ]
     },
     "metadata": {},
     "output_type": "display_data"
    }
   ],
   "source": [
    "fig, ax = plt.subplots()\n",
    "fig.patch.set_facecolor('white')\n",
    "ax.set_xlabel('Number of characters')\n",
    "ax.set_title('Len() of Action Notes')\n",
    "sns.histplot(data=df2, x=\"act_notes_len\", color=\"green\", kde=True)"
   ]
  },
  {
   "cell_type": "markdown",
   "id": "e94c49d2",
   "metadata": {},
   "source": [
    "### Step 4 - Pre-processing"
   ]
  },
  {
   "cell_type": "markdown",
   "id": "438c7e9d",
   "metadata": {},
   "source": [
    "***\n",
    "TEXT PRE-PROCESSING\n",
    "***"
   ]
  },
  {
   "cell_type": "code",
   "execution_count": 51,
   "id": "3d43ff9b",
   "metadata": {},
   "outputs": [],
   "source": [
    "### FUNCTION TO TAKE A SERIES OF TEXT AND CLEAN IT, REMOVING SPECIAL CHARACTERS, \n",
    "    ### REPLACING NEW LINES WITH \" \", AND LOWER() ON EVERYTHING\n",
    "\n",
    "def clean_text(series): \n",
    "    new_series = series.str.replace('[^a-zA-Z \\n]', '')\n",
    "    new_series = new_series.str.replace('\\n', ' ')\n",
    "    new_series = new_series.str.lower()\n",
    "    return new_series"
   ]
  },
  {
   "cell_type": "code",
   "execution_count": 52,
   "id": "478fb6a6",
   "metadata": {},
   "outputs": [],
   "source": [
    "df2.reset_index(drop=True, inplace=True)"
   ]
  },
  {
   "cell_type": "markdown",
   "id": "8bc731e9",
   "metadata": {},
   "source": [
    "DF3"
   ]
  },
  {
   "cell_type": "code",
   "execution_count": 53,
   "id": "d3d2d90f",
   "metadata": {
    "scrolled": false
   },
   "outputs": [
    {
     "name": "stderr",
     "output_type": "stream",
     "text": [
      "C:\\Users\\DP185257\\AppData\\Local\\Temp/ipykernel_15876/1607333787.py:5: FutureWarning: The default value of regex will change from True to False in a future version.\n",
      "  new_series = series.str.replace('[^a-zA-Z \\n]', '')\n"
     ]
    },
    {
     "name": "stdout",
     "output_type": "stream",
     "text": [
      "0     site namesite number gems       point of cont...\n",
      "1    employee export    vb working log field values...\n",
      "2    wng  store offline  internet issue   dv workin...\n",
      "3    wng  all terms down   dv working log field val...\n",
      "4    fohprinter rerouting    vv working log field v...\n",
      "Name: combined_notes, dtype: object\n"
     ]
    }
   ],
   "source": [
    "# COMBINE PROBLEM_NOTES AND ACTION_NOTES SINCE THEY ARE COMPARABLE FIELDS THAT CAN BE VECTORIZED TOGETHER\n",
    "\n",
    "prob_series= clean_text(df2['problem_notes'])\n",
    "act_series= clean_text(df2['action_notes'])\n",
    "\n",
    "df3= df2.drop(['action_notes', 'problem_notes'], axis=1)\n",
    "df3.loc[:,\"combined_notes\"] = [(prob_series[x] + act_series[x]) for x in range(len(df2))]\n",
    "print(df3.combined_notes.head())"
   ]
  },
  {
   "cell_type": "markdown",
   "id": "f622ea48",
   "metadata": {},
   "source": [
    "***\n",
    "##### NOTE: CLEANING NUMBERS FROM NOTES REMOVES REFERENCES LIKE T1 ETC\n",
    "*May reconsider this for future scope*\n",
    "***"
   ]
  },
  {
   "cell_type": "code",
   "execution_count": 54,
   "id": "d4f87f36",
   "metadata": {},
   "outputs": [
    {
     "data": {
      "text/plain": [
       "Index(['age_hours', 'team', 'sev', 'FCR', 'RR', 'L1', 'prod_cat',\n",
       "       'prob_notes_len', 'act_notes_len', 'combined_notes'],\n",
       "      dtype='object')"
      ]
     },
     "execution_count": 54,
     "metadata": {},
     "output_type": "execute_result"
    }
   ],
   "source": [
    "df3.columns"
   ]
  },
  {
   "cell_type": "code",
   "execution_count": 55,
   "id": "d7c310b1",
   "metadata": {},
   "outputs": [],
   "source": [
    "# FUNCTION TO APPLY GET_DUMMIES TO A SPECIFIED CATEGORICAL FEATURE, THEN DROP ORIGINAL COLUMN\n",
    "\n",
    "def encode_and_bind(original_dataframe, feature_to_encode):\n",
    "    dummies = pd.get_dummies(original_dataframe[feature_to_encode])\n",
    "    res = pd.concat([original_dataframe, dummies], axis=1)\n",
    "    res = res.drop([feature_to_encode], axis=1)\n",
    "    return(res) "
   ]
  },
  {
   "cell_type": "markdown",
   "id": "3c1438bc",
   "metadata": {},
   "source": [
    "DF5"
   ]
  },
  {
   "cell_type": "code",
   "execution_count": 56,
   "id": "690e4619",
   "metadata": {
    "scrolled": false
   },
   "outputs": [
    {
     "data": {
      "text/plain": [
       "Index(['age_hours', 'sev', 'FCR', 'RR', 'L1', 'prod_cat', 'prob_notes_len',\n",
       "       'act_notes_len', 'combined_notes', 'HSR/Aloha Wingstop Hardware L1',\n",
       "       'HSR/Aloha Wingstop L1', 'HSR/Aloha Wingstop L3',\n",
       "       'HSR/Aloha Wingstop NBO L3', 'HSR/Aloha Wingstop Project L3',\n",
       "       'HSR/Enterprise Aloha Wingstop WIT'],\n",
       "      dtype='object')"
      ]
     },
     "execution_count": 56,
     "metadata": {},
     "output_type": "execute_result"
    }
   ],
   "source": [
    "df5= encode_and_bind(df3, 'team')\n",
    "df5.columns"
   ]
  },
  {
   "cell_type": "code",
   "execution_count": 160,
   "id": "0072a3c7",
   "metadata": {},
   "outputs": [],
   "source": [
    "df5.to_excel('data_wrangled.xlsx')"
   ]
  },
  {
   "cell_type": "code",
   "execution_count": 57,
   "id": "bb89a245",
   "metadata": {
    "scrolled": true
   },
   "outputs": [],
   "source": [
    "# Instantiate TfidfVectorizer\n",
    "\n",
    "tv = TfidfVectorizer(stop_words='english',\n",
    "                    min_df=10, ngram_range=(1,3))\n",
    "\n",
    "# Fit the vectorizer and transform the data\n",
    "tv_transformed = tv.fit_transform(df3['combined_notes'])\n",
    "\n",
    "# Create a DataFrame with these features\n",
    "tv_df = pd.DataFrame(tv_transformed.toarray(), \n",
    "                     columns=tv.get_feature_names()).add_prefix('TFIDF_')"
   ]
  },
  {
   "cell_type": "code",
   "execution_count": 58,
   "id": "3bdf40a4",
   "metadata": {},
   "outputs": [
    {
     "data": {
      "text/plain": [
       "(8222, 17223)"
      ]
     },
     "execution_count": 58,
     "metadata": {},
     "output_type": "execute_result"
    }
   ],
   "source": [
    "tv_df.shape"
   ]
  },
  {
   "cell_type": "markdown",
   "id": "ac326719",
   "metadata": {},
   "source": [
    "DF6"
   ]
  },
  {
   "cell_type": "code",
   "execution_count": 60,
   "id": "0654854b",
   "metadata": {},
   "outputs": [
    {
     "data": {
      "text/html": [
       "<div>\n",
       "<style scoped>\n",
       "    .dataframe tbody tr th:only-of-type {\n",
       "        vertical-align: middle;\n",
       "    }\n",
       "\n",
       "    .dataframe tbody tr th {\n",
       "        vertical-align: top;\n",
       "    }\n",
       "\n",
       "    .dataframe thead th {\n",
       "        text-align: right;\n",
       "    }\n",
       "</style>\n",
       "<table border=\"1\" class=\"dataframe\">\n",
       "  <thead>\n",
       "    <tr style=\"text-align: right;\">\n",
       "      <th></th>\n",
       "      <th>age_hours</th>\n",
       "      <th>sev</th>\n",
       "      <th>FCR</th>\n",
       "      <th>RR</th>\n",
       "      <th>L1</th>\n",
       "      <th>prod_cat</th>\n",
       "      <th>prob_notes_len</th>\n",
       "      <th>act_notes_len</th>\n",
       "      <th>HSR/Aloha Wingstop Hardware L1</th>\n",
       "      <th>HSR/Aloha Wingstop L1</th>\n",
       "      <th>...</th>\n",
       "      <th>TFIDF_zn reason</th>\n",
       "      <th>TFIDF_zn reason action</th>\n",
       "      <th>TFIDF_zn reason field</th>\n",
       "      <th>TFIDF_zn status</th>\n",
       "      <th>TFIDF_zn status marked</th>\n",
       "      <th>TFIDF_zn working</th>\n",
       "      <th>TFIDF_zn working log</th>\n",
       "      <th>TFIDF_zn zn</th>\n",
       "      <th>TFIDF_zn zn working</th>\n",
       "      <th>TFIDF_zn zn zn</th>\n",
       "    </tr>\n",
       "  </thead>\n",
       "  <tbody>\n",
       "    <tr>\n",
       "      <th>0</th>\n",
       "      <td>0.046389</td>\n",
       "      <td>1</td>\n",
       "      <td>1</td>\n",
       "      <td>0</td>\n",
       "      <td>1</td>\n",
       "      <td>z_PinPad / CC Machine,Display,Incorrect Screen</td>\n",
       "      <td>1048</td>\n",
       "      <td>3173</td>\n",
       "      <td>0</td>\n",
       "      <td>1</td>\n",
       "      <td>...</td>\n",
       "      <td>0.0</td>\n",
       "      <td>0.0</td>\n",
       "      <td>0.0</td>\n",
       "      <td>0.0</td>\n",
       "      <td>0.0</td>\n",
       "      <td>0.0</td>\n",
       "      <td>0.0</td>\n",
       "      <td>0.0</td>\n",
       "      <td>0.0</td>\n",
       "      <td>0.0</td>\n",
       "    </tr>\n",
       "    <tr>\n",
       "      <th>1</th>\n",
       "      <td>0.065278</td>\n",
       "      <td>2</td>\n",
       "      <td>1</td>\n",
       "      <td>0</td>\n",
       "      <td>1</td>\n",
       "      <td>z_NCR Back Office,Database,Database</td>\n",
       "      <td>16</td>\n",
       "      <td>2405</td>\n",
       "      <td>0</td>\n",
       "      <td>1</td>\n",
       "      <td>...</td>\n",
       "      <td>0.0</td>\n",
       "      <td>0.0</td>\n",
       "      <td>0.0</td>\n",
       "      <td>0.0</td>\n",
       "      <td>0.0</td>\n",
       "      <td>0.0</td>\n",
       "      <td>0.0</td>\n",
       "      <td>0.0</td>\n",
       "      <td>0.0</td>\n",
       "      <td>0.0</td>\n",
       "    </tr>\n",
       "    <tr>\n",
       "      <th>2</th>\n",
       "      <td>0.821667</td>\n",
       "      <td>0</td>\n",
       "      <td>1</td>\n",
       "      <td>0</td>\n",
       "      <td>1</td>\n",
       "      <td>z_Third Party,Internet Service Provider,Intern...</td>\n",
       "      <td>36</td>\n",
       "      <td>2279</td>\n",
       "      <td>0</td>\n",
       "      <td>1</td>\n",
       "      <td>...</td>\n",
       "      <td>0.0</td>\n",
       "      <td>0.0</td>\n",
       "      <td>0.0</td>\n",
       "      <td>0.0</td>\n",
       "      <td>0.0</td>\n",
       "      <td>0.0</td>\n",
       "      <td>0.0</td>\n",
       "      <td>0.0</td>\n",
       "      <td>0.0</td>\n",
       "      <td>0.0</td>\n",
       "    </tr>\n",
       "    <tr>\n",
       "      <th>3</th>\n",
       "      <td>12.002778</td>\n",
       "      <td>0</td>\n",
       "      <td>0</td>\n",
       "      <td>0</td>\n",
       "      <td>1</td>\n",
       "      <td>z_Aloha POS,Site/Store Down,Determining File S...</td>\n",
       "      <td>20</td>\n",
       "      <td>4715</td>\n",
       "      <td>0</td>\n",
       "      <td>1</td>\n",
       "      <td>...</td>\n",
       "      <td>0.0</td>\n",
       "      <td>0.0</td>\n",
       "      <td>0.0</td>\n",
       "      <td>0.0</td>\n",
       "      <td>0.0</td>\n",
       "      <td>0.0</td>\n",
       "      <td>0.0</td>\n",
       "      <td>0.0</td>\n",
       "      <td>0.0</td>\n",
       "      <td>0.0</td>\n",
       "    </tr>\n",
       "    <tr>\n",
       "      <th>4</th>\n",
       "      <td>14.766944</td>\n",
       "      <td>2</td>\n",
       "      <td>0</td>\n",
       "      <td>0</td>\n",
       "      <td>1</td>\n",
       "      <td>z_Printer,Won't Print,HW Failure</td>\n",
       "      <td>22</td>\n",
       "      <td>3009</td>\n",
       "      <td>0</td>\n",
       "      <td>1</td>\n",
       "      <td>...</td>\n",
       "      <td>0.0</td>\n",
       "      <td>0.0</td>\n",
       "      <td>0.0</td>\n",
       "      <td>0.0</td>\n",
       "      <td>0.0</td>\n",
       "      <td>0.0</td>\n",
       "      <td>0.0</td>\n",
       "      <td>0.0</td>\n",
       "      <td>0.0</td>\n",
       "      <td>0.0</td>\n",
       "    </tr>\n",
       "  </tbody>\n",
       "</table>\n",
       "<p>5 rows × 17237 columns</p>\n",
       "</div>"
      ],
      "text/plain": [
       "   age_hours sev FCR RR L1                                           prod_cat  \\\n",
       "0   0.046389   1   1  0  1     z_PinPad / CC Machine,Display,Incorrect Screen   \n",
       "1   0.065278   2   1  0  1                z_NCR Back Office,Database,Database   \n",
       "2   0.821667   0   1  0  1  z_Third Party,Internet Service Provider,Intern...   \n",
       "3  12.002778   0   0  0  1  z_Aloha POS,Site/Store Down,Determining File S...   \n",
       "4  14.766944   2   0  0  1                   z_Printer,Won't Print,HW Failure   \n",
       "\n",
       "   prob_notes_len  act_notes_len  HSR/Aloha Wingstop Hardware L1  \\\n",
       "0            1048           3173                               0   \n",
       "1              16           2405                               0   \n",
       "2              36           2279                               0   \n",
       "3              20           4715                               0   \n",
       "4              22           3009                               0   \n",
       "\n",
       "   HSR/Aloha Wingstop L1  ...  TFIDF_zn reason  TFIDF_zn reason action  \\\n",
       "0                      1  ...              0.0                     0.0   \n",
       "1                      1  ...              0.0                     0.0   \n",
       "2                      1  ...              0.0                     0.0   \n",
       "3                      1  ...              0.0                     0.0   \n",
       "4                      1  ...              0.0                     0.0   \n",
       "\n",
       "   TFIDF_zn reason field  TFIDF_zn status  TFIDF_zn status marked  \\\n",
       "0                    0.0              0.0                     0.0   \n",
       "1                    0.0              0.0                     0.0   \n",
       "2                    0.0              0.0                     0.0   \n",
       "3                    0.0              0.0                     0.0   \n",
       "4                    0.0              0.0                     0.0   \n",
       "\n",
       "   TFIDF_zn working  TFIDF_zn working log  TFIDF_zn zn  TFIDF_zn zn working  \\\n",
       "0               0.0                   0.0          0.0                  0.0   \n",
       "1               0.0                   0.0          0.0                  0.0   \n",
       "2               0.0                   0.0          0.0                  0.0   \n",
       "3               0.0                   0.0          0.0                  0.0   \n",
       "4               0.0                   0.0          0.0                  0.0   \n",
       "\n",
       "   TFIDF_zn zn zn  \n",
       "0             0.0  \n",
       "1             0.0  \n",
       "2             0.0  \n",
       "3             0.0  \n",
       "4             0.0  \n",
       "\n",
       "[5 rows x 17237 columns]"
      ]
     },
     "execution_count": 60,
     "metadata": {},
     "output_type": "execute_result"
    }
   ],
   "source": [
    "df6 = pd.concat([df5, tv_df], axis=1)\n",
    "df6.drop('combined_notes', axis=1, inplace=True)\n",
    "df6.head()"
   ]
  },
  {
   "cell_type": "code",
   "execution_count": 62,
   "id": "ed1245b2",
   "metadata": {},
   "outputs": [
    {
     "name": "stdout",
     "output_type": "stream",
     "text": [
      "(8222, 17236)\n",
      "(8222,)\n"
     ]
    }
   ],
   "source": [
    "# SPLIT DEPENDENT AND INDEPENDENT VARIABLES INTO X, Y\n",
    "\n",
    "X = df6.drop(['prod_cat'], axis=1)\n",
    "y = df6['prod_cat']\n",
    "print(X.shape)\n",
    "print(y.shape)"
   ]
  },
  {
   "cell_type": "code",
   "execution_count": 63,
   "id": "3c401cb6",
   "metadata": {},
   "outputs": [
    {
     "name": "stdout",
     "output_type": "stream",
     "text": [
      "(6166, 17236) (2056, 17236)\n",
      "(6166,) (2056,)\n"
     ]
    }
   ],
   "source": [
    "#Split data into Train and Test sets\n",
    "\n",
    "X_train, X_test, y_train, y_test = train_test_split(X, y, test_size=0.25, random_state=123)\n",
    "print(X_train.shape, X_test.shape)\n",
    "print(y_train.shape, y_test.shape)"
   ]
  },
  {
   "cell_type": "code",
   "execution_count": null,
   "id": "3434075e",
   "metadata": {},
   "outputs": [],
   "source": [
    "# Perform scaling on irregular distribution data"
   ]
  },
  {
   "cell_type": "code",
   "execution_count": 64,
   "id": "73a23dbf",
   "metadata": {},
   "outputs": [
    {
     "data": {
      "text/plain": [
       "PowerTransformer()"
      ]
     },
     "execution_count": 64,
     "metadata": {},
     "output_type": "execute_result"
    }
   ],
   "source": [
    "pt = PowerTransformer()\n",
    "pt.fit(X_train)"
   ]
  },
  {
   "cell_type": "code",
   "execution_count": 132,
   "id": "cc895ab1",
   "metadata": {},
   "outputs": [],
   "source": [
    "X_train_scaled= pt.transform(X_train)\n",
    "X_test_scaled= pt.transform(X_test)"
   ]
  },
  {
   "cell_type": "markdown",
   "id": "c6ed0274",
   "metadata": {},
   "source": [
    "### Step 5 - Modeling"
   ]
  },
  {
   "cell_type": "markdown",
   "id": "57a40bfb",
   "metadata": {},
   "source": [
    "***\n",
    "RANDOM FOREST\n",
    "***"
   ]
  },
  {
   "cell_type": "code",
   "execution_count": 133,
   "id": "32e9b0f8",
   "metadata": {},
   "outputs": [],
   "source": [
    "rf_model= RandomForestClassifier(random_state=123)\n",
    "rf_model.fit(X_train_scaled, y_train)\n",
    "y_pred_rf= rf_model.predict(X_test_scaled)"
   ]
  },
  {
   "cell_type": "code",
   "execution_count": 134,
   "id": "b86317d7",
   "metadata": {},
   "outputs": [
    {
     "name": "stdout",
     "output_type": "stream",
     "text": [
      "                                                                          precision    recall  f1-score   support\n",
      "\n",
      "                           z_Aloha Manager / CFC,Employees,Configuration       0.57      0.60      0.59        20\n",
      "                              z_Aloha POS,CTLSVR/Control Service,Stopped       0.94      0.94      0.94        31\n",
      "               z_Aloha POS,End Of Day,Waiting for End Of Day to Complete       1.00      0.83      0.91        18\n",
      "                          z_Aloha POS,Front Of House,Can't assign drawer       0.57      0.57      0.57         7\n",
      "                               z_Aloha POS,Front Of House,Checkout issue       0.81      0.81      0.81        16\n",
      "                    z_Aloha POS,Front Of House,Clock In/Clock Out issues       0.73      0.40      0.52        20\n",
      "                           z_Aloha POS,Front Of House,Enroll fingerprint       0.58      0.64      0.61        11\n",
      "                             z_Aloha POS,Front Of House,Missing employee       0.90      0.91      0.90       119\n",
      "                                  z_Aloha POS,Front Of House,Order Entry       0.00      0.00      0.00        12\n",
      "                                          z_Aloha POS,Menu,Configuration       0.25      0.17      0.20         6\n",
      "                                         z_Aloha POS,Price,Configuration       1.00      1.00      1.00         6\n",
      "                     z_Aloha POS,Site/Store Down,Determining File Server       0.70      0.93      0.79        96\n",
      "                       z_Aloha POS,Terminal Down,Determining File Server       0.91      0.77      0.83        56\n",
      "                  z_Aloha Payment Solution,D\\ No response,Front Of House       1.00      0.50      0.67         8\n",
      "                  z_Aloha Payment Solution,Service Back Of House,Stopped       1.00      0.67      0.80         9\n",
      "                              z_Aloha Takeout,Front Of House,Order Entry       0.60      0.40      0.48        15\n",
      "               z_Aloha Takeout,Front Of House,Redundancy / No Connection       0.91      0.97      0.94        73\n",
      "                                     z_Cash Drawer,Won't Open,HW Failure       0.69      0.82      0.75        22\n",
      "                  z_Electronic Draft Capture,Back Of House,Configuration       0.93      0.87      0.90        31\n",
      "                         z_Electronic Draft Capture,Back Of House,Refund       0.75      0.50      0.60         6\n",
      "z_Electronic Draft Capture,Front Of House,Unable to Process Credit Cards       0.82      0.89      0.86        37\n",
      "          z_Electronic Draft Capture,Settlement,Unable to Settle Batches       0.89      0.89      0.89         9\n",
      "    z_Electronic Draft Capture,Spooldown/Offline Mode,Processing Offline       0.75      0.64      0.69        14\n",
      "                                     z_File Server,Power,Unable to Start       0.00      0.00      0.00         9\n",
      "                                   z_File Server,Windows,Unable To Login       0.81      0.81      0.81        21\n",
      "                           z_Fingerprint Scanner,Scanner,Not Recognizing       0.83      0.76      0.79        25\n",
      "                                        z_GoLive,New Install,New Install       0.86      1.00      0.92         6\n",
      "                                            z_Hosted - Pulse,Pulse,Pulse       0.88      0.70      0.78        10\n",
      "                                     z_NCR Back Office,Database,Database       0.71      0.74      0.72        72\n",
      "                                   z_NCR Back Office,Inventory,Inventory       0.69      0.70      0.70        44\n",
      "                                       z_NCR Back Office,Invoice,Invoice       0.81      0.75      0.78        52\n",
      "                                           z_NCR Back Office,Labor,Labor       0.70      0.70      0.70       109\n",
      "                                           z_NCR Back Office,Login,Login       0.72      0.95      0.82        64\n",
      "                         z_NCR Back Office,New Install,Outstanding Issue       1.00      0.45      0.62        11\n",
      "                                           z_NCR Back Office,Sales,Sales       0.79      0.93      0.86       119\n",
      "                                     z_NCR Back Office,Workflow,Workflow       0.50      0.50      0.50        18\n",
      "                         z_Other Peripherals,BOH Printer,Unable To Print       0.88      0.94      0.91        16\n",
      "                                z_Other Peripherals,Keyboard,Not Working       1.00      0.83      0.91         6\n",
      "                                 z_Other Peripherals,Monitor,Not Working       0.90      0.90      0.90        10\n",
      "                 z_Other Peripherals,Other Peripherals,Other Peripherals       1.00      0.50      0.67        10\n",
      "     z_Other,Non-Support related questions,Non-Support related questions       0.71      0.62      0.67        16\n",
      "                          z_PinPad / CC Machine,Display,Incorrect Screen       0.86      0.88      0.87        48\n",
      "                             z_PinPad / CC Machine,Won't Read,HW Failure       0.77      0.77      0.77        26\n",
      "                                        z_Printer,Faded Print,HW Failure       0.00      0.00      0.00        12\n",
      "                                         z_Printer,Failure,Configuration       0.33      0.17      0.22         6\n",
      "                                                   z_Printer,Other,Other       0.67      0.73      0.70        56\n",
      "                                              z_Printer,Power,HW Failure       0.00      0.00      0.00         8\n",
      "                                        z_Printer,Won't Print,HW Failure       0.69      0.91      0.78        97\n",
      "                            z_Remote Application Loader,Failure,Terminal       0.70      0.70      0.70        20\n",
      "          z_Remote Application Loader,Terminal Down,Communication Issues       0.55      0.50      0.52        12\n",
      "                                            z_Server,No Power,HW Failure       0.00      0.00      0.00        12\n",
      "                                             z_Server,Offline,HW Failure       0.62      0.36      0.45        42\n",
      "                                        z_Terminal,Communication,Network       0.33      0.17      0.22         6\n",
      "                                           z_Terminal,Offline,HW Failure       0.44      0.45      0.44        31\n",
      "                                             z_Terminal,Power,HW Failure       0.00      0.00      0.00         5\n",
      "                                     z_Terminal,Power,Randomly Shuts Off       0.00      0.00      0.00         8\n",
      "                                        z_Terminal,Power,Unable to Start       0.44      0.39      0.42        41\n",
      "                                      z_Terminal,Reboot Loop,Reboot Loop       0.50      0.12      0.20         8\n",
      "                                  z_Terminal,Slow / Lagging,Slow/Lagging       0.35      0.26      0.30        23\n",
      "                                   z_Terminal,Time / Date,Time Incorrect       1.00      0.20      0.33         5\n",
      "                                                z_Terminal,Windows,Other       0.60      0.69      0.64        39\n",
      "       z_Third Party,Internet Service Provider,Internet Service Provider       0.78      0.98      0.87        87\n",
      "           z_Third Party,Third Party Integration,Third Party Integration       0.82      0.72      0.77        32\n",
      "     z_Third Party,Third Party SW Not Working,Third Party SW Not Working       0.90      0.95      0.92       172\n",
      "\n",
      "                                                                accuracy                           0.76      2056\n",
      "                                                               macro avg       0.66      0.60      0.62      2056\n",
      "                                                            weighted avg       0.74      0.76      0.74      2056\n",
      "\n"
     ]
    },
    {
     "name": "stderr",
     "output_type": "stream",
     "text": [
      "C:\\Users\\DP185257\\Anaconda3\\lib\\site-packages\\sklearn\\metrics\\_classification.py:1248: UndefinedMetricWarning: Precision and F-score are ill-defined and being set to 0.0 in labels with no predicted samples. Use `zero_division` parameter to control this behavior.\n",
      "  _warn_prf(average, modifier, msg_start, len(result))\n",
      "C:\\Users\\DP185257\\Anaconda3\\lib\\site-packages\\sklearn\\metrics\\_classification.py:1248: UndefinedMetricWarning: Precision and F-score are ill-defined and being set to 0.0 in labels with no predicted samples. Use `zero_division` parameter to control this behavior.\n",
      "  _warn_prf(average, modifier, msg_start, len(result))\n",
      "C:\\Users\\DP185257\\Anaconda3\\lib\\site-packages\\sklearn\\metrics\\_classification.py:1248: UndefinedMetricWarning: Precision and F-score are ill-defined and being set to 0.0 in labels with no predicted samples. Use `zero_division` parameter to control this behavior.\n",
      "  _warn_prf(average, modifier, msg_start, len(result))\n"
     ]
    }
   ],
   "source": [
    "# PERFORMANCE ISN'T BAD, BUT FAR FROM GOOD\n",
    "\n",
    "print(classification_report(y_test,y_pred_rf))"
   ]
  },
  {
   "cell_type": "markdown",
   "id": "2f2f326d",
   "metadata": {},
   "source": [
    "***\n",
    "GRADIENT BOOSTING\n",
    "***"
   ]
  },
  {
   "cell_type": "code",
   "execution_count": 69,
   "id": "95e95d45",
   "metadata": {
    "collapsed": true
   },
   "outputs": [
    {
     "ename": "KeyboardInterrupt",
     "evalue": "",
     "output_type": "error",
     "traceback": [
      "\u001b[1;31m---------------------------------------------------------------------------\u001b[0m",
      "\u001b[1;31mKeyboardInterrupt\u001b[0m                         Traceback (most recent call last)",
      "\u001b[1;32m~\\AppData\\Local\\Temp/ipykernel_15876/2814073341.py\u001b[0m in \u001b[0;36m<module>\u001b[1;34m\u001b[0m\n\u001b[0;32m      2\u001b[0m \u001b[1;33m\u001b[0m\u001b[0m\n\u001b[0;32m      3\u001b[0m \u001b[0mgrad_model\u001b[0m\u001b[1;33m=\u001b[0m \u001b[0mGradientBoostingClassifier\u001b[0m\u001b[1;33m(\u001b[0m\u001b[0mrandom_state\u001b[0m\u001b[1;33m=\u001b[0m\u001b[1;36m123\u001b[0m\u001b[1;33m)\u001b[0m\u001b[1;33m\u001b[0m\u001b[1;33m\u001b[0m\u001b[0m\n\u001b[1;32m----> 4\u001b[1;33m \u001b[0mgrad_model\u001b[0m\u001b[1;33m.\u001b[0m\u001b[0mfit\u001b[0m\u001b[1;33m(\u001b[0m\u001b[0mX_train\u001b[0m\u001b[1;33m,\u001b[0m \u001b[0my_train\u001b[0m\u001b[1;33m)\u001b[0m\u001b[1;33m\u001b[0m\u001b[1;33m\u001b[0m\u001b[0m\n\u001b[0m\u001b[0;32m      5\u001b[0m \u001b[0my_pred_grad\u001b[0m\u001b[1;33m=\u001b[0m \u001b[0mgrad_model\u001b[0m\u001b[1;33m.\u001b[0m\u001b[0mpredict\u001b[0m\u001b[1;33m(\u001b[0m\u001b[0mX_test\u001b[0m\u001b[1;33m)\u001b[0m\u001b[1;33m\u001b[0m\u001b[1;33m\u001b[0m\u001b[0m\n",
      "\u001b[1;32m~\\Anaconda3\\lib\\site-packages\\sklearn\\ensemble\\_gb.py\u001b[0m in \u001b[0;36mfit\u001b[1;34m(self, X, y, sample_weight, monitor)\u001b[0m\n\u001b[0;32m    502\u001b[0m \u001b[1;33m\u001b[0m\u001b[0m\n\u001b[0;32m    503\u001b[0m         \u001b[1;31m# fit the boosting stages\u001b[0m\u001b[1;33m\u001b[0m\u001b[1;33m\u001b[0m\u001b[0m\n\u001b[1;32m--> 504\u001b[1;33m         n_stages = self._fit_stages(\n\u001b[0m\u001b[0;32m    505\u001b[0m             \u001b[0mX\u001b[0m\u001b[1;33m,\u001b[0m \u001b[0my\u001b[0m\u001b[1;33m,\u001b[0m \u001b[0mraw_predictions\u001b[0m\u001b[1;33m,\u001b[0m \u001b[0msample_weight\u001b[0m\u001b[1;33m,\u001b[0m \u001b[0mself\u001b[0m\u001b[1;33m.\u001b[0m\u001b[0m_rng\u001b[0m\u001b[1;33m,\u001b[0m \u001b[0mX_val\u001b[0m\u001b[1;33m,\u001b[0m \u001b[0my_val\u001b[0m\u001b[1;33m,\u001b[0m\u001b[1;33m\u001b[0m\u001b[1;33m\u001b[0m\u001b[0m\n\u001b[0;32m    506\u001b[0m             sample_weight_val, begin_at_stage, monitor)\n",
      "\u001b[1;32m~\\Anaconda3\\lib\\site-packages\\sklearn\\ensemble\\_gb.py\u001b[0m in \u001b[0;36m_fit_stages\u001b[1;34m(self, X, y, raw_predictions, sample_weight, random_state, X_val, y_val, sample_weight_val, begin_at_stage, monitor)\u001b[0m\n\u001b[0;32m    559\u001b[0m \u001b[1;33m\u001b[0m\u001b[0m\n\u001b[0;32m    560\u001b[0m             \u001b[1;31m# fit next stage of trees\u001b[0m\u001b[1;33m\u001b[0m\u001b[1;33m\u001b[0m\u001b[0m\n\u001b[1;32m--> 561\u001b[1;33m             raw_predictions = self._fit_stage(\n\u001b[0m\u001b[0;32m    562\u001b[0m                 \u001b[0mi\u001b[0m\u001b[1;33m,\u001b[0m \u001b[0mX\u001b[0m\u001b[1;33m,\u001b[0m \u001b[0my\u001b[0m\u001b[1;33m,\u001b[0m \u001b[0mraw_predictions\u001b[0m\u001b[1;33m,\u001b[0m \u001b[0msample_weight\u001b[0m\u001b[1;33m,\u001b[0m \u001b[0msample_mask\u001b[0m\u001b[1;33m,\u001b[0m\u001b[1;33m\u001b[0m\u001b[1;33m\u001b[0m\u001b[0m\n\u001b[0;32m    563\u001b[0m                 random_state, X_csc, X_csr)\n",
      "\u001b[1;32m~\\Anaconda3\\lib\\site-packages\\sklearn\\ensemble\\_gb.py\u001b[0m in \u001b[0;36m_fit_stage\u001b[1;34m(self, i, X, y, raw_predictions, sample_weight, sample_mask, random_state, X_csc, X_csr)\u001b[0m\n\u001b[0;32m    212\u001b[0m \u001b[1;33m\u001b[0m\u001b[0m\n\u001b[0;32m    213\u001b[0m             \u001b[0mX\u001b[0m \u001b[1;33m=\u001b[0m \u001b[0mX_csr\u001b[0m \u001b[1;32mif\u001b[0m \u001b[0mX_csr\u001b[0m \u001b[1;32mis\u001b[0m \u001b[1;32mnot\u001b[0m \u001b[1;32mNone\u001b[0m \u001b[1;32melse\u001b[0m \u001b[0mX\u001b[0m\u001b[1;33m\u001b[0m\u001b[1;33m\u001b[0m\u001b[0m\n\u001b[1;32m--> 214\u001b[1;33m             tree.fit(X, residual, sample_weight=sample_weight,\n\u001b[0m\u001b[0;32m    215\u001b[0m                      check_input=False)\n\u001b[0;32m    216\u001b[0m \u001b[1;33m\u001b[0m\u001b[0m\n",
      "\u001b[1;32m~\\Anaconda3\\lib\\site-packages\\sklearn\\tree\\_classes.py\u001b[0m in \u001b[0;36mfit\u001b[1;34m(self, X, y, sample_weight, check_input, X_idx_sorted)\u001b[0m\n\u001b[0;32m   1250\u001b[0m         \"\"\"\n\u001b[0;32m   1251\u001b[0m \u001b[1;33m\u001b[0m\u001b[0m\n\u001b[1;32m-> 1252\u001b[1;33m         super().fit(\n\u001b[0m\u001b[0;32m   1253\u001b[0m             \u001b[0mX\u001b[0m\u001b[1;33m,\u001b[0m \u001b[0my\u001b[0m\u001b[1;33m,\u001b[0m\u001b[1;33m\u001b[0m\u001b[1;33m\u001b[0m\u001b[0m\n\u001b[0;32m   1254\u001b[0m             \u001b[0msample_weight\u001b[0m\u001b[1;33m=\u001b[0m\u001b[0msample_weight\u001b[0m\u001b[1;33m,\u001b[0m\u001b[1;33m\u001b[0m\u001b[1;33m\u001b[0m\u001b[0m\n",
      "\u001b[1;32m~\\Anaconda3\\lib\\site-packages\\sklearn\\tree\\_classes.py\u001b[0m in \u001b[0;36mfit\u001b[1;34m(self, X, y, sample_weight, check_input, X_idx_sorted)\u001b[0m\n\u001b[0;32m    392\u001b[0m                                            min_impurity_split)\n\u001b[0;32m    393\u001b[0m \u001b[1;33m\u001b[0m\u001b[0m\n\u001b[1;32m--> 394\u001b[1;33m         \u001b[0mbuilder\u001b[0m\u001b[1;33m.\u001b[0m\u001b[0mbuild\u001b[0m\u001b[1;33m(\u001b[0m\u001b[0mself\u001b[0m\u001b[1;33m.\u001b[0m\u001b[0mtree_\u001b[0m\u001b[1;33m,\u001b[0m \u001b[0mX\u001b[0m\u001b[1;33m,\u001b[0m \u001b[0my\u001b[0m\u001b[1;33m,\u001b[0m \u001b[0msample_weight\u001b[0m\u001b[1;33m)\u001b[0m\u001b[1;33m\u001b[0m\u001b[1;33m\u001b[0m\u001b[0m\n\u001b[0m\u001b[0;32m    395\u001b[0m \u001b[1;33m\u001b[0m\u001b[0m\n\u001b[0;32m    396\u001b[0m         \u001b[1;32mif\u001b[0m \u001b[0mself\u001b[0m\u001b[1;33m.\u001b[0m\u001b[0mn_outputs_\u001b[0m \u001b[1;33m==\u001b[0m \u001b[1;36m1\u001b[0m \u001b[1;32mand\u001b[0m \u001b[0mis_classifier\u001b[0m\u001b[1;33m(\u001b[0m\u001b[0mself\u001b[0m\u001b[1;33m)\u001b[0m\u001b[1;33m:\u001b[0m\u001b[1;33m\u001b[0m\u001b[1;33m\u001b[0m\u001b[0m\n",
      "\u001b[1;31mKeyboardInterrupt\u001b[0m: "
     ]
    }
   ],
   "source": [
    "'''\n",
    "grad_model= GradientBoostingClassifier(random_state=123)\n",
    "grad_model.fit(X_train, y_train)\n",
    "y_pred_grad= grad_model.predict(X_test)\n",
    "\n",
    "print(classification_report(y_test,y_pred_grad))\n",
    "'''\n",
    "# 2HR+ TRAINING TIME, ABANDONED"
   ]
  },
  {
   "cell_type": "markdown",
   "id": "95e07e12",
   "metadata": {},
   "source": [
    "***\n",
    "LOGISTIC REGRESSION\n",
    "***"
   ]
  },
  {
   "cell_type": "code",
   "execution_count": 77,
   "id": "84bda70e",
   "metadata": {},
   "outputs": [
    {
     "name": "stderr",
     "output_type": "stream",
     "text": [
      "C:\\Users\\DP185257\\Anaconda3\\lib\\site-packages\\sklearn\\svm\\_base.py:985: ConvergenceWarning: Liblinear failed to converge, increase the number of iterations.\n",
      "  warnings.warn(\"Liblinear failed to converge, increase \"\n"
     ]
    }
   ],
   "source": [
    "log_model= LogisticRegression(random_state=123, solver='liblinear', C=0.1)\n",
    "log_model.fit(X_train, y_train)\n",
    "y_pred_log= log_model.predict(X_test)\n",
    "\n",
    "# DEFAULT HYPER PARAMS FAILED TO CONVERGE, EVEN AT MAX_ITER=300"
   ]
  },
  {
   "cell_type": "code",
   "execution_count": 76,
   "id": "aa7dd68b",
   "metadata": {
    "collapsed": true
   },
   "outputs": [
    {
     "name": "stdout",
     "output_type": "stream",
     "text": [
      "                                                                          precision    recall  f1-score   support\n",
      "\n",
      "                           z_Aloha Manager / CFC,Employees,Configuration       0.00      0.00      0.00        20\n",
      "                              z_Aloha POS,CTLSVR/Control Service,Stopped       0.96      0.77      0.86        31\n",
      "               z_Aloha POS,End Of Day,Waiting for End Of Day to Complete       0.93      0.78      0.85        18\n",
      "                          z_Aloha POS,Front Of House,Can't assign drawer       0.00      0.00      0.00         7\n",
      "                               z_Aloha POS,Front Of House,Checkout issue       0.00      0.00      0.00        16\n",
      "                    z_Aloha POS,Front Of House,Clock In/Clock Out issues       0.00      0.00      0.00        20\n",
      "                           z_Aloha POS,Front Of House,Enroll fingerprint       0.00      0.00      0.00        11\n",
      "                             z_Aloha POS,Front Of House,Missing employee       0.40      0.85      0.54       119\n",
      "                                  z_Aloha POS,Front Of House,Order Entry       0.00      0.00      0.00        12\n",
      "                                          z_Aloha POS,Menu,Configuration       0.00      0.00      0.00         6\n",
      "                                         z_Aloha POS,Price,Configuration       0.00      0.00      0.00         6\n",
      "                     z_Aloha POS,Site/Store Down,Determining File Server       0.46      0.84      0.59        96\n",
      "                       z_Aloha POS,Terminal Down,Determining File Server       0.75      0.54      0.63        56\n",
      "                  z_Aloha Payment Solution,D\\ No response,Front Of House       0.00      0.00      0.00         8\n",
      "                  z_Aloha Payment Solution,Service Back Of House,Stopped       1.00      0.11      0.20         9\n",
      "                              z_Aloha Takeout,Front Of House,Order Entry       0.00      0.00      0.00        15\n",
      "               z_Aloha Takeout,Front Of House,Redundancy / No Connection       0.88      0.73      0.80        73\n",
      "                                     z_Cash Drawer,Won't Open,HW Failure       1.00      0.41      0.58        22\n",
      "                  z_Electronic Draft Capture,Back Of House,Configuration       0.91      0.68      0.78        31\n",
      "                         z_Electronic Draft Capture,Back Of House,Refund       0.00      0.00      0.00         6\n",
      "z_Electronic Draft Capture,Front Of House,Unable to Process Credit Cards       1.00      0.54      0.70        37\n",
      "          z_Electronic Draft Capture,Settlement,Unable to Settle Batches       0.00      0.00      0.00         9\n",
      "    z_Electronic Draft Capture,Spooldown/Offline Mode,Processing Offline       0.37      0.79      0.50        14\n",
      "                                     z_File Server,Power,Unable to Start       0.00      0.00      0.00         9\n",
      "                                   z_File Server,Windows,Unable To Login       0.00      0.00      0.00        21\n",
      "                           z_Fingerprint Scanner,Scanner,Not Recognizing       0.34      0.44      0.39        25\n",
      "                                        z_GoLive,New Install,New Install       1.00      0.50      0.67         6\n",
      "                                            z_Hosted - Pulse,Pulse,Pulse       1.00      0.10      0.18        10\n",
      "                                     z_NCR Back Office,Database,Database       0.37      0.31      0.33        72\n",
      "                                   z_NCR Back Office,Inventory,Inventory       0.86      0.73      0.79        44\n",
      "                                       z_NCR Back Office,Invoice,Invoice       1.00      0.65      0.79        52\n",
      "                                           z_NCR Back Office,Labor,Labor       0.33      0.75      0.46       109\n",
      "                                           z_NCR Back Office,Login,Login       0.34      0.91      0.49        64\n",
      "                         z_NCR Back Office,New Install,Outstanding Issue       0.00      0.00      0.00        11\n",
      "                                           z_NCR Back Office,Sales,Sales       0.67      0.85      0.75       119\n",
      "                                     z_NCR Back Office,Workflow,Workflow       0.00      0.00      0.00        18\n",
      "                         z_Other Peripherals,BOH Printer,Unable To Print       0.64      0.56      0.60        16\n",
      "                                z_Other Peripherals,Keyboard,Not Working       0.00      0.00      0.00         6\n",
      "                                 z_Other Peripherals,Monitor,Not Working       0.00      0.00      0.00        10\n",
      "                 z_Other Peripherals,Other Peripherals,Other Peripherals       0.00      0.00      0.00        10\n",
      "     z_Other,Non-Support related questions,Non-Support related questions       0.00      0.00      0.00        16\n",
      "                          z_PinPad / CC Machine,Display,Incorrect Screen       0.60      0.73      0.66        48\n",
      "                             z_PinPad / CC Machine,Won't Read,HW Failure       1.00      0.04      0.07        26\n",
      "                                        z_Printer,Faded Print,HW Failure       0.00      0.00      0.00        12\n",
      "                                         z_Printer,Failure,Configuration       0.00      0.00      0.00         6\n",
      "                                                   z_Printer,Other,Other       0.30      0.16      0.21        56\n",
      "                                              z_Printer,Power,HW Failure       0.00      0.00      0.00         8\n",
      "                                        z_Printer,Won't Print,HW Failure       0.49      0.91      0.63        97\n",
      "                            z_Remote Application Loader,Failure,Terminal       0.00      0.00      0.00        20\n",
      "          z_Remote Application Loader,Terminal Down,Communication Issues       0.00      0.00      0.00        12\n",
      "                                            z_Server,No Power,HW Failure       0.00      0.00      0.00        12\n",
      "                                             z_Server,Offline,HW Failure       0.50      0.05      0.09        42\n",
      "                                        z_Terminal,Communication,Network       0.00      0.00      0.00         6\n",
      "                                           z_Terminal,Offline,HW Failure       0.45      0.16      0.24        31\n",
      "                                             z_Terminal,Power,HW Failure       0.00      0.00      0.00         5\n",
      "                                     z_Terminal,Power,Randomly Shuts Off       0.00      0.00      0.00         8\n",
      "                                        z_Terminal,Power,Unable to Start       0.50      0.02      0.05        41\n",
      "                                      z_Terminal,Reboot Loop,Reboot Loop       0.00      0.00      0.00         8\n",
      "                                  z_Terminal,Slow / Lagging,Slow/Lagging       0.00      0.00      0.00        23\n",
      "                                   z_Terminal,Time / Date,Time Incorrect       0.00      0.00      0.00         5\n",
      "                                                z_Terminal,Windows,Other       0.49      0.46      0.47        39\n",
      "       z_Third Party,Internet Service Provider,Internet Service Provider       0.66      0.87      0.75        87\n",
      "           z_Third Party,Third Party Integration,Third Party Integration       0.00      0.00      0.00        32\n",
      "     z_Third Party,Third Party SW Not Working,Third Party SW Not Working       0.73      0.92      0.82       172\n",
      "\n",
      "                                                                accuracy                           0.54      2056\n",
      "                                                               macro avg       0.33      0.27      0.26      2056\n",
      "                                                            weighted avg       0.49      0.54      0.47      2056\n",
      "\n"
     ]
    },
    {
     "name": "stderr",
     "output_type": "stream",
     "text": [
      "C:\\Users\\DP185257\\Anaconda3\\lib\\site-packages\\sklearn\\metrics\\_classification.py:1248: UndefinedMetricWarning: Precision and F-score are ill-defined and being set to 0.0 in labels with no predicted samples. Use `zero_division` parameter to control this behavior.\n",
      "  _warn_prf(average, modifier, msg_start, len(result))\n",
      "C:\\Users\\DP185257\\Anaconda3\\lib\\site-packages\\sklearn\\metrics\\_classification.py:1248: UndefinedMetricWarning: Precision and F-score are ill-defined and being set to 0.0 in labels with no predicted samples. Use `zero_division` parameter to control this behavior.\n",
      "  _warn_prf(average, modifier, msg_start, len(result))\n",
      "C:\\Users\\DP185257\\Anaconda3\\lib\\site-packages\\sklearn\\metrics\\_classification.py:1248: UndefinedMetricWarning: Precision and F-score are ill-defined and being set to 0.0 in labels with no predicted samples. Use `zero_division` parameter to control this behavior.\n",
      "  _warn_prf(average, modifier, msg_start, len(result))\n"
     ]
    }
   ],
   "source": [
    "# WITH LIBLINEAR AND C=0.1, PERFORMANCE IS VERY POOR\n",
    "\n",
    "print(classification_report(y_test,y_pred_log))"
   ]
  },
  {
   "cell_type": "markdown",
   "id": "d6f162b2",
   "metadata": {},
   "source": [
    "***\n",
    "SVM.LINEARSVC\n",
    "***"
   ]
  },
  {
   "cell_type": "code",
   "execution_count": 79,
   "id": "3e237834",
   "metadata": {},
   "outputs": [
    {
     "name": "stderr",
     "output_type": "stream",
     "text": [
      "C:\\Users\\DP185257\\Anaconda3\\lib\\site-packages\\sklearn\\svm\\_base.py:985: ConvergenceWarning: Liblinear failed to converge, increase the number of iterations.\n",
      "  warnings.warn(\"Liblinear failed to converge, increase \"\n"
     ]
    }
   ],
   "source": [
    "svm_model= svm.LinearSVC(random_state=123)\n",
    "svm_model.fit(X_train, y_train)\n",
    "y_pred_svm = svm_model.predict(X_test)\n",
    "\n",
    "# FAILED TO CONVERGE ALSO"
   ]
  },
  {
   "cell_type": "markdown",
   "id": "820054e0",
   "metadata": {},
   "source": [
    "Splitting Vocabulary and non-Vocabulary features to test models again"
   ]
  },
  {
   "cell_type": "markdown",
   "id": "536e3a7c",
   "metadata": {},
   "source": [
    "### VOCABULARY FEATURES ONLY"
   ]
  },
  {
   "cell_type": "code",
   "execution_count": 106,
   "id": "a0cdcc03",
   "metadata": {},
   "outputs": [
    {
     "name": "stdout",
     "output_type": "stream",
     "text": [
      "(6166, 17223) (2056, 17223)\n",
      "(6166,) (2056,)\n"
     ]
    }
   ],
   "source": [
    "X_tfidf= X.drop(X.columns[0:13], axis=1)\n",
    "\n",
    "X_train_tfidf, X_test_tfidf, y_train_tfidf, y_test_tfidf = \\\n",
    "                                        train_test_split(X_tfidf, y, test_size=0.25, random_state=123)\n",
    "print(X_train_tfidf.shape, X_test_tfidf.shape)\n",
    "print(y_train_tfidf.shape, t_test_tfidf.shape)"
   ]
  },
  {
   "cell_type": "markdown",
   "id": "0191cf1e",
   "metadata": {},
   "source": [
    "***\n",
    "RANDOM FOREST- TFIDF\n",
    "***"
   ]
  },
  {
   "cell_type": "code",
   "execution_count": 108,
   "id": "1a5735ad",
   "metadata": {},
   "outputs": [],
   "source": [
    "rf_model_tfidf= RandomForestClassifier(random_state=123)\n",
    "rf_model_tfidf.fit(X_train_tfidf, y_train_tfidf)\n",
    "y_pred_rf_tfidf= rf_model_tfidf.predict(X_test_tfidf)"
   ]
  },
  {
   "cell_type": "code",
   "execution_count": 109,
   "id": "488f08e0",
   "metadata": {
    "collapsed": true
   },
   "outputs": [
    {
     "name": "stdout",
     "output_type": "stream",
     "text": [
      "                                                                          precision    recall  f1-score   support\n",
      "\n",
      "                           z_Aloha Manager / CFC,Employees,Configuration       0.60      0.60      0.60        20\n",
      "                              z_Aloha POS,CTLSVR/Control Service,Stopped       0.91      0.94      0.92        31\n",
      "               z_Aloha POS,End Of Day,Waiting for End Of Day to Complete       1.00      0.83      0.91        18\n",
      "                          z_Aloha POS,Front Of House,Can't assign drawer       0.57      0.57      0.57         7\n",
      "                               z_Aloha POS,Front Of House,Checkout issue       0.76      0.81      0.79        16\n",
      "                    z_Aloha POS,Front Of House,Clock In/Clock Out issues       0.83      0.50      0.62        20\n",
      "                           z_Aloha POS,Front Of House,Enroll fingerprint       0.75      0.55      0.63        11\n",
      "                             z_Aloha POS,Front Of House,Missing employee       0.89      0.91      0.90       119\n",
      "                                  z_Aloha POS,Front Of House,Order Entry       0.00      0.00      0.00        12\n",
      "                                          z_Aloha POS,Menu,Configuration       0.50      0.17      0.25         6\n",
      "                                         z_Aloha POS,Price,Configuration       0.83      0.83      0.83         6\n",
      "                     z_Aloha POS,Site/Store Down,Determining File Server       0.67      0.90      0.76        96\n",
      "                       z_Aloha POS,Terminal Down,Determining File Server       0.91      0.73      0.81        56\n",
      "                  z_Aloha Payment Solution,D\\ No response,Front Of House       1.00      0.62      0.77         8\n",
      "                  z_Aloha Payment Solution,Service Back Of House,Stopped       1.00      0.78      0.88         9\n",
      "                              z_Aloha Takeout,Front Of House,Order Entry       0.56      0.33      0.42        15\n",
      "               z_Aloha Takeout,Front Of House,Redundancy / No Connection       0.93      0.96      0.95        73\n",
      "                                     z_Cash Drawer,Won't Open,HW Failure       0.67      0.82      0.73        22\n",
      "                  z_Electronic Draft Capture,Back Of House,Configuration       0.96      0.87      0.92        31\n",
      "                         z_Electronic Draft Capture,Back Of House,Refund       1.00      0.50      0.67         6\n",
      "z_Electronic Draft Capture,Front Of House,Unable to Process Credit Cards       0.89      0.86      0.88        37\n",
      "          z_Electronic Draft Capture,Settlement,Unable to Settle Batches       1.00      0.89      0.94         9\n",
      "    z_Electronic Draft Capture,Spooldown/Offline Mode,Processing Offline       0.79      0.79      0.79        14\n",
      "                                     z_File Server,Power,Unable to Start       1.00      0.33      0.50         9\n",
      "                                   z_File Server,Windows,Unable To Login       0.86      0.86      0.86        21\n",
      "                           z_Fingerprint Scanner,Scanner,Not Recognizing       0.76      0.76      0.76        25\n",
      "                                        z_GoLive,New Install,New Install       0.86      1.00      0.92         6\n",
      "                                            z_Hosted - Pulse,Pulse,Pulse       1.00      0.70      0.82        10\n",
      "                                     z_NCR Back Office,Database,Database       0.73      0.74      0.73        72\n",
      "                                   z_NCR Back Office,Inventory,Inventory       0.72      0.77      0.75        44\n",
      "                                       z_NCR Back Office,Invoice,Invoice       0.82      0.79      0.80        52\n",
      "                                           z_NCR Back Office,Labor,Labor       0.73      0.71      0.72       109\n",
      "                                           z_NCR Back Office,Login,Login       0.74      0.97      0.84        64\n",
      "                         z_NCR Back Office,New Install,Outstanding Issue       1.00      0.55      0.71        11\n",
      "                                           z_NCR Back Office,Sales,Sales       0.82      0.93      0.87       119\n",
      "                                     z_NCR Back Office,Workflow,Workflow       0.53      0.44      0.48        18\n",
      "                         z_Other Peripherals,BOH Printer,Unable To Print       0.80      1.00      0.89        16\n",
      "                                z_Other Peripherals,Keyboard,Not Working       1.00      0.83      0.91         6\n",
      "                                 z_Other Peripherals,Monitor,Not Working       0.88      0.70      0.78        10\n",
      "                 z_Other Peripherals,Other Peripherals,Other Peripherals       1.00      0.40      0.57        10\n",
      "     z_Other,Non-Support related questions,Non-Support related questions       0.69      0.69      0.69        16\n",
      "                          z_PinPad / CC Machine,Display,Incorrect Screen       0.81      0.92      0.86        48\n",
      "                             z_PinPad / CC Machine,Won't Read,HW Failure       0.74      0.65      0.69        26\n",
      "                                        z_Printer,Faded Print,HW Failure       0.00      0.00      0.00        12\n",
      "                                         z_Printer,Failure,Configuration       0.50      0.17      0.25         6\n",
      "                                                   z_Printer,Other,Other       0.68      0.75      0.71        56\n",
      "                                              z_Printer,Power,HW Failure       0.00      0.00      0.00         8\n",
      "                                        z_Printer,Won't Print,HW Failure       0.68      0.92      0.78        97\n",
      "                            z_Remote Application Loader,Failure,Terminal       0.72      0.65      0.68        20\n",
      "          z_Remote Application Loader,Terminal Down,Communication Issues       0.50      0.42      0.45        12\n",
      "                                            z_Server,No Power,HW Failure       0.00      0.00      0.00        12\n",
      "                                             z_Server,Offline,HW Failure       0.65      0.36      0.46        42\n",
      "                                        z_Terminal,Communication,Network       0.33      0.17      0.22         6\n",
      "                                           z_Terminal,Offline,HW Failure       0.45      0.55      0.49        31\n",
      "                                             z_Terminal,Power,HW Failure       0.00      0.00      0.00         5\n",
      "                                     z_Terminal,Power,Randomly Shuts Off       0.00      0.00      0.00         8\n",
      "                                        z_Terminal,Power,Unable to Start       0.44      0.37      0.40        41\n",
      "                                      z_Terminal,Reboot Loop,Reboot Loop       0.33      0.12      0.18         8\n",
      "                                  z_Terminal,Slow / Lagging,Slow/Lagging       0.35      0.26      0.30        23\n",
      "                                   z_Terminal,Time / Date,Time Incorrect       0.67      0.40      0.50         5\n",
      "                                                z_Terminal,Windows,Other       0.57      0.69      0.63        39\n",
      "       z_Third Party,Internet Service Provider,Internet Service Provider       0.75      0.98      0.85        87\n",
      "           z_Third Party,Third Party Integration,Third Party Integration       0.82      0.72      0.77        32\n",
      "     z_Third Party,Third Party SW Not Working,Third Party SW Not Working       0.91      0.95      0.93       172\n",
      "\n",
      "                                                                accuracy                           0.76      2056\n",
      "                                                               macro avg       0.69      0.61      0.63      2056\n",
      "                                                            weighted avg       0.75      0.76      0.75      2056\n",
      "\n"
     ]
    }
   ],
   "source": [
    "# THIS TFIDF-ONLY VERSION OF RANDOM FOREST SLIGHTLY OUTPERFORMS THE FIRST VERSION WITH ALL FEATURES\n",
    "\n",
    "print(classification_report(y_test_tfidf,y_pred_rf_tfidf))"
   ]
  },
  {
   "cell_type": "markdown",
   "id": "d813d90e",
   "metadata": {},
   "source": [
    "***\n",
    "GRADIENT BOOSTER- TFIDF\n",
    "***"
   ]
  },
  {
   "cell_type": "code",
   "execution_count": 110,
   "id": "15fc9907",
   "metadata": {
    "collapsed": true
   },
   "outputs": [
    {
     "ename": "KeyboardInterrupt",
     "evalue": "",
     "output_type": "error",
     "traceback": [
      "\u001b[1;31m---------------------------------------------------------------------------\u001b[0m",
      "\u001b[1;31mKeyboardInterrupt\u001b[0m                         Traceback (most recent call last)",
      "\u001b[1;32m~\\AppData\\Local\\Temp/ipykernel_15876/2489537001.py\u001b[0m in \u001b[0;36m<module>\u001b[1;34m\u001b[0m\n\u001b[0;32m      1\u001b[0m \u001b[0mgrad_model_tfidf\u001b[0m\u001b[1;33m=\u001b[0m \u001b[0mGradientBoostingClassifier\u001b[0m\u001b[1;33m(\u001b[0m\u001b[0mrandom_state\u001b[0m\u001b[1;33m=\u001b[0m\u001b[1;36m123\u001b[0m\u001b[1;33m)\u001b[0m\u001b[1;33m\u001b[0m\u001b[1;33m\u001b[0m\u001b[0m\n\u001b[1;32m----> 2\u001b[1;33m \u001b[0mgrad_model_tfidf\u001b[0m\u001b[1;33m.\u001b[0m\u001b[0mfit\u001b[0m\u001b[1;33m(\u001b[0m\u001b[0mX_train_tfidf\u001b[0m\u001b[1;33m,\u001b[0m \u001b[0my_train_tfidf\u001b[0m\u001b[1;33m)\u001b[0m\u001b[1;33m\u001b[0m\u001b[1;33m\u001b[0m\u001b[0m\n\u001b[0m\u001b[0;32m      3\u001b[0m \u001b[0my_pred_grad_tfidf\u001b[0m\u001b[1;33m=\u001b[0m \u001b[0mgrad_model_tfidf\u001b[0m\u001b[1;33m.\u001b[0m\u001b[0mpredict\u001b[0m\u001b[1;33m(\u001b[0m\u001b[0mX_test_tfidf\u001b[0m\u001b[1;33m)\u001b[0m\u001b[1;33m\u001b[0m\u001b[1;33m\u001b[0m\u001b[0m\n",
      "\u001b[1;32m~\\Anaconda3\\lib\\site-packages\\sklearn\\ensemble\\_gb.py\u001b[0m in \u001b[0;36mfit\u001b[1;34m(self, X, y, sample_weight, monitor)\u001b[0m\n\u001b[0;32m    502\u001b[0m \u001b[1;33m\u001b[0m\u001b[0m\n\u001b[0;32m    503\u001b[0m         \u001b[1;31m# fit the boosting stages\u001b[0m\u001b[1;33m\u001b[0m\u001b[1;33m\u001b[0m\u001b[0m\n\u001b[1;32m--> 504\u001b[1;33m         n_stages = self._fit_stages(\n\u001b[0m\u001b[0;32m    505\u001b[0m             \u001b[0mX\u001b[0m\u001b[1;33m,\u001b[0m \u001b[0my\u001b[0m\u001b[1;33m,\u001b[0m \u001b[0mraw_predictions\u001b[0m\u001b[1;33m,\u001b[0m \u001b[0msample_weight\u001b[0m\u001b[1;33m,\u001b[0m \u001b[0mself\u001b[0m\u001b[1;33m.\u001b[0m\u001b[0m_rng\u001b[0m\u001b[1;33m,\u001b[0m \u001b[0mX_val\u001b[0m\u001b[1;33m,\u001b[0m \u001b[0my_val\u001b[0m\u001b[1;33m,\u001b[0m\u001b[1;33m\u001b[0m\u001b[1;33m\u001b[0m\u001b[0m\n\u001b[0;32m    506\u001b[0m             sample_weight_val, begin_at_stage, monitor)\n",
      "\u001b[1;32m~\\Anaconda3\\lib\\site-packages\\sklearn\\ensemble\\_gb.py\u001b[0m in \u001b[0;36m_fit_stages\u001b[1;34m(self, X, y, raw_predictions, sample_weight, random_state, X_val, y_val, sample_weight_val, begin_at_stage, monitor)\u001b[0m\n\u001b[0;32m    559\u001b[0m \u001b[1;33m\u001b[0m\u001b[0m\n\u001b[0;32m    560\u001b[0m             \u001b[1;31m# fit next stage of trees\u001b[0m\u001b[1;33m\u001b[0m\u001b[1;33m\u001b[0m\u001b[0m\n\u001b[1;32m--> 561\u001b[1;33m             raw_predictions = self._fit_stage(\n\u001b[0m\u001b[0;32m    562\u001b[0m                 \u001b[0mi\u001b[0m\u001b[1;33m,\u001b[0m \u001b[0mX\u001b[0m\u001b[1;33m,\u001b[0m \u001b[0my\u001b[0m\u001b[1;33m,\u001b[0m \u001b[0mraw_predictions\u001b[0m\u001b[1;33m,\u001b[0m \u001b[0msample_weight\u001b[0m\u001b[1;33m,\u001b[0m \u001b[0msample_mask\u001b[0m\u001b[1;33m,\u001b[0m\u001b[1;33m\u001b[0m\u001b[1;33m\u001b[0m\u001b[0m\n\u001b[0;32m    563\u001b[0m                 random_state, X_csc, X_csr)\n",
      "\u001b[1;32m~\\Anaconda3\\lib\\site-packages\\sklearn\\ensemble\\_gb.py\u001b[0m in \u001b[0;36m_fit_stage\u001b[1;34m(self, i, X, y, raw_predictions, sample_weight, sample_mask, random_state, X_csc, X_csr)\u001b[0m\n\u001b[0;32m    212\u001b[0m \u001b[1;33m\u001b[0m\u001b[0m\n\u001b[0;32m    213\u001b[0m             \u001b[0mX\u001b[0m \u001b[1;33m=\u001b[0m \u001b[0mX_csr\u001b[0m \u001b[1;32mif\u001b[0m \u001b[0mX_csr\u001b[0m \u001b[1;32mis\u001b[0m \u001b[1;32mnot\u001b[0m \u001b[1;32mNone\u001b[0m \u001b[1;32melse\u001b[0m \u001b[0mX\u001b[0m\u001b[1;33m\u001b[0m\u001b[1;33m\u001b[0m\u001b[0m\n\u001b[1;32m--> 214\u001b[1;33m             tree.fit(X, residual, sample_weight=sample_weight,\n\u001b[0m\u001b[0;32m    215\u001b[0m                      check_input=False)\n\u001b[0;32m    216\u001b[0m \u001b[1;33m\u001b[0m\u001b[0m\n",
      "\u001b[1;32m~\\Anaconda3\\lib\\site-packages\\sklearn\\tree\\_classes.py\u001b[0m in \u001b[0;36mfit\u001b[1;34m(self, X, y, sample_weight, check_input, X_idx_sorted)\u001b[0m\n\u001b[0;32m   1250\u001b[0m         \"\"\"\n\u001b[0;32m   1251\u001b[0m \u001b[1;33m\u001b[0m\u001b[0m\n\u001b[1;32m-> 1252\u001b[1;33m         super().fit(\n\u001b[0m\u001b[0;32m   1253\u001b[0m             \u001b[0mX\u001b[0m\u001b[1;33m,\u001b[0m \u001b[0my\u001b[0m\u001b[1;33m,\u001b[0m\u001b[1;33m\u001b[0m\u001b[1;33m\u001b[0m\u001b[0m\n\u001b[0;32m   1254\u001b[0m             \u001b[0msample_weight\u001b[0m\u001b[1;33m=\u001b[0m\u001b[0msample_weight\u001b[0m\u001b[1;33m,\u001b[0m\u001b[1;33m\u001b[0m\u001b[1;33m\u001b[0m\u001b[0m\n",
      "\u001b[1;32m~\\Anaconda3\\lib\\site-packages\\sklearn\\tree\\_classes.py\u001b[0m in \u001b[0;36mfit\u001b[1;34m(self, X, y, sample_weight, check_input, X_idx_sorted)\u001b[0m\n\u001b[0;32m    392\u001b[0m                                            min_impurity_split)\n\u001b[0;32m    393\u001b[0m \u001b[1;33m\u001b[0m\u001b[0m\n\u001b[1;32m--> 394\u001b[1;33m         \u001b[0mbuilder\u001b[0m\u001b[1;33m.\u001b[0m\u001b[0mbuild\u001b[0m\u001b[1;33m(\u001b[0m\u001b[0mself\u001b[0m\u001b[1;33m.\u001b[0m\u001b[0mtree_\u001b[0m\u001b[1;33m,\u001b[0m \u001b[0mX\u001b[0m\u001b[1;33m,\u001b[0m \u001b[0my\u001b[0m\u001b[1;33m,\u001b[0m \u001b[0msample_weight\u001b[0m\u001b[1;33m)\u001b[0m\u001b[1;33m\u001b[0m\u001b[1;33m\u001b[0m\u001b[0m\n\u001b[0m\u001b[0;32m    395\u001b[0m \u001b[1;33m\u001b[0m\u001b[0m\n\u001b[0;32m    396\u001b[0m         \u001b[1;32mif\u001b[0m \u001b[0mself\u001b[0m\u001b[1;33m.\u001b[0m\u001b[0mn_outputs_\u001b[0m \u001b[1;33m==\u001b[0m \u001b[1;36m1\u001b[0m \u001b[1;32mand\u001b[0m \u001b[0mis_classifier\u001b[0m\u001b[1;33m(\u001b[0m\u001b[0mself\u001b[0m\u001b[1;33m)\u001b[0m\u001b[1;33m:\u001b[0m\u001b[1;33m\u001b[0m\u001b[1;33m\u001b[0m\u001b[0m\n",
      "\u001b[1;31mKeyboardInterrupt\u001b[0m: "
     ]
    }
   ],
   "source": [
    "grad_model_tfidf= GradientBoostingClassifier(random_state=123)\n",
    "grad_model_tfidf.fit(X_train_tfidf, y_train_tfidf)\n",
    "y_pred_grad_tfidf= grad_model_tfidf.predict(X_test_tfidf)\n",
    "\n",
    "# FAILED TO TRAIN IN 10+ MIN, ABANDONED, MAY RETURN TO THIS LATER"
   ]
  },
  {
   "cell_type": "markdown",
   "id": "27b68543",
   "metadata": {},
   "source": [
    "***\n",
    "LOGISTIC REGRESSION- TFIDF\n",
    "***"
   ]
  },
  {
   "cell_type": "code",
   "execution_count": 112,
   "id": "6f1473a5",
   "metadata": {},
   "outputs": [],
   "source": [
    "# CREATE AND FIT LOGISTIC REGRESSOR\n",
    "\n",
    "LogReg_tfidf= LogisticRegression(random_state=123)\n",
    "LogReg_tfidf.fit(X_train_tfidf, y_train_tfidf)\n",
    "y_pred_log_tfidf= LogReg_tfidf.predict(X_test_tfidf)"
   ]
  },
  {
   "cell_type": "code",
   "execution_count": 113,
   "id": "e93319fd",
   "metadata": {
    "collapsed": true
   },
   "outputs": [
    {
     "name": "stdout",
     "output_type": "stream",
     "text": [
      "                                                                          precision    recall  f1-score   support\n",
      "\n",
      "                           z_Aloha Manager / CFC,Employees,Configuration       0.72      0.65      0.68        20\n",
      "                              z_Aloha POS,CTLSVR/Control Service,Stopped       0.90      0.87      0.89        31\n",
      "               z_Aloha POS,End Of Day,Waiting for End Of Day to Complete       1.00      0.83      0.91        18\n",
      "                          z_Aloha POS,Front Of House,Can't assign drawer       0.75      0.43      0.55         7\n",
      "                               z_Aloha POS,Front Of House,Checkout issue       0.68      0.81      0.74        16\n",
      "                    z_Aloha POS,Front Of House,Clock In/Clock Out issues       0.80      0.60      0.69        20\n",
      "                           z_Aloha POS,Front Of House,Enroll fingerprint       0.89      0.73      0.80        11\n",
      "                             z_Aloha POS,Front Of House,Missing employee       0.87      0.90      0.88       119\n",
      "                                  z_Aloha POS,Front Of House,Order Entry       1.00      0.08      0.15        12\n",
      "                                          z_Aloha POS,Menu,Configuration       1.00      0.33      0.50         6\n",
      "                                         z_Aloha POS,Price,Configuration       0.83      0.83      0.83         6\n",
      "                     z_Aloha POS,Site/Store Down,Determining File Server       0.62      0.93      0.74        96\n",
      "                       z_Aloha POS,Terminal Down,Determining File Server       0.77      0.71      0.74        56\n",
      "                  z_Aloha Payment Solution,D\\ No response,Front Of House       1.00      0.50      0.67         8\n",
      "                  z_Aloha Payment Solution,Service Back Of House,Stopped       1.00      0.89      0.94         9\n",
      "                              z_Aloha Takeout,Front Of House,Order Entry       1.00      0.27      0.42        15\n",
      "               z_Aloha Takeout,Front Of House,Redundancy / No Connection       0.92      0.99      0.95        73\n",
      "                                     z_Cash Drawer,Won't Open,HW Failure       0.83      0.91      0.87        22\n",
      "                  z_Electronic Draft Capture,Back Of House,Configuration       1.00      0.84      0.91        31\n",
      "                         z_Electronic Draft Capture,Back Of House,Refund       1.00      0.67      0.80         6\n",
      "z_Electronic Draft Capture,Front Of House,Unable to Process Credit Cards       0.79      0.89      0.84        37\n",
      "          z_Electronic Draft Capture,Settlement,Unable to Settle Batches       1.00      0.89      0.94         9\n",
      "    z_Electronic Draft Capture,Spooldown/Offline Mode,Processing Offline       0.80      0.86      0.83        14\n",
      "                                     z_File Server,Power,Unable to Start       0.00      0.00      0.00         9\n",
      "                                   z_File Server,Windows,Unable To Login       0.87      0.62      0.72        21\n",
      "                           z_Fingerprint Scanner,Scanner,Not Recognizing       0.79      0.76      0.78        25\n",
      "                                        z_GoLive,New Install,New Install       1.00      1.00      1.00         6\n",
      "                                            z_Hosted - Pulse,Pulse,Pulse       1.00      0.90      0.95        10\n",
      "                                     z_NCR Back Office,Database,Database       0.73      0.68      0.71        72\n",
      "                                   z_NCR Back Office,Inventory,Inventory       0.77      0.82      0.79        44\n",
      "                                       z_NCR Back Office,Invoice,Invoice       0.93      0.77      0.84        52\n",
      "                                           z_NCR Back Office,Labor,Labor       0.72      0.77      0.75       109\n",
      "                                           z_NCR Back Office,Login,Login       0.71      0.97      0.82        64\n",
      "                         z_NCR Back Office,New Install,Outstanding Issue       1.00      0.55      0.71        11\n",
      "                                           z_NCR Back Office,Sales,Sales       0.83      0.97      0.89       119\n",
      "                                     z_NCR Back Office,Workflow,Workflow       1.00      0.22      0.36        18\n",
      "                         z_Other Peripherals,BOH Printer,Unable To Print       0.75      0.94      0.83        16\n",
      "                                z_Other Peripherals,Keyboard,Not Working       1.00      0.83      0.91         6\n",
      "                                 z_Other Peripherals,Monitor,Not Working       0.80      0.80      0.80        10\n",
      "                 z_Other Peripherals,Other Peripherals,Other Peripherals       1.00      0.30      0.46        10\n",
      "     z_Other,Non-Support related questions,Non-Support related questions       0.58      0.44      0.50        16\n",
      "                          z_PinPad / CC Machine,Display,Incorrect Screen       0.86      0.90      0.88        48\n",
      "                             z_PinPad / CC Machine,Won't Read,HW Failure       0.78      0.81      0.79        26\n",
      "                                        z_Printer,Faded Print,HW Failure       0.00      0.00      0.00        12\n",
      "                                         z_Printer,Failure,Configuration       0.00      0.00      0.00         6\n",
      "                                                   z_Printer,Other,Other       0.71      0.71      0.71        56\n",
      "                                              z_Printer,Power,HW Failure       0.00      0.00      0.00         8\n",
      "                                        z_Printer,Won't Print,HW Failure       0.75      0.96      0.84        97\n",
      "                            z_Remote Application Loader,Failure,Terminal       0.81      0.65      0.72        20\n",
      "          z_Remote Application Loader,Terminal Down,Communication Issues       0.57      0.33      0.42        12\n",
      "                                            z_Server,No Power,HW Failure       0.00      0.00      0.00        12\n",
      "                                             z_Server,Offline,HW Failure       0.78      0.43      0.55        42\n",
      "                                        z_Terminal,Communication,Network       0.00      0.00      0.00         6\n",
      "                                           z_Terminal,Offline,HW Failure       0.51      0.77      0.62        31\n",
      "                                             z_Terminal,Power,HW Failure       0.00      0.00      0.00         5\n",
      "                                     z_Terminal,Power,Randomly Shuts Off       0.00      0.00      0.00         8\n",
      "                                        z_Terminal,Power,Unable to Start       0.54      0.54      0.54        41\n",
      "                                      z_Terminal,Reboot Loop,Reboot Loop       0.00      0.00      0.00         8\n",
      "                                  z_Terminal,Slow / Lagging,Slow/Lagging       0.71      0.43      0.54        23\n",
      "                                   z_Terminal,Time / Date,Time Incorrect       0.00      0.00      0.00         5\n",
      "                                                z_Terminal,Windows,Other       0.48      0.79      0.60        39\n",
      "       z_Third Party,Internet Service Provider,Internet Service Provider       0.81      0.97      0.88        87\n",
      "           z_Third Party,Third Party Integration,Third Party Integration       0.68      0.47      0.56        32\n",
      "     z_Third Party,Third Party SW Not Working,Third Party SW Not Working       0.84      0.97      0.90       172\n",
      "\n",
      "                                                                accuracy                           0.77      2056\n",
      "                                                               macro avg       0.70      0.60      0.62      2056\n",
      "                                                            weighted avg       0.76      0.77      0.75      2056\n",
      "\n"
     ]
    },
    {
     "name": "stderr",
     "output_type": "stream",
     "text": [
      "C:\\Users\\DP185257\\Anaconda3\\lib\\site-packages\\sklearn\\metrics\\_classification.py:1248: UndefinedMetricWarning: Precision and F-score are ill-defined and being set to 0.0 in labels with no predicted samples. Use `zero_division` parameter to control this behavior.\n",
      "  _warn_prf(average, modifier, msg_start, len(result))\n",
      "C:\\Users\\DP185257\\Anaconda3\\lib\\site-packages\\sklearn\\metrics\\_classification.py:1248: UndefinedMetricWarning: Precision and F-score are ill-defined and being set to 0.0 in labels with no predicted samples. Use `zero_division` parameter to control this behavior.\n",
      "  _warn_prf(average, modifier, msg_start, len(result))\n",
      "C:\\Users\\DP185257\\Anaconda3\\lib\\site-packages\\sklearn\\metrics\\_classification.py:1248: UndefinedMetricWarning: Precision and F-score are ill-defined and being set to 0.0 in labels with no predicted samples. Use `zero_division` parameter to control this behavior.\n",
      "  _warn_prf(average, modifier, msg_start, len(result))\n"
     ]
    }
   ],
   "source": [
    "# PERFORMANCE IS VERY SIMILAR TO RANDOM FOREST TFIDF, NOT SIGNIFICANTLY BETTER/WORSE\n",
    "\n",
    "print(classification_report(y_test_tfidf,y_pred_log_tfidf))"
   ]
  },
  {
   "cell_type": "markdown",
   "id": "e0913923",
   "metadata": {},
   "source": [
    "***\n",
    "SVM.LINEARSVC- TFIDF\n",
    "***"
   ]
  },
  {
   "cell_type": "code",
   "execution_count": 115,
   "id": "04ed4a15",
   "metadata": {},
   "outputs": [],
   "source": [
    "# CREATE AND FIT LINEARSVC MODEL\n",
    "\n",
    "svm_model_tfidf= svm.LinearSVC(random_state=123)\n",
    "svm_model_tfidf.fit(X_train_tfidf, y_train_tfidf)\n",
    "y_pred_svm_tfidf= svm_model_tfidf.predict(X_test_tfidf)"
   ]
  },
  {
   "cell_type": "code",
   "execution_count": 116,
   "id": "0653e2da",
   "metadata": {
    "collapsed": true
   },
   "outputs": [
    {
     "name": "stdout",
     "output_type": "stream",
     "text": [
      "                                                                          precision    recall  f1-score   support\n",
      "\n",
      "                           z_Aloha Manager / CFC,Employees,Configuration       0.67      0.70      0.68        20\n",
      "                              z_Aloha POS,CTLSVR/Control Service,Stopped       0.88      0.97      0.92        31\n",
      "               z_Aloha POS,End Of Day,Waiting for End Of Day to Complete       1.00      0.94      0.97        18\n",
      "                          z_Aloha POS,Front Of House,Can't assign drawer       0.60      0.86      0.71         7\n",
      "                               z_Aloha POS,Front Of House,Checkout issue       0.54      0.81      0.65        16\n",
      "                    z_Aloha POS,Front Of House,Clock In/Clock Out issues       0.72      0.65      0.68        20\n",
      "                           z_Aloha POS,Front Of House,Enroll fingerprint       0.64      0.64      0.64        11\n",
      "                             z_Aloha POS,Front Of House,Missing employee       0.90      0.90      0.90       119\n",
      "                                  z_Aloha POS,Front Of House,Order Entry       0.43      0.25      0.32        12\n",
      "                                          z_Aloha POS,Menu,Configuration       0.67      0.33      0.44         6\n",
      "                                         z_Aloha POS,Price,Configuration       0.75      1.00      0.86         6\n",
      "                     z_Aloha POS,Site/Store Down,Determining File Server       0.77      0.88      0.82        96\n",
      "                       z_Aloha POS,Terminal Down,Determining File Server       0.93      0.70      0.80        56\n",
      "                  z_Aloha Payment Solution,D\\ No response,Front Of House       1.00      0.75      0.86         8\n",
      "                  z_Aloha Payment Solution,Service Back Of House,Stopped       1.00      0.89      0.94         9\n",
      "                              z_Aloha Takeout,Front Of House,Order Entry       0.67      0.53      0.59        15\n",
      "               z_Aloha Takeout,Front Of House,Redundancy / No Connection       0.96      0.97      0.97        73\n",
      "                                     z_Cash Drawer,Won't Open,HW Failure       0.84      0.95      0.89        22\n",
      "                  z_Electronic Draft Capture,Back Of House,Configuration       0.97      0.90      0.93        31\n",
      "                         z_Electronic Draft Capture,Back Of House,Refund       0.83      0.83      0.83         6\n",
      "z_Electronic Draft Capture,Front Of House,Unable to Process Credit Cards       0.89      0.86      0.88        37\n",
      "          z_Electronic Draft Capture,Settlement,Unable to Settle Batches       1.00      1.00      1.00         9\n",
      "    z_Electronic Draft Capture,Spooldown/Offline Mode,Processing Offline       0.81      0.93      0.87        14\n",
      "                                     z_File Server,Power,Unable to Start       0.29      0.22      0.25         9\n",
      "                                   z_File Server,Windows,Unable To Login       0.79      0.71      0.75        21\n",
      "                           z_Fingerprint Scanner,Scanner,Not Recognizing       0.68      0.68      0.68        25\n",
      "                                        z_GoLive,New Install,New Install       1.00      1.00      1.00         6\n",
      "                                            z_Hosted - Pulse,Pulse,Pulse       1.00      1.00      1.00        10\n",
      "                                     z_NCR Back Office,Database,Database       0.76      0.74      0.75        72\n",
      "                                   z_NCR Back Office,Inventory,Inventory       0.84      0.82      0.83        44\n",
      "                                       z_NCR Back Office,Invoice,Invoice       0.86      0.81      0.83        52\n",
      "                                           z_NCR Back Office,Labor,Labor       0.82      0.79      0.80       109\n",
      "                                           z_NCR Back Office,Login,Login       0.81      0.94      0.87        64\n",
      "                         z_NCR Back Office,New Install,Outstanding Issue       0.75      0.55      0.63        11\n",
      "                                           z_NCR Back Office,Sales,Sales       0.91      0.92      0.92       119\n",
      "                                     z_NCR Back Office,Workflow,Workflow       0.64      0.50      0.56        18\n",
      "                         z_Other Peripherals,BOH Printer,Unable To Print       0.88      0.94      0.91        16\n",
      "                                z_Other Peripherals,Keyboard,Not Working       0.83      0.83      0.83         6\n",
      "                                 z_Other Peripherals,Monitor,Not Working       0.90      0.90      0.90        10\n",
      "                 z_Other Peripherals,Other Peripherals,Other Peripherals       0.75      0.30      0.43        10\n",
      "     z_Other,Non-Support related questions,Non-Support related questions       0.60      0.56      0.58        16\n",
      "                          z_PinPad / CC Machine,Display,Incorrect Screen       0.86      0.90      0.88        48\n",
      "                             z_PinPad / CC Machine,Won't Read,HW Failure       0.77      0.77      0.77        26\n",
      "                                        z_Printer,Faded Print,HW Failure       0.33      0.08      0.13        12\n",
      "                                         z_Printer,Failure,Configuration       1.00      0.17      0.29         6\n",
      "                                                   z_Printer,Other,Other       0.72      0.79      0.75        56\n",
      "                                              z_Printer,Power,HW Failure       0.33      0.12      0.18         8\n",
      "                                        z_Printer,Won't Print,HW Failure       0.78      0.92      0.84        97\n",
      "                            z_Remote Application Loader,Failure,Terminal       0.79      0.75      0.77        20\n",
      "          z_Remote Application Loader,Terminal Down,Communication Issues       0.60      0.50      0.55        12\n",
      "                                            z_Server,No Power,HW Failure       0.20      0.08      0.12        12\n",
      "                                             z_Server,Offline,HW Failure       0.66      0.45      0.54        42\n",
      "                                        z_Terminal,Communication,Network       0.12      0.17      0.14         6\n",
      "                                           z_Terminal,Offline,HW Failure       0.55      0.74      0.63        31\n",
      "                                             z_Terminal,Power,HW Failure       0.00      0.00      0.00         5\n",
      "                                     z_Terminal,Power,Randomly Shuts Off       0.00      0.00      0.00         8\n",
      "                                        z_Terminal,Power,Unable to Start       0.52      0.54      0.53        41\n",
      "                                      z_Terminal,Reboot Loop,Reboot Loop       0.50      0.38      0.43         8\n",
      "                                  z_Terminal,Slow / Lagging,Slow/Lagging       0.69      0.48      0.56        23\n",
      "                                   z_Terminal,Time / Date,Time Incorrect       1.00      0.60      0.75         5\n",
      "                                                z_Terminal,Windows,Other       0.57      0.79      0.67        39\n",
      "       z_Third Party,Internet Service Provider,Internet Service Provider       0.81      0.95      0.88        87\n",
      "           z_Third Party,Third Party Integration,Third Party Integration       0.77      0.75      0.76        32\n",
      "     z_Third Party,Third Party SW Not Working,Third Party SW Not Working       0.91      0.97      0.94       172\n",
      "\n",
      "                                                                accuracy                           0.80      2056\n",
      "                                                               macro avg       0.72      0.68      0.68      2056\n",
      "                                                            weighted avg       0.79      0.80      0.79      2056\n",
      "\n"
     ]
    }
   ],
   "source": [
    "# SVM PERFORMANCE IS SEVERAL POINTS HIGHER THAN ANY PREVIOUS MODELS\n",
    "\n",
    "print(classification_report(y_test_tfidf,y_pred_svm_tfidf))"
   ]
  },
  {
   "cell_type": "code",
   "execution_count": 154,
   "id": "1760e937",
   "metadata": {
    "collapsed": true
   },
   "outputs": [
    {
     "data": {
      "text/plain": [
       "array([[7.41381125e-03, 1.20839084e-03, 1.21395516e-03, ...,\n",
       "        1.07679807e-04, 4.00166776e-03, 1.13770205e-02],\n",
       "       [2.15273986e-03, 1.49201052e-03, 8.69158669e-04, ...,\n",
       "        2.04517355e-03, 3.33509235e-03, 5.62746425e-03],\n",
       "       [1.39093227e-03, 3.66953327e-03, 8.32309983e-04, ...,\n",
       "        2.12795976e-03, 1.14649036e-02, 4.79317914e-05],\n",
       "       ...,\n",
       "       [7.52476895e-04, 1.51976775e-03, 8.66126538e-04, ...,\n",
       "        1.29813666e-04, 2.22322313e-03, 4.89338266e-03],\n",
       "       [5.47548601e-03, 3.71892758e-03, 1.81763790e-03, ...,\n",
       "        3.09549950e-03, 2.93547399e-03, 1.16036081e-02],\n",
       "       [1.21403666e-02, 1.03947633e-03, 1.00861899e-03, ...,\n",
       "        1.16849618e-03, 4.75450598e-03, 6.89946904e-01]])"
      ]
     },
     "execution_count": 154,
     "metadata": {},
     "output_type": "execute_result"
    }
   ],
   "source": [
    "'''calib= CalibratedClassifierCV(svm_model_tfidf)\n",
    "calib.fit(X_train_tfidf, y_train_tfidf)\n",
    "y_proba= calib.predict_proba(X_test_tfidf)'''\n",
    "# ATTEMPTED TO VISUALIZE CLASSIFICATION REPORT RESULTS, BUT THERE ARE TOO MANY FEATURES\n",
    "                # IT CRAMS THE FIGURE TOO MUCH FOR READABILITY"
   ]
  },
  {
   "cell_type": "markdown",
   "id": "0f53253c",
   "metadata": {},
   "source": [
    "### NON-VOCABULARY FEATURES ONLY"
   ]
  },
  {
   "cell_type": "code",
   "execution_count": 119,
   "id": "04078f76",
   "metadata": {},
   "outputs": [
    {
     "name": "stdout",
     "output_type": "stream",
     "text": [
      "(6166, 13) (2056, 13)\n",
      "(6166,) (2056,)\n"
     ]
    }
   ],
   "source": [
    "X_non= X.iloc[:,0:13]\n",
    "\n",
    "X_train_non, X_test_non, y_train_non, y_test_non = \\\n",
    "                                        train_test_split(X_non, y, test_size=0.25, random_state=123)\n",
    "print(X_train_non.shape, X_test_non.shape)\n",
    "print(y_train_non.shape, y_test_non.shape)"
   ]
  },
  {
   "cell_type": "code",
   "execution_count": 157,
   "id": "33175c4a",
   "metadata": {},
   "outputs": [
    {
     "data": {
      "text/plain": [
       "PowerTransformer()"
      ]
     },
     "execution_count": 157,
     "metadata": {},
     "output_type": "execute_result"
    }
   ],
   "source": [
    "# POWER TRANSFORM THE FEATURES AGAIN ON THE NON-TFIDF X\n",
    "\n",
    "pt = PowerTransformer()\n",
    "pt.fit(X_train_non)"
   ]
  },
  {
   "cell_type": "markdown",
   "id": "be50d808",
   "metadata": {},
   "source": [
    "***\n",
    "RANDOM FOREST- NON-TFIDF\n",
    "***"
   ]
  },
  {
   "cell_type": "code",
   "execution_count": 120,
   "id": "38f1f419",
   "metadata": {},
   "outputs": [],
   "source": [
    "rf_model_non= RandomForestClassifier(random_state=123)\n",
    "rf_model_non.fit(X_train_non, y_train_non)\n",
    "y_pred_rf_non= rf_model_non.predict(X_test_non)"
   ]
  },
  {
   "cell_type": "code",
   "execution_count": 121,
   "id": "9ddd46bb",
   "metadata": {
    "collapsed": true
   },
   "outputs": [
    {
     "name": "stdout",
     "output_type": "stream",
     "text": [
      "                                                                          precision    recall  f1-score   support\n",
      "\n",
      "                           z_Aloha Manager / CFC,Employees,Configuration       0.06      0.05      0.06        20\n",
      "                              z_Aloha POS,CTLSVR/Control Service,Stopped       0.57      0.55      0.56        31\n",
      "               z_Aloha POS,End Of Day,Waiting for End Of Day to Complete       0.53      0.56      0.54        18\n",
      "                          z_Aloha POS,Front Of House,Can't assign drawer       0.00      0.00      0.00         7\n",
      "                               z_Aloha POS,Front Of House,Checkout issue       0.20      0.19      0.19        16\n",
      "                    z_Aloha POS,Front Of House,Clock In/Clock Out issues       0.00      0.00      0.00        20\n",
      "                           z_Aloha POS,Front Of House,Enroll fingerprint       0.00      0.00      0.00        11\n",
      "                             z_Aloha POS,Front Of House,Missing employee       0.54      0.63      0.58       119\n",
      "                                  z_Aloha POS,Front Of House,Order Entry       0.00      0.00      0.00        12\n",
      "                                          z_Aloha POS,Menu,Configuration       0.00      0.00      0.00         6\n",
      "                                         z_Aloha POS,Price,Configuration       0.00      0.00      0.00         6\n",
      "                     z_Aloha POS,Site/Store Down,Determining File Server       0.54      0.55      0.55        96\n",
      "                       z_Aloha POS,Terminal Down,Determining File Server       0.20      0.16      0.18        56\n",
      "                  z_Aloha Payment Solution,D\\ No response,Front Of House       0.25      0.12      0.17         8\n",
      "                  z_Aloha Payment Solution,Service Back Of House,Stopped       0.89      0.89      0.89         9\n",
      "                              z_Aloha Takeout,Front Of House,Order Entry       0.00      0.00      0.00        15\n",
      "               z_Aloha Takeout,Front Of House,Redundancy / No Connection       0.59      0.60      0.60        73\n",
      "                                     z_Cash Drawer,Won't Open,HW Failure       0.18      0.23      0.20        22\n",
      "                  z_Electronic Draft Capture,Back Of House,Configuration       0.74      0.65      0.69        31\n",
      "                         z_Electronic Draft Capture,Back Of House,Refund       0.17      0.17      0.17         6\n",
      "z_Electronic Draft Capture,Front Of House,Unable to Process Credit Cards       0.45      0.51      0.48        37\n",
      "          z_Electronic Draft Capture,Settlement,Unable to Settle Batches       1.00      0.67      0.80         9\n",
      "    z_Electronic Draft Capture,Spooldown/Offline Mode,Processing Offline       0.50      0.79      0.61        14\n",
      "                                     z_File Server,Power,Unable to Start       0.25      0.11      0.15         9\n",
      "                                   z_File Server,Windows,Unable To Login       0.15      0.14      0.15        21\n",
      "                           z_Fingerprint Scanner,Scanner,Not Recognizing       0.19      0.20      0.20        25\n",
      "                                        z_GoLive,New Install,New Install       0.40      0.33      0.36         6\n",
      "                                            z_Hosted - Pulse,Pulse,Pulse       0.12      0.10      0.11        10\n",
      "                                     z_NCR Back Office,Database,Database       0.32      0.46      0.38        72\n",
      "                                   z_NCR Back Office,Inventory,Inventory       0.21      0.20      0.21        44\n",
      "                                       z_NCR Back Office,Invoice,Invoice       0.18      0.12      0.14        52\n",
      "                                           z_NCR Back Office,Labor,Labor       0.15      0.17      0.16       109\n",
      "                                           z_NCR Back Office,Login,Login       0.15      0.20      0.18        64\n",
      "                         z_NCR Back Office,New Install,Outstanding Issue       0.67      0.18      0.29        11\n",
      "                                           z_NCR Back Office,Sales,Sales       0.48      0.55      0.51       119\n",
      "                                     z_NCR Back Office,Workflow,Workflow       0.00      0.00      0.00        18\n",
      "                         z_Other Peripherals,BOH Printer,Unable To Print       0.20      0.12      0.15        16\n",
      "                                z_Other Peripherals,Keyboard,Not Working       0.00      0.00      0.00         6\n",
      "                                 z_Other Peripherals,Monitor,Not Working       0.00      0.00      0.00        10\n",
      "                 z_Other Peripherals,Other Peripherals,Other Peripherals       0.00      0.00      0.00        10\n",
      "     z_Other,Non-Support related questions,Non-Support related questions       0.27      0.25      0.26        16\n",
      "                          z_PinPad / CC Machine,Display,Incorrect Screen       0.36      0.40      0.38        48\n",
      "                             z_PinPad / CC Machine,Won't Read,HW Failure       0.19      0.19      0.19        26\n",
      "                                        z_Printer,Faded Print,HW Failure       0.00      0.00      0.00        12\n",
      "                                         z_Printer,Failure,Configuration       0.00      0.00      0.00         6\n",
      "                                                   z_Printer,Other,Other       0.18      0.25      0.21        56\n",
      "                                              z_Printer,Power,HW Failure       0.50      0.12      0.20         8\n",
      "                                        z_Printer,Won't Print,HW Failure       0.44      0.59      0.50        97\n",
      "                            z_Remote Application Loader,Failure,Terminal       0.00      0.00      0.00        20\n",
      "          z_Remote Application Loader,Terminal Down,Communication Issues       0.00      0.00      0.00        12\n",
      "                                            z_Server,No Power,HW Failure       0.00      0.00      0.00        12\n",
      "                                             z_Server,Offline,HW Failure       0.41      0.31      0.35        42\n",
      "                                        z_Terminal,Communication,Network       0.00      0.00      0.00         6\n",
      "                                           z_Terminal,Offline,HW Failure       0.10      0.06      0.08        31\n",
      "                                             z_Terminal,Power,HW Failure       0.00      0.00      0.00         5\n",
      "                                     z_Terminal,Power,Randomly Shuts Off       0.00      0.00      0.00         8\n",
      "                                        z_Terminal,Power,Unable to Start       0.10      0.07      0.08        41\n",
      "                                      z_Terminal,Reboot Loop,Reboot Loop       0.00      0.00      0.00         8\n",
      "                                  z_Terminal,Slow / Lagging,Slow/Lagging       0.22      0.09      0.12        23\n",
      "                                   z_Terminal,Time / Date,Time Incorrect       0.00      0.00      0.00         5\n",
      "                                                z_Terminal,Windows,Other       0.27      0.26      0.26        39\n",
      "       z_Third Party,Internet Service Provider,Internet Service Provider       0.52      0.66      0.58        87\n",
      "           z_Third Party,Third Party Integration,Third Party Integration       0.42      0.34      0.38        32\n",
      "     z_Third Party,Third Party SW Not Working,Third Party SW Not Working       0.56      0.59      0.57       172\n",
      "\n",
      "                                                                accuracy                           0.36      2056\n",
      "                                                               macro avg       0.24      0.22      0.23      2056\n",
      "                                                            weighted avg       0.34      0.36      0.35      2056\n",
      "\n"
     ]
    }
   ],
   "source": [
    "# THIS NON-TFIDF VERSION OF RANDOM FOREST IS FAR WORSE THAN PREVIOUS VERSIONS\n",
    "\n",
    "print(classification_report(y_test_non,y_pred_rf_non))"
   ]
  },
  {
   "cell_type": "markdown",
   "id": "de31e906",
   "metadata": {},
   "source": [
    "***\n",
    "GRADIENT BOOSTER- NON-TFIDF\n",
    "***"
   ]
  },
  {
   "cell_type": "code",
   "execution_count": 122,
   "id": "44f44535",
   "metadata": {},
   "outputs": [],
   "source": [
    "grad_model_non= GradientBoostingClassifier(random_state=123)\n",
    "grad_model_non.fit(X_train_non, y_train_non)\n",
    "y_pred_grad_non= grad_model_non.predict(X_test_non)"
   ]
  },
  {
   "cell_type": "code",
   "execution_count": 125,
   "id": "039d9dbd",
   "metadata": {
    "collapsed": true
   },
   "outputs": [
    {
     "name": "stdout",
     "output_type": "stream",
     "text": [
      "                                                                          precision    recall  f1-score   support\n",
      "\n",
      "                           z_Aloha Manager / CFC,Employees,Configuration       0.12      0.05      0.07        20\n",
      "                              z_Aloha POS,CTLSVR/Control Service,Stopped       0.56      0.45      0.50        31\n",
      "               z_Aloha POS,End Of Day,Waiting for End Of Day to Complete       0.67      0.56      0.61        18\n",
      "                          z_Aloha POS,Front Of House,Can't assign drawer       0.00      0.00      0.00         7\n",
      "                               z_Aloha POS,Front Of House,Checkout issue       0.00      0.00      0.00        16\n",
      "                    z_Aloha POS,Front Of House,Clock In/Clock Out issues       0.00      0.00      0.00        20\n",
      "                           z_Aloha POS,Front Of House,Enroll fingerprint       0.00      0.00      0.00        11\n",
      "                             z_Aloha POS,Front Of House,Missing employee       0.59      0.65      0.62       119\n",
      "                                  z_Aloha POS,Front Of House,Order Entry       0.00      0.00      0.00        12\n",
      "                                          z_Aloha POS,Menu,Configuration       0.00      0.00      0.00         6\n",
      "                                         z_Aloha POS,Price,Configuration       0.00      0.00      0.00         6\n",
      "                     z_Aloha POS,Site/Store Down,Determining File Server       0.59      0.58      0.59        96\n",
      "                       z_Aloha POS,Terminal Down,Determining File Server       0.30      0.27      0.28        56\n",
      "                  z_Aloha Payment Solution,D\\ No response,Front Of House       0.43      0.38      0.40         8\n",
      "                  z_Aloha Payment Solution,Service Back Of House,Stopped       1.00      0.89      0.94         9\n",
      "                              z_Aloha Takeout,Front Of House,Order Entry       0.00      0.00      0.00        15\n",
      "               z_Aloha Takeout,Front Of House,Redundancy / No Connection       0.73      0.59      0.65        73\n",
      "                                     z_Cash Drawer,Won't Open,HW Failure       0.19      0.18      0.19        22\n",
      "                  z_Electronic Draft Capture,Back Of House,Configuration       0.67      0.65      0.66        31\n",
      "                         z_Electronic Draft Capture,Back Of House,Refund       0.00      0.00      0.00         6\n",
      "z_Electronic Draft Capture,Front Of House,Unable to Process Credit Cards       0.34      0.38      0.36        37\n",
      "          z_Electronic Draft Capture,Settlement,Unable to Settle Batches       0.60      0.67      0.63         9\n",
      "    z_Electronic Draft Capture,Spooldown/Offline Mode,Processing Offline       0.56      0.71      0.63        14\n",
      "                                     z_File Server,Power,Unable to Start       0.11      0.11      0.11         9\n",
      "                                   z_File Server,Windows,Unable To Login       0.11      0.10      0.10        21\n",
      "                           z_Fingerprint Scanner,Scanner,Not Recognizing       0.16      0.12      0.14        25\n",
      "                                        z_GoLive,New Install,New Install       0.17      0.17      0.17         6\n",
      "                                            z_Hosted - Pulse,Pulse,Pulse       0.00      0.00      0.00        10\n",
      "                                     z_NCR Back Office,Database,Database       0.34      0.40      0.37        72\n",
      "                                   z_NCR Back Office,Inventory,Inventory       0.21      0.16      0.18        44\n",
      "                                       z_NCR Back Office,Invoice,Invoice       0.23      0.23      0.23        52\n",
      "                                           z_NCR Back Office,Labor,Labor       0.13      0.21      0.16       109\n",
      "                                           z_NCR Back Office,Login,Login       0.16      0.28      0.20        64\n",
      "                         z_NCR Back Office,New Install,Outstanding Issue       0.29      0.18      0.22        11\n",
      "                                           z_NCR Back Office,Sales,Sales       0.47      0.58      0.52       119\n",
      "                                     z_NCR Back Office,Workflow,Workflow       0.08      0.06      0.07        18\n",
      "                         z_Other Peripherals,BOH Printer,Unable To Print       0.29      0.12      0.17        16\n",
      "                                z_Other Peripherals,Keyboard,Not Working       0.00      0.00      0.00         6\n",
      "                                 z_Other Peripherals,Monitor,Not Working       0.00      0.00      0.00        10\n",
      "                 z_Other Peripherals,Other Peripherals,Other Peripherals       0.00      0.00      0.00        10\n",
      "     z_Other,Non-Support related questions,Non-Support related questions       0.25      0.12      0.17        16\n",
      "                          z_PinPad / CC Machine,Display,Incorrect Screen       0.40      0.48      0.43        48\n",
      "                             z_PinPad / CC Machine,Won't Read,HW Failure       0.20      0.15      0.17        26\n",
      "                                        z_Printer,Faded Print,HW Failure       0.00      0.00      0.00        12\n",
      "                                         z_Printer,Failure,Configuration       0.00      0.00      0.00         6\n",
      "                                                   z_Printer,Other,Other       0.32      0.39      0.35        56\n",
      "                                              z_Printer,Power,HW Failure       0.00      0.00      0.00         8\n",
      "                                        z_Printer,Won't Print,HW Failure       0.44      0.49      0.47        97\n",
      "                            z_Remote Application Loader,Failure,Terminal       0.00      0.00      0.00        20\n",
      "          z_Remote Application Loader,Terminal Down,Communication Issues       0.00      0.00      0.00        12\n",
      "                                            z_Server,No Power,HW Failure       0.12      0.08      0.10        12\n",
      "                                             z_Server,Offline,HW Failure       0.27      0.14      0.19        42\n",
      "                                        z_Terminal,Communication,Network       0.00      0.00      0.00         6\n",
      "                                           z_Terminal,Offline,HW Failure       0.12      0.10      0.11        31\n",
      "                                             z_Terminal,Power,HW Failure       0.00      0.00      0.00         5\n",
      "                                     z_Terminal,Power,Randomly Shuts Off       0.00      0.00      0.00         8\n",
      "                                        z_Terminal,Power,Unable to Start       0.05      0.02      0.03        41\n",
      "                                      z_Terminal,Reboot Loop,Reboot Loop       0.00      0.00      0.00         8\n",
      "                                  z_Terminal,Slow / Lagging,Slow/Lagging       0.00      0.00      0.00        23\n",
      "                                   z_Terminal,Time / Date,Time Incorrect       0.00      0.00      0.00         5\n",
      "                                                z_Terminal,Windows,Other       0.20      0.28      0.23        39\n",
      "       z_Third Party,Internet Service Provider,Internet Service Provider       0.58      0.66      0.61        87\n",
      "           z_Third Party,Third Party Integration,Third Party Integration       0.29      0.22      0.25        32\n",
      "     z_Third Party,Third Party SW Not Working,Third Party SW Not Working       0.60      0.57      0.59       172\n",
      "\n",
      "                                                                accuracy                           0.36      2056\n",
      "                                                               macro avg       0.22      0.21      0.21      2056\n",
      "                                                            weighted avg       0.35      0.36      0.35      2056\n",
      "\n"
     ]
    }
   ],
   "source": [
    "# MILDLY OUTPERFORMED THE POOR PERFORMANCE OF NON-TFIDF RF\n",
    "\n",
    "print(classification_report(y_test_non, y_pred_grad_non))"
   ]
  },
  {
   "cell_type": "markdown",
   "id": "86324aa2",
   "metadata": {},
   "source": [
    "***\n",
    "SVM.LINEARSVC- NON-TFIDF\n",
    "***"
   ]
  },
  {
   "cell_type": "code",
   "execution_count": 128,
   "id": "e8a2df56",
   "metadata": {},
   "outputs": [
    {
     "name": "stderr",
     "output_type": "stream",
     "text": [
      "C:\\Users\\DP185257\\Anaconda3\\lib\\site-packages\\sklearn\\svm\\_base.py:985: ConvergenceWarning: Liblinear failed to converge, increase the number of iterations.\n",
      "  warnings.warn(\"Liblinear failed to converge, increase \"\n"
     ]
    }
   ],
   "source": [
    "# CREATE AND FIT LINEARSVC MODEL\n",
    "\n",
    "svm_model_non= svm.LinearSVC(random_state=123)\n",
    "svm_model_non.fit(X_train_non, y_train_non)\n",
    "y_pred_svm_non= svm_model_non.predict(X_test_non)"
   ]
  },
  {
   "cell_type": "code",
   "execution_count": 129,
   "id": "61818b76",
   "metadata": {
    "collapsed": true
   },
   "outputs": [
    {
     "name": "stdout",
     "output_type": "stream",
     "text": [
      "                                                                          precision    recall  f1-score   support\n",
      "\n",
      "                           z_Aloha Manager / CFC,Employees,Configuration       0.00      0.00      0.00        20\n",
      "                              z_Aloha POS,CTLSVR/Control Service,Stopped       0.00      0.00      0.00        31\n",
      "               z_Aloha POS,End Of Day,Waiting for End Of Day to Complete       0.00      0.00      0.00        18\n",
      "                          z_Aloha POS,Front Of House,Can't assign drawer       0.00      0.00      0.00         7\n",
      "                               z_Aloha POS,Front Of House,Checkout issue       0.00      0.00      0.00        16\n",
      "                    z_Aloha POS,Front Of House,Clock In/Clock Out issues       0.00      0.00      0.00        20\n",
      "                           z_Aloha POS,Front Of House,Enroll fingerprint       0.00      0.00      0.00        11\n",
      "                             z_Aloha POS,Front Of House,Missing employee       0.19      0.60      0.29       119\n",
      "                                  z_Aloha POS,Front Of House,Order Entry       0.00      0.00      0.00        12\n",
      "                                          z_Aloha POS,Menu,Configuration       0.00      0.00      0.00         6\n",
      "                                         z_Aloha POS,Price,Configuration       0.00      0.00      0.00         6\n",
      "                     z_Aloha POS,Site/Store Down,Determining File Server       0.00      0.00      0.00        96\n",
      "                       z_Aloha POS,Terminal Down,Determining File Server       0.00      0.00      0.00        56\n",
      "                  z_Aloha Payment Solution,D\\ No response,Front Of House       0.00      0.00      0.00         8\n",
      "                  z_Aloha Payment Solution,Service Back Of House,Stopped       0.00      0.00      0.00         9\n",
      "                              z_Aloha Takeout,Front Of House,Order Entry       0.00      0.00      0.00        15\n",
      "               z_Aloha Takeout,Front Of House,Redundancy / No Connection       0.00      0.00      0.00        73\n",
      "                                     z_Cash Drawer,Won't Open,HW Failure       0.00      0.00      0.00        22\n",
      "                  z_Electronic Draft Capture,Back Of House,Configuration       0.00      0.00      0.00        31\n",
      "                         z_Electronic Draft Capture,Back Of House,Refund       0.00      0.00      0.00         6\n",
      "z_Electronic Draft Capture,Front Of House,Unable to Process Credit Cards       0.00      0.00      0.00        37\n",
      "          z_Electronic Draft Capture,Settlement,Unable to Settle Batches       0.00      0.00      0.00         9\n",
      "    z_Electronic Draft Capture,Spooldown/Offline Mode,Processing Offline       0.00      0.00      0.00        14\n",
      "                                     z_File Server,Power,Unable to Start       0.00      0.00      0.00         9\n",
      "                                   z_File Server,Windows,Unable To Login       0.00      0.00      0.00        21\n",
      "                           z_Fingerprint Scanner,Scanner,Not Recognizing       0.00      0.00      0.00        25\n",
      "                                        z_GoLive,New Install,New Install       0.00      0.00      0.00         6\n",
      "                                            z_Hosted - Pulse,Pulse,Pulse       0.00      0.00      0.00        10\n",
      "                                     z_NCR Back Office,Database,Database       0.00      0.00      0.00        72\n",
      "                                   z_NCR Back Office,Inventory,Inventory       0.33      0.05      0.08        44\n",
      "                                       z_NCR Back Office,Invoice,Invoice       0.00      0.00      0.00        52\n",
      "                                           z_NCR Back Office,Labor,Labor       0.00      0.00      0.00       109\n",
      "                                           z_NCR Back Office,Login,Login       0.00      0.00      0.00        64\n",
      "                         z_NCR Back Office,New Install,Outstanding Issue       0.00      0.00      0.00        11\n",
      "                                           z_NCR Back Office,Sales,Sales       0.00      0.00      0.00       119\n",
      "                                     z_NCR Back Office,Workflow,Workflow       0.00      0.00      0.00        18\n",
      "                         z_Other Peripherals,BOH Printer,Unable To Print       0.00      0.00      0.00        16\n",
      "                                z_Other Peripherals,Keyboard,Not Working       0.00      0.00      0.00         6\n",
      "                                 z_Other Peripherals,Monitor,Not Working       0.00      0.00      0.00        10\n",
      "                 z_Other Peripherals,Other Peripherals,Other Peripherals       0.00      0.00      0.00        10\n",
      "     z_Other,Non-Support related questions,Non-Support related questions       0.00      0.00      0.00        16\n",
      "                          z_PinPad / CC Machine,Display,Incorrect Screen       0.00      0.00      0.00        48\n",
      "                             z_PinPad / CC Machine,Won't Read,HW Failure       0.00      0.00      0.00        26\n",
      "                                        z_Printer,Faded Print,HW Failure       0.00      0.00      0.00        12\n",
      "                                         z_Printer,Failure,Configuration       0.00      0.00      0.00         6\n",
      "                                                   z_Printer,Other,Other       0.00      0.00      0.00        56\n",
      "                                              z_Printer,Power,HW Failure       0.00      0.00      0.00         8\n",
      "                                        z_Printer,Won't Print,HW Failure       0.00      0.00      0.00        97\n",
      "                            z_Remote Application Loader,Failure,Terminal       0.00      0.00      0.00        20\n",
      "          z_Remote Application Loader,Terminal Down,Communication Issues       0.00      0.00      0.00        12\n",
      "                                            z_Server,No Power,HW Failure       0.00      0.00      0.00        12\n",
      "                                             z_Server,Offline,HW Failure       0.00      0.00      0.00        42\n",
      "                                        z_Terminal,Communication,Network       0.00      0.00      0.00         6\n",
      "                                           z_Terminal,Offline,HW Failure       0.00      0.00      0.00        31\n",
      "                                             z_Terminal,Power,HW Failure       0.00      0.00      0.00         5\n",
      "                                     z_Terminal,Power,Randomly Shuts Off       0.00      0.00      0.00         8\n",
      "                                        z_Terminal,Power,Unable to Start       0.00      0.00      0.00        41\n",
      "                                      z_Terminal,Reboot Loop,Reboot Loop       0.00      0.00      0.00         8\n",
      "                                  z_Terminal,Slow / Lagging,Slow/Lagging       0.00      0.00      0.00        23\n",
      "                                   z_Terminal,Time / Date,Time Incorrect       0.00      0.00      0.00         5\n",
      "                                                z_Terminal,Windows,Other       0.00      0.00      0.00        39\n",
      "       z_Third Party,Internet Service Provider,Internet Service Provider       0.00      0.00      0.00        87\n",
      "           z_Third Party,Third Party Integration,Third Party Integration       0.00      0.00      0.00        32\n",
      "     z_Third Party,Third Party SW Not Working,Third Party SW Not Working       0.10      0.94      0.18       172\n",
      "\n",
      "                                                                accuracy                           0.11      2056\n",
      "                                                               macro avg       0.01      0.02      0.01      2056\n",
      "                                                            weighted avg       0.03      0.11      0.03      2056\n",
      "\n"
     ]
    },
    {
     "name": "stderr",
     "output_type": "stream",
     "text": [
      "C:\\Users\\DP185257\\Anaconda3\\lib\\site-packages\\sklearn\\metrics\\_classification.py:1248: UndefinedMetricWarning: Precision and F-score are ill-defined and being set to 0.0 in labels with no predicted samples. Use `zero_division` parameter to control this behavior.\n",
      "  _warn_prf(average, modifier, msg_start, len(result))\n",
      "C:\\Users\\DP185257\\Anaconda3\\lib\\site-packages\\sklearn\\metrics\\_classification.py:1248: UndefinedMetricWarning: Precision and F-score are ill-defined and being set to 0.0 in labels with no predicted samples. Use `zero_division` parameter to control this behavior.\n",
      "  _warn_prf(average, modifier, msg_start, len(result))\n",
      "C:\\Users\\DP185257\\Anaconda3\\lib\\site-packages\\sklearn\\metrics\\_classification.py:1248: UndefinedMetricWarning: Precision and F-score are ill-defined and being set to 0.0 in labels with no predicted samples. Use `zero_division` parameter to control this behavior.\n",
      "  _warn_prf(average, modifier, msg_start, len(result))\n"
     ]
    }
   ],
   "source": [
    "# SVM PERFORMANCE FOR NON-TFIDF IS THE WORST OF ANY MODEL YET \n",
    "\n",
    "print(classification_report(y_test_non,y_pred_svm_non))"
   ]
  },
  {
   "cell_type": "markdown",
   "id": "45b46131",
   "metadata": {},
   "source": [
    "Clearly, we are seeing the most patterns available from just the TFIDF input. "
   ]
  },
  {
   "cell_type": "markdown",
   "id": "97186799",
   "metadata": {},
   "source": [
    "### OPTIMIZE BEST MODEL- TFIDF LINEARSVC"
   ]
  },
  {
   "cell_type": "code",
   "execution_count": 140,
   "id": "f0243b87",
   "metadata": {},
   "outputs": [
    {
     "name": "stderr",
     "output_type": "stream",
     "text": [
      "C:\\Users\\DP185257\\Anaconda3\\lib\\site-packages\\sklearn\\model_selection\\_search.py:285: UserWarning: The total space of parameters 6 is smaller than n_iter=9. Running 6 iterations. For exhaustive searches, use GridSearchCV.\n",
      "  warnings.warn(\n"
     ]
    },
    {
     "data": {
      "text/plain": [
       "HalvingRandomSearchCV(estimator=LinearSVC(random_state=123),\n",
       "                      param_distributions={'C': [0.1, 1, 10],\n",
       "                                           'loss': ['hinge', 'squared_hinge']},\n",
       "                      refit=<function _refit_callable at 0x00000239A68C0AF0>)"
      ]
     },
     "execution_count": 140,
     "metadata": {},
     "output_type": "execute_result"
    }
   ],
   "source": [
    "param_grid= {'C':[0.1, 1, 10], \"loss\":['hinge','squared_hinge']}\n",
    "\n",
    "hrs= HalvingRandomSearchCV(svm_model_tfidf, param_grid)\n",
    "hrs.fit(X_train_tfidf, y_train_tfidf)"
   ]
  },
  {
   "cell_type": "code",
   "execution_count": 141,
   "id": "1ade1785",
   "metadata": {},
   "outputs": [
    {
     "data": {
      "text/plain": [
       "{'loss': 'squared_hinge', 'C': 1}"
      ]
     },
     "execution_count": 141,
     "metadata": {},
     "output_type": "execute_result"
    }
   ],
   "source": [
    "# DETERMINE BEST PARAMETERS FOR LINEARSVC\n",
    "\n",
    "hrs.best_params_"
   ]
  },
  {
   "cell_type": "markdown",
   "id": "2eeee8a6",
   "metadata": {},
   "source": [
    "These parameters are the same as the default params of the SVC model, so no further tuning is necessary"
   ]
  },
  {
   "cell_type": "markdown",
   "id": "3030d641",
   "metadata": {},
   "source": [
    "### Conclusions"
   ]
  },
  {
   "cell_type": "markdown",
   "id": "8527688e",
   "metadata": {},
   "source": [
    "In the goal of taking helpdesk ticket data and classifying it into the available labels for categorization, this project was not as successful as I had hoped. Success was limited by the lack of text data cleanliness; additionally, the huge number of target prediction classes meant that even this large ~10K-row dataset was not able to allow for sufficient model training on some unrepresented classes. \n",
    "\n",
    "The freeform text fields (Problem Notes, Action Notes) appear to hold the most value in pattern identification, and if further pre-processing was done to clean up the content of them, their value could be recognized even further. Even still, the scores were not too bad for about half of the classes, and it is likely that performance can be improved even further via implementation of the steps listed in Future Scope. \n",
    "\n",
    "##### Business Insight\n",
    "This tool could be used in its current form to make specific classifications on huge amounts of helpdesk ticket data, which could serve to lower training costs and improve data accuracy. Improved data accuracy could be used by Product teams to better understand bugs and gaps in their software and make improvements on behalf of the users"
   ]
  },
  {
   "cell_type": "markdown",
   "id": "4a1893d5",
   "metadata": {},
   "source": [
    "***\n",
    "FUTURE SCOPE\n",
    "***"
   ]
  },
  {
   "cell_type": "markdown",
   "id": "52ac19d4",
   "metadata": {},
   "source": [
    "1. Larger dataset to give more rows for each class in the target variable\n",
    "2. Try more n-grams, such as 3 or even 4\n",
    "3. Reduce target classes to fewer selections to improve scores for remaining classes\n",
    "4. Neural net model\n",
    "5. Better text pre-processing of Action Notes, which are cluttered with irrelevant words, e.g. email headers, agent IDs, date/times, etc\n",
    "6. "
   ]
  }
 ],
 "metadata": {
  "kernelspec": {
   "display_name": "Python 3 (ipykernel)",
   "language": "python",
   "name": "python3"
  },
  "language_info": {
   "codemirror_mode": {
    "name": "ipython",
    "version": 3
   },
   "file_extension": ".py",
   "mimetype": "text/x-python",
   "name": "python",
   "nbconvert_exporter": "python",
   "pygments_lexer": "ipython3",
   "version": "3.9.7"
  }
 },
 "nbformat": 4,
 "nbformat_minor": 5
}
